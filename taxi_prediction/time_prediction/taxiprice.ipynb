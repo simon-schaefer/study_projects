{
 "cells": [
  {
   "cell_type": "markdown",
   "metadata": {},
   "source": [
    "# Structured and time series data"
   ]
  },
  {
   "cell_type": "code",
   "execution_count": 4,
   "metadata": {},
   "outputs": [],
   "source": [
    "%matplotlib inline\n",
    "%reload_ext autoreload\n",
    "%autoreload 2"
   ]
  },
  {
   "cell_type": "code",
   "execution_count": 5,
   "metadata": {},
   "outputs": [],
   "source": [
    "import torch"
   ]
  },
  {
   "cell_type": "code",
   "execution_count": 6,
   "metadata": {},
   "outputs": [],
   "source": [
    "from fastai.structured import *\n",
    "from fastai.column_data import *\n",
    "from datetime import *\n",
    "from math import *\n",
    "np.set_printoptions(threshold=50, edgeitems=20)\n",
    "\n",
    "PATH='data/taxiprice/'"
   ]
  },
  {
   "cell_type": "markdown",
   "metadata": {
    "collapsed": true,
    "heading_collapsed": true,
    "scrolled": false
   },
   "source": [
    "## Create datasets"
   ]
  },
  {
   "cell_type": "code",
   "execution_count": 6,
   "metadata": {
    "hidden": true
   },
   "outputs": [],
   "source": [
    "table_names = ['train', 'test']"
   ]
  },
  {
   "cell_type": "code",
   "execution_count": 7,
   "metadata": {
    "hidden": true
   },
   "outputs": [],
   "source": [
    "tables = [pd.read_csv(f'{PATH}{fname}.csv', low_memory=False) for fname in table_names]"
   ]
  },
  {
   "cell_type": "code",
   "execution_count": 8,
   "metadata": {
    "hidden": true
   },
   "outputs": [],
   "source": [
    "from IPython.display import HTML"
   ]
  },
  {
   "cell_type": "code",
   "execution_count": 9,
   "metadata": {
    "hidden": true,
    "scrolled": true
   },
   "outputs": [
    {
     "data": {
      "text/html": [
       "<div>\n",
       "<style scoped>\n",
       "    .dataframe tbody tr th:only-of-type {\n",
       "        vertical-align: middle;\n",
       "    }\n",
       "\n",
       "    .dataframe tbody tr th {\n",
       "        vertical-align: top;\n",
       "    }\n",
       "\n",
       "    .dataframe thead th {\n",
       "        text-align: right;\n",
       "    }\n",
       "</style>\n",
       "<table border=\"1\" class=\"dataframe\">\n",
       "  <thead>\n",
       "    <tr style=\"text-align: right;\">\n",
       "      <th></th>\n",
       "      <th>ID</th>\n",
       "      <th>TAXI_ID</th>\n",
       "      <th>TIMESTAMP</th>\n",
       "      <th>DURATION</th>\n",
       "      <th>X_START</th>\n",
       "      <th>Y_START</th>\n",
       "      <th>X_END</th>\n",
       "      <th>Y_END</th>\n",
       "      <th>X_TRAJECTORY</th>\n",
       "      <th>Y_TRAJECTORY</th>\n",
       "      <th>TRAJ_LENGTH</th>\n",
       "    </tr>\n",
       "  </thead>\n",
       "  <tbody>\n",
       "    <tr>\n",
       "      <th>0</th>\n",
       "      <td>1</td>\n",
       "      <td>127</td>\n",
       "      <td>2009-03-07 07:48:56</td>\n",
       "      <td>223</td>\n",
       "      <td>-223</td>\n",
       "      <td>-350</td>\n",
       "      <td>-124</td>\n",
       "      <td>-39</td>\n",
       "      <td>-223, -225, -225, -221, -217, -209, -212, -204...</td>\n",
       "      <td>-350, -347, -342, -336, -329, -321, -324, -324...</td>\n",
       "      <td>439</td>\n",
       "    </tr>\n",
       "    <tr>\n",
       "      <th>1</th>\n",
       "      <td>2</td>\n",
       "      <td>420</td>\n",
       "      <td>2008-07-18 09:24:20</td>\n",
       "      <td>359</td>\n",
       "      <td>-257</td>\n",
       "      <td>-73</td>\n",
       "      <td>-326</td>\n",
       "      <td>-292</td>\n",
       "      <td>-257, -257, -260, -262, -263, -263, -262, -262...</td>\n",
       "      <td>-73, -75, -86, -100, -111, -121, -133, -138, -...</td>\n",
       "      <td>260</td>\n",
       "    </tr>\n",
       "    <tr>\n",
       "      <th>2</th>\n",
       "      <td>3</td>\n",
       "      <td>56</td>\n",
       "      <td>2009-03-10 10:29:21</td>\n",
       "      <td>162</td>\n",
       "      <td>-320</td>\n",
       "      <td>-300</td>\n",
       "      <td>-332</td>\n",
       "      <td>-254</td>\n",
       "      <td>-320, -324, -329, -334, -340, -340, -340, -340...</td>\n",
       "      <td>-300, -301, -301, -297, -298, -295, -295, -294...</td>\n",
       "      <td>135</td>\n",
       "    </tr>\n",
       "    <tr>\n",
       "      <th>3</th>\n",
       "      <td>4</td>\n",
       "      <td>133</td>\n",
       "      <td>2008-09-03 15:27:24</td>\n",
       "      <td>124</td>\n",
       "      <td>-352</td>\n",
       "      <td>-233</td>\n",
       "      <td>-380</td>\n",
       "      <td>-189</td>\n",
       "      <td>-352, -354, -356, -356, -356, -356, -356, -356...</td>\n",
       "      <td>-233, -233, -234, -234, -234, -233, -234, -230...</td>\n",
       "      <td>70</td>\n",
       "    </tr>\n",
       "    <tr>\n",
       "      <th>4</th>\n",
       "      <td>5</td>\n",
       "      <td>545</td>\n",
       "      <td>2008-09-22 13:15:52</td>\n",
       "      <td>219</td>\n",
       "      <td>-350</td>\n",
       "      <td>-232</td>\n",
       "      <td>-301</td>\n",
       "      <td>-300</td>\n",
       "      <td>-350, -350, -350, -350, -350, -352, -355, -354...</td>\n",
       "      <td>-232, -232, -232, -232, -232, -232, -233, -236...</td>\n",
       "      <td>117</td>\n",
       "    </tr>\n",
       "  </tbody>\n",
       "</table>\n",
       "</div>"
      ],
      "text/plain": [
       "   ID  TAXI_ID            TIMESTAMP  DURATION  X_START  Y_START  X_END  Y_END  \\\n",
       "0   1      127  2009-03-07 07:48:56       223     -223     -350   -124    -39   \n",
       "1   2      420  2008-07-18 09:24:20       359     -257      -73   -326   -292   \n",
       "2   3       56  2009-03-10 10:29:21       162     -320     -300   -332   -254   \n",
       "3   4      133  2008-09-03 15:27:24       124     -352     -233   -380   -189   \n",
       "4   5      545  2008-09-22 13:15:52       219     -350     -232   -301   -300   \n",
       "\n",
       "                                        X_TRAJECTORY  \\\n",
       "0  -223, -225, -225, -221, -217, -209, -212, -204...   \n",
       "1  -257, -257, -260, -262, -263, -263, -262, -262...   \n",
       "2  -320, -324, -329, -334, -340, -340, -340, -340...   \n",
       "3  -352, -354, -356, -356, -356, -356, -356, -356...   \n",
       "4  -350, -350, -350, -350, -350, -352, -355, -354...   \n",
       "\n",
       "                                        Y_TRAJECTORY  TRAJ_LENGTH  \n",
       "0  -350, -347, -342, -336, -329, -321, -324, -324...          439  \n",
       "1  -73, -75, -86, -100, -111, -121, -133, -138, -...          260  \n",
       "2  -300, -301, -301, -297, -298, -295, -295, -294...          135  \n",
       "3  -233, -233, -234, -234, -234, -233, -234, -230...           70  \n",
       "4  -232, -232, -232, -232, -232, -232, -233, -236...          117  "
      ]
     },
     "metadata": {},
     "output_type": "display_data"
    },
    {
     "data": {
      "text/html": [
       "<div>\n",
       "<style scoped>\n",
       "    .dataframe tbody tr th:only-of-type {\n",
       "        vertical-align: middle;\n",
       "    }\n",
       "\n",
       "    .dataframe tbody tr th {\n",
       "        vertical-align: top;\n",
       "    }\n",
       "\n",
       "    .dataframe thead th {\n",
       "        text-align: right;\n",
       "    }\n",
       "</style>\n",
       "<table border=\"1\" class=\"dataframe\">\n",
       "  <thead>\n",
       "    <tr style=\"text-align: right;\">\n",
       "      <th></th>\n",
       "      <th>ID</th>\n",
       "      <th>TAXI_ID</th>\n",
       "      <th>TIMESTAMP</th>\n",
       "      <th>X_START</th>\n",
       "      <th>Y_START</th>\n",
       "      <th>X_END</th>\n",
       "      <th>Y_END</th>\n",
       "    </tr>\n",
       "  </thead>\n",
       "  <tbody>\n",
       "    <tr>\n",
       "      <th>0</th>\n",
       "      <td>465173</td>\n",
       "      <td>251</td>\n",
       "      <td>2008-08-23 18:47:30</td>\n",
       "      <td>-331</td>\n",
       "      <td>-102</td>\n",
       "      <td>-396</td>\n",
       "      <td>-95</td>\n",
       "    </tr>\n",
       "    <tr>\n",
       "      <th>1</th>\n",
       "      <td>465174</td>\n",
       "      <td>560</td>\n",
       "      <td>2008-08-22 14:44:52</td>\n",
       "      <td>-293</td>\n",
       "      <td>-129</td>\n",
       "      <td>-275</td>\n",
       "      <td>-190</td>\n",
       "    </tr>\n",
       "    <tr>\n",
       "      <th>2</th>\n",
       "      <td>465175</td>\n",
       "      <td>212</td>\n",
       "      <td>2008-07-25 19:12:20</td>\n",
       "      <td>-381</td>\n",
       "      <td>-190</td>\n",
       "      <td>-285</td>\n",
       "      <td>-266</td>\n",
       "    </tr>\n",
       "    <tr>\n",
       "      <th>3</th>\n",
       "      <td>465176</td>\n",
       "      <td>279</td>\n",
       "      <td>2009-04-20 11:51:23</td>\n",
       "      <td>-150</td>\n",
       "      <td>-25</td>\n",
       "      <td>-153</td>\n",
       "      <td>-382</td>\n",
       "    </tr>\n",
       "    <tr>\n",
       "      <th>4</th>\n",
       "      <td>465177</td>\n",
       "      <td>84</td>\n",
       "      <td>2008-06-13 08:10:20</td>\n",
       "      <td>-326</td>\n",
       "      <td>-302</td>\n",
       "      <td>-350</td>\n",
       "      <td>-198</td>\n",
       "    </tr>\n",
       "  </tbody>\n",
       "</table>\n",
       "</div>"
      ],
      "text/plain": [
       "       ID  TAXI_ID            TIMESTAMP  X_START  Y_START  X_END  Y_END\n",
       "0  465173      251  2008-08-23 18:47:30     -331     -102   -396    -95\n",
       "1  465174      560  2008-08-22 14:44:52     -293     -129   -275   -190\n",
       "2  465175      212  2008-07-25 19:12:20     -381     -190   -285   -266\n",
       "3  465176      279  2009-04-20 11:51:23     -150      -25   -153   -382\n",
       "4  465177       84  2008-06-13 08:10:20     -326     -302   -350   -198"
      ]
     },
     "metadata": {},
     "output_type": "display_data"
    }
   ],
   "source": [
    "for t in tables: display(t.head())"
   ]
  },
  {
   "cell_type": "code",
   "execution_count": 11,
   "metadata": {
    "hidden": true,
    "scrolled": false
   },
   "outputs": [
    {
     "data": {
      "text/html": [
       "<div>\n",
       "<style scoped>\n",
       "    .dataframe tbody tr th:only-of-type {\n",
       "        vertical-align: middle;\n",
       "    }\n",
       "\n",
       "    .dataframe tbody tr th {\n",
       "        vertical-align: top;\n",
       "    }\n",
       "\n",
       "    .dataframe thead th {\n",
       "        text-align: right;\n",
       "    }\n",
       "</style>\n",
       "<table border=\"1\" class=\"dataframe\">\n",
       "  <thead>\n",
       "    <tr style=\"text-align: right;\">\n",
       "      <th></th>\n",
       "      <th>ID</th>\n",
       "      <th>TAXI_ID</th>\n",
       "      <th>TIMESTAMP</th>\n",
       "      <th>DURATION</th>\n",
       "      <th>X_START</th>\n",
       "      <th>Y_START</th>\n",
       "      <th>X_END</th>\n",
       "      <th>Y_END</th>\n",
       "      <th>X_TRAJECTORY</th>\n",
       "      <th>Y_TRAJECTORY</th>\n",
       "      <th>TRAJ_LENGTH</th>\n",
       "    </tr>\n",
       "  </thead>\n",
       "  <tbody>\n",
       "    <tr>\n",
       "      <th>count</th>\n",
       "      <td>465172</td>\n",
       "      <td>465172</td>\n",
       "      <td>NaN</td>\n",
       "      <td>465172</td>\n",
       "      <td>465172</td>\n",
       "      <td>465172</td>\n",
       "      <td>465172</td>\n",
       "      <td>465172</td>\n",
       "      <td>NaN</td>\n",
       "      <td>NaN</td>\n",
       "      <td>465172</td>\n",
       "    </tr>\n",
       "    <tr>\n",
       "      <th>mean</th>\n",
       "      <td>232586</td>\n",
       "      <td>324.12</td>\n",
       "      <td>NaN</td>\n",
       "      <td>253.242</td>\n",
       "      <td>-274.488</td>\n",
       "      <td>-248.023</td>\n",
       "      <td>-243.426</td>\n",
       "      <td>-238.723</td>\n",
       "      <td>NaN</td>\n",
       "      <td>NaN</td>\n",
       "      <td>242.228</td>\n",
       "    </tr>\n",
       "    <tr>\n",
       "      <th>std</th>\n",
       "      <td>134284</td>\n",
       "      <td>213.339</td>\n",
       "      <td>NaN</td>\n",
       "      <td>108.412</td>\n",
       "      <td>79.727</td>\n",
       "      <td>76.579</td>\n",
       "      <td>117.362</td>\n",
       "      <td>95.0577</td>\n",
       "      <td>NaN</td>\n",
       "      <td>NaN</td>\n",
       "      <td>149.919</td>\n",
       "    </tr>\n",
       "    <tr>\n",
       "      <th>min</th>\n",
       "      <td>1</td>\n",
       "      <td>1</td>\n",
       "      <td>NaN</td>\n",
       "      <td>120</td>\n",
       "      <td>-381</td>\n",
       "      <td>-415</td>\n",
       "      <td>-431</td>\n",
       "      <td>-419</td>\n",
       "      <td>NaN</td>\n",
       "      <td>NaN</td>\n",
       "      <td>21</td>\n",
       "    </tr>\n",
       "    <tr>\n",
       "      <th>25%</th>\n",
       "      <td>116294</td>\n",
       "      <td>148</td>\n",
       "      <td>NaN</td>\n",
       "      <td>174</td>\n",
       "      <td>-340</td>\n",
       "      <td>-296</td>\n",
       "      <td>-330</td>\n",
       "      <td>-300</td>\n",
       "      <td>NaN</td>\n",
       "      <td>NaN</td>\n",
       "      <td>137</td>\n",
       "    </tr>\n",
       "    <tr>\n",
       "      <th>50%</th>\n",
       "      <td>232586</td>\n",
       "      <td>298</td>\n",
       "      <td>NaN</td>\n",
       "      <td>226</td>\n",
       "      <td>-296</td>\n",
       "      <td>-272</td>\n",
       "      <td>-267</td>\n",
       "      <td>-263</td>\n",
       "      <td>NaN</td>\n",
       "      <td>NaN</td>\n",
       "      <td>200</td>\n",
       "    </tr>\n",
       "    <tr>\n",
       "      <th>75%</th>\n",
       "      <td>348879</td>\n",
       "      <td>454</td>\n",
       "      <td>NaN</td>\n",
       "      <td>301</td>\n",
       "      <td>-223</td>\n",
       "      <td>-202</td>\n",
       "      <td>-190</td>\n",
       "      <td>-191</td>\n",
       "      <td>NaN</td>\n",
       "      <td>NaN</td>\n",
       "      <td>303</td>\n",
       "    </tr>\n",
       "    <tr>\n",
       "      <th>max</th>\n",
       "      <td>465172</td>\n",
       "      <td>800</td>\n",
       "      <td>NaN</td>\n",
       "      <td>883</td>\n",
       "      <td>-42</td>\n",
       "      <td>-12</td>\n",
       "      <td>426</td>\n",
       "      <td>68</td>\n",
       "      <td>NaN</td>\n",
       "      <td>NaN</td>\n",
       "      <td>999</td>\n",
       "    </tr>\n",
       "    <tr>\n",
       "      <th>counts</th>\n",
       "      <td>465172</td>\n",
       "      <td>465172</td>\n",
       "      <td>465172</td>\n",
       "      <td>465172</td>\n",
       "      <td>465172</td>\n",
       "      <td>465172</td>\n",
       "      <td>465172</td>\n",
       "      <td>465172</td>\n",
       "      <td>465172</td>\n",
       "      <td>465172</td>\n",
       "      <td>465172</td>\n",
       "    </tr>\n",
       "    <tr>\n",
       "      <th>uniques</th>\n",
       "      <td>465172</td>\n",
       "      <td>800</td>\n",
       "      <td>461201</td>\n",
       "      <td>752</td>\n",
       "      <td>340</td>\n",
       "      <td>404</td>\n",
       "      <td>849</td>\n",
       "      <td>488</td>\n",
       "      <td>465172</td>\n",
       "      <td>465172</td>\n",
       "      <td>979</td>\n",
       "    </tr>\n",
       "    <tr>\n",
       "      <th>missing</th>\n",
       "      <td>0</td>\n",
       "      <td>0</td>\n",
       "      <td>0</td>\n",
       "      <td>0</td>\n",
       "      <td>0</td>\n",
       "      <td>0</td>\n",
       "      <td>0</td>\n",
       "      <td>0</td>\n",
       "      <td>0</td>\n",
       "      <td>0</td>\n",
       "      <td>0</td>\n",
       "    </tr>\n",
       "    <tr>\n",
       "      <th>missing_perc</th>\n",
       "      <td>0%</td>\n",
       "      <td>0%</td>\n",
       "      <td>0%</td>\n",
       "      <td>0%</td>\n",
       "      <td>0%</td>\n",
       "      <td>0%</td>\n",
       "      <td>0%</td>\n",
       "      <td>0%</td>\n",
       "      <td>0%</td>\n",
       "      <td>0%</td>\n",
       "      <td>0%</td>\n",
       "    </tr>\n",
       "    <tr>\n",
       "      <th>types</th>\n",
       "      <td>numeric</td>\n",
       "      <td>numeric</td>\n",
       "      <td>categorical</td>\n",
       "      <td>numeric</td>\n",
       "      <td>numeric</td>\n",
       "      <td>numeric</td>\n",
       "      <td>numeric</td>\n",
       "      <td>numeric</td>\n",
       "      <td>unique</td>\n",
       "      <td>unique</td>\n",
       "      <td>numeric</td>\n",
       "    </tr>\n",
       "  </tbody>\n",
       "</table>\n",
       "</div>"
      ],
      "text/plain": [
       "                   ID  TAXI_ID    TIMESTAMP DURATION  X_START  Y_START  \\\n",
       "count          465172   465172          NaN   465172   465172   465172   \n",
       "mean           232586   324.12          NaN  253.242 -274.488 -248.023   \n",
       "std            134284  213.339          NaN  108.412   79.727   76.579   \n",
       "min                 1        1          NaN      120     -381     -415   \n",
       "25%            116294      148          NaN      174     -340     -296   \n",
       "50%            232586      298          NaN      226     -296     -272   \n",
       "75%            348879      454          NaN      301     -223     -202   \n",
       "max            465172      800          NaN      883      -42      -12   \n",
       "counts         465172   465172       465172   465172   465172   465172   \n",
       "uniques        465172      800       461201      752      340      404   \n",
       "missing             0        0            0        0        0        0   \n",
       "missing_perc       0%       0%           0%       0%       0%       0%   \n",
       "types         numeric  numeric  categorical  numeric  numeric  numeric   \n",
       "\n",
       "                X_END    Y_END X_TRAJECTORY Y_TRAJECTORY TRAJ_LENGTH  \n",
       "count          465172   465172          NaN          NaN      465172  \n",
       "mean         -243.426 -238.723          NaN          NaN     242.228  \n",
       "std           117.362  95.0577          NaN          NaN     149.919  \n",
       "min              -431     -419          NaN          NaN          21  \n",
       "25%              -330     -300          NaN          NaN         137  \n",
       "50%              -267     -263          NaN          NaN         200  \n",
       "75%              -190     -191          NaN          NaN         303  \n",
       "max               426       68          NaN          NaN         999  \n",
       "counts         465172   465172       465172       465172      465172  \n",
       "uniques           849      488       465172       465172         979  \n",
       "missing             0        0            0            0           0  \n",
       "missing_perc       0%       0%           0%           0%          0%  \n",
       "types         numeric  numeric       unique       unique     numeric  "
      ]
     },
     "metadata": {},
     "output_type": "display_data"
    },
    {
     "data": {
      "text/html": [
       "<div>\n",
       "<style scoped>\n",
       "    .dataframe tbody tr th:only-of-type {\n",
       "        vertical-align: middle;\n",
       "    }\n",
       "\n",
       "    .dataframe tbody tr th {\n",
       "        vertical-align: top;\n",
       "    }\n",
       "\n",
       "    .dataframe thead th {\n",
       "        text-align: right;\n",
       "    }\n",
       "</style>\n",
       "<table border=\"1\" class=\"dataframe\">\n",
       "  <thead>\n",
       "    <tr style=\"text-align: right;\">\n",
       "      <th></th>\n",
       "      <th>ID</th>\n",
       "      <th>TAXI_ID</th>\n",
       "      <th>TIMESTAMP</th>\n",
       "      <th>X_START</th>\n",
       "      <th>Y_START</th>\n",
       "      <th>X_END</th>\n",
       "      <th>Y_END</th>\n",
       "    </tr>\n",
       "  </thead>\n",
       "  <tbody>\n",
       "    <tr>\n",
       "      <th>count</th>\n",
       "      <td>465172</td>\n",
       "      <td>465172</td>\n",
       "      <td>NaN</td>\n",
       "      <td>465172</td>\n",
       "      <td>465172</td>\n",
       "      <td>465172</td>\n",
       "      <td>465172</td>\n",
       "    </tr>\n",
       "    <tr>\n",
       "      <th>mean</th>\n",
       "      <td>697758</td>\n",
       "      <td>324.228</td>\n",
       "      <td>NaN</td>\n",
       "      <td>-274.316</td>\n",
       "      <td>-248.352</td>\n",
       "      <td>-243.017</td>\n",
       "      <td>-238.544</td>\n",
       "    </tr>\n",
       "    <tr>\n",
       "      <th>std</th>\n",
       "      <td>134284</td>\n",
       "      <td>213.566</td>\n",
       "      <td>NaN</td>\n",
       "      <td>79.921</td>\n",
       "      <td>76.231</td>\n",
       "      <td>117.589</td>\n",
       "      <td>95.2304</td>\n",
       "    </tr>\n",
       "    <tr>\n",
       "      <th>min</th>\n",
       "      <td>465173</td>\n",
       "      <td>1</td>\n",
       "      <td>NaN</td>\n",
       "      <td>-381</td>\n",
       "      <td>-415</td>\n",
       "      <td>-431</td>\n",
       "      <td>-419</td>\n",
       "    </tr>\n",
       "    <tr>\n",
       "      <th>25%</th>\n",
       "      <td>581466</td>\n",
       "      <td>148</td>\n",
       "      <td>NaN</td>\n",
       "      <td>-340</td>\n",
       "      <td>-296</td>\n",
       "      <td>-330</td>\n",
       "      <td>-300</td>\n",
       "    </tr>\n",
       "    <tr>\n",
       "      <th>50%</th>\n",
       "      <td>697758</td>\n",
       "      <td>297</td>\n",
       "      <td>NaN</td>\n",
       "      <td>-296</td>\n",
       "      <td>-272</td>\n",
       "      <td>-266</td>\n",
       "      <td>-263</td>\n",
       "    </tr>\n",
       "    <tr>\n",
       "      <th>75%</th>\n",
       "      <td>814051</td>\n",
       "      <td>455</td>\n",
       "      <td>NaN</td>\n",
       "      <td>-223</td>\n",
       "      <td>-203</td>\n",
       "      <td>-190</td>\n",
       "      <td>-191</td>\n",
       "    </tr>\n",
       "    <tr>\n",
       "      <th>max</th>\n",
       "      <td>930344</td>\n",
       "      <td>800</td>\n",
       "      <td>NaN</td>\n",
       "      <td>-42</td>\n",
       "      <td>-12</td>\n",
       "      <td>426</td>\n",
       "      <td>68</td>\n",
       "    </tr>\n",
       "    <tr>\n",
       "      <th>counts</th>\n",
       "      <td>465172</td>\n",
       "      <td>465172</td>\n",
       "      <td>465172</td>\n",
       "      <td>465172</td>\n",
       "      <td>465172</td>\n",
       "      <td>465172</td>\n",
       "      <td>465172</td>\n",
       "    </tr>\n",
       "    <tr>\n",
       "      <th>uniques</th>\n",
       "      <td>465172</td>\n",
       "      <td>800</td>\n",
       "      <td>461336</td>\n",
       "      <td>340</td>\n",
       "      <td>404</td>\n",
       "      <td>853</td>\n",
       "      <td>488</td>\n",
       "    </tr>\n",
       "    <tr>\n",
       "      <th>missing</th>\n",
       "      <td>0</td>\n",
       "      <td>0</td>\n",
       "      <td>0</td>\n",
       "      <td>0</td>\n",
       "      <td>0</td>\n",
       "      <td>0</td>\n",
       "      <td>0</td>\n",
       "    </tr>\n",
       "    <tr>\n",
       "      <th>missing_perc</th>\n",
       "      <td>0%</td>\n",
       "      <td>0%</td>\n",
       "      <td>0%</td>\n",
       "      <td>0%</td>\n",
       "      <td>0%</td>\n",
       "      <td>0%</td>\n",
       "      <td>0%</td>\n",
       "    </tr>\n",
       "    <tr>\n",
       "      <th>types</th>\n",
       "      <td>numeric</td>\n",
       "      <td>numeric</td>\n",
       "      <td>categorical</td>\n",
       "      <td>numeric</td>\n",
       "      <td>numeric</td>\n",
       "      <td>numeric</td>\n",
       "      <td>numeric</td>\n",
       "    </tr>\n",
       "  </tbody>\n",
       "</table>\n",
       "</div>"
      ],
      "text/plain": [
       "                   ID  TAXI_ID    TIMESTAMP  X_START  Y_START    X_END  \\\n",
       "count          465172   465172          NaN   465172   465172   465172   \n",
       "mean           697758  324.228          NaN -274.316 -248.352 -243.017   \n",
       "std            134284  213.566          NaN   79.921   76.231  117.589   \n",
       "min            465173        1          NaN     -381     -415     -431   \n",
       "25%            581466      148          NaN     -340     -296     -330   \n",
       "50%            697758      297          NaN     -296     -272     -266   \n",
       "75%            814051      455          NaN     -223     -203     -190   \n",
       "max            930344      800          NaN      -42      -12      426   \n",
       "counts         465172   465172       465172   465172   465172   465172   \n",
       "uniques        465172      800       461336      340      404      853   \n",
       "missing             0        0            0        0        0        0   \n",
       "missing_perc       0%       0%           0%       0%       0%       0%   \n",
       "types         numeric  numeric  categorical  numeric  numeric  numeric   \n",
       "\n",
       "                Y_END  \n",
       "count          465172  \n",
       "mean         -238.544  \n",
       "std           95.2304  \n",
       "min              -419  \n",
       "25%              -300  \n",
       "50%              -263  \n",
       "75%              -191  \n",
       "max                68  \n",
       "counts         465172  \n",
       "uniques           488  \n",
       "missing             0  \n",
       "missing_perc       0%  \n",
       "types         numeric  "
      ]
     },
     "metadata": {},
     "output_type": "display_data"
    }
   ],
   "source": [
    "for t in tables: display(DataFrameSummary(t).summary())"
   ]
  },
  {
   "cell_type": "markdown",
   "metadata": {},
   "source": [
    "## Data Cleaning / Feature Engineering"
   ]
  },
  {
   "cell_type": "code",
   "execution_count": 12,
   "metadata": {},
   "outputs": [],
   "source": [
    "train, test = tables"
   ]
  },
  {
   "cell_type": "code",
   "execution_count": 13,
   "metadata": {},
   "outputs": [
    {
     "data": {
      "text/plain": [
       "(465172, 465172)"
      ]
     },
     "execution_count": 13,
     "metadata": {},
     "output_type": "execute_result"
    }
   ],
   "source": [
    "len(train),len(test)"
   ]
  },
  {
   "cell_type": "code",
   "execution_count": 14,
   "metadata": {},
   "outputs": [],
   "source": [
    "train['Price'] = train['DURATION'] + train['TRAJ_LENGTH']"
   ]
  },
  {
   "cell_type": "code",
   "execution_count": 15,
   "metadata": {},
   "outputs": [],
   "source": [
    "#train['TIMESTAMP'] = pd.to_datetime(train['TIMESTAMP'])\n",
    "#test['TIMESTAMP'] = pd.to_datetime(test['TIMESTAMP'])"
   ]
  },
  {
   "cell_type": "code",
   "execution_count": 16,
   "metadata": {},
   "outputs": [],
   "source": [
    "import re\n",
    "\n",
    "def add_datetimepart(df, fldname, drop=True):\n",
    "    fld = df[fldname]\n",
    "    if not np.issubdtype(fld.dtype, np.datetime64):\n",
    "        df[fldname] = fld = pd.to_datetime(fld, infer_datetime_format=True)\n",
    "    targ_pre = re.sub('[Dd]ate$', '', fldname)\n",
    "    for n in ('Year', 'Month', 'Week', 'Day', 'Dayofweek',\n",
    "            'Is_month_end', 'Is_month_start', 'Is_year_end', 'Is_year_start',\n",
    "            'Hour', 'Minute',):\n",
    "        df[targ_pre+n] = getattr(fld.dt,n.lower())\n",
    "    df[targ_pre+'Elapsed'] = fld.astype(np.int64) // 10**9\n",
    "    if drop: df.drop(fldname, axis=1, inplace=True)"
   ]
  },
  {
   "cell_type": "code",
   "execution_count": 17,
   "metadata": {},
   "outputs": [],
   "source": [
    "add_datetimepart(train, \"TIMESTAMP\", drop=False)\n",
    "add_datetimepart(test, \"TIMESTAMP\", drop=False)"
   ]
  },
  {
   "cell_type": "code",
   "execution_count": 18,
   "metadata": {
    "scrolled": true
   },
   "outputs": [],
   "source": [
    "train['Holiday'] = train['TIMESTAMPDayofweek'] >= 5\n",
    "test['Holiday'] = test['TIMESTAMPDayofweek'] >= 5"
   ]
  },
  {
   "cell_type": "code",
   "execution_count": 19,
   "metadata": {
    "scrolled": false
   },
   "outputs": [
    {
     "data": {
      "text/plain": [
       "Index(['ID', 'TAXI_ID', 'TIMESTAMP', 'DURATION', 'X_START', 'Y_START', 'X_END',\n",
       "       'Y_END', 'X_TRAJECTORY', 'Y_TRAJECTORY', 'TRAJ_LENGTH', 'Price',\n",
       "       'TIMESTAMPYear', 'TIMESTAMPMonth', 'TIMESTAMPWeek', 'TIMESTAMPDay',\n",
       "       'TIMESTAMPDayofweek', 'TIMESTAMPIs_month_end',\n",
       "       'TIMESTAMPIs_month_start', 'TIMESTAMPIs_year_end',\n",
       "       'TIMESTAMPIs_year_start', 'TIMESTAMPHour', 'TIMESTAMPMinute',\n",
       "       'TIMESTAMPElapsed', 'Holiday'],\n",
       "      dtype='object')"
      ]
     },
     "execution_count": 19,
     "metadata": {},
     "output_type": "execute_result"
    }
   ],
   "source": [
    "train.columns"
   ]
  },
  {
   "cell_type": "code",
   "execution_count": 20,
   "metadata": {},
   "outputs": [],
   "source": [
    "def haversine_array(lat1, lng1, lat2, lng2):\n",
    "    lat1, lng1, lat2, lng2 = map(np.radians, (lat1, lng1, lat2, lng2))\n",
    "    AVG_EARTH_RADIUS = 6371  # in km\n",
    "    lat = lat2 - lat1\n",
    "    lng = lng2 - lng1\n",
    "    d = np.sin(lat * 0.5) ** 2 + np.cos(lat1) * np.cos(lat2) * np.sin(lng * 0.5) ** 2\n",
    "    h = 2 * AVG_EARTH_RADIUS * np.arcsin(np.sqrt(d))\n",
    "    return h"
   ]
  },
  {
   "cell_type": "code",
   "execution_count": 21,
   "metadata": {},
   "outputs": [],
   "source": [
    "def dummy_distance(lat1, lng1, lat2, lng2):\n",
    "    a = haversine_array(lat1, lng1, lat1, lng2)\n",
    "    b = haversine_array(lat1, lng1, lat2, lng1)\n",
    "    return a + b"
   ]
  },
  {
   "cell_type": "code",
   "execution_count": 22,
   "metadata": {},
   "outputs": [],
   "source": [
    "def bearing_array(lat1, lng1, lat2, lng2):\n",
    "    AVG_EARTH_RADIUS = 6371  # in km\n",
    "    lng_delta_rad = np.radians(lng2 - lng1)\n",
    "    lat1, lng1, lat2, lng2 = map(np.radians, (lat1, lng1, lat2, lng2))\n",
    "    y = np.sin(lng_delta_rad) * np.cos(lat2)\n",
    "    x = np.cos(lat1) * np.sin(lat2) - np.sin(lat1) * np.cos(lat2) * np.cos(lng_delta_rad)\n",
    "    return np.degrees(np.arctan2(y, x))"
   ]
  },
  {
   "cell_type": "code",
   "execution_count": 23,
   "metadata": {},
   "outputs": [
    {
     "name": "stderr",
     "output_type": "stream",
     "text": [
      "/home/paperspace/anaconda3/envs/fastai/lib/python3.6/site-packages/ipykernel_launcher.py:7: RuntimeWarning: invalid value encountered in sqrt\n",
      "  import sys\n"
     ]
    }
   ],
   "source": [
    "train['distance_haversine'] = haversine_array(\n",
    "        train['X_START'].values, train['Y_START'].values,\n",
    "        train['X_END'].values, train['Y_END'].values)\n",
    "test['distance_haversine'] = haversine_array(\n",
    "        test['X_START'].values, test['Y_START'].values,\n",
    "        test['X_END'].values, test['Y_END'].values)"
   ]
  },
  {
   "cell_type": "code",
   "execution_count": 24,
   "metadata": {},
   "outputs": [],
   "source": [
    "train['distance_dummy'] = dummy_distance(\n",
    "        train['X_START'].values, train['Y_START'].values,\n",
    "        train['X_END'].values, train['Y_END'].values)\n",
    "test['distance_dummy'] = dummy_distance(\n",
    "        test['X_START'].values, test['Y_START'].values,\n",
    "        test['X_END'].values, test['Y_END'].values)"
   ]
  },
  {
   "cell_type": "code",
   "execution_count": 25,
   "metadata": {},
   "outputs": [],
   "source": [
    "train['center_latitude'] = (train['X_START'].values + train['X_END'].values) / 2\n",
    "test['center_latitude'] = (test['X_START'].values + test['X_END'].values) / 2"
   ]
  },
  {
   "cell_type": "code",
   "execution_count": 26,
   "metadata": {},
   "outputs": [],
   "source": [
    "train['center_longitude'] = (train['Y_START'].values + train['Y_END'].values) / 2\n",
    "test['center_longitude'] = (test['Y_START'].values + test['Y_END'].values) / 2"
   ]
  },
  {
   "cell_type": "code",
   "execution_count": 27,
   "metadata": {},
   "outputs": [],
   "source": [
    "train['direction'] = bearing_array(\n",
    "        train['X_START'].values, train['Y_START'].values,\n",
    "        train['X_END'].values, train['Y_END'].values)\n",
    "test['direction'] = bearing_array(\n",
    "        test['X_START'].values, test['Y_START'].values,\n",
    "        test['X_END'].values, test['Y_END'].values)"
   ]
  },
  {
   "cell_type": "code",
   "execution_count": 28,
   "metadata": {},
   "outputs": [],
   "source": [
    "train['direction_ns'] = (train.X_START > train.X_END) * 1 + 1\n",
    "indices = train[(train.X_START == train.X_END) & (train.X_START != 0)].index\n",
    "train.loc[indices, 'direction_ns'] = 0\n",
    "test['direction_ns'] = (test.X_START > test.X_END) * 1 + 1\n",
    "indices = test[(test.X_START == test.X_END) & (test.X_START != 0)].index\n",
    "test.loc[indices, 'direction_ns'] = 0"
   ]
  },
  {
   "cell_type": "code",
   "execution_count": 29,
   "metadata": {},
   "outputs": [],
   "source": [
    "train['direction_ew'] = (train.Y_START > train.Y_END) * 1 + 1\n",
    "indices = train[(train.Y_START == train.Y_END) & (train.Y_START != 0)].index\n",
    "train.loc[indices, 'direction_ew'] = 0\n",
    "test['direction_ew'] = (test.Y_START > test.Y_END) * 1 + 1\n",
    "indices = test[(test.Y_START == test.Y_END) & (test.Y_START != 0)].index\n",
    "test.loc[indices, 'direction_ew'] = 0"
   ]
  },
  {
   "cell_type": "code",
   "execution_count": 30,
   "metadata": {},
   "outputs": [],
   "source": [
    "from sklearn.decomposition import PCA"
   ]
  },
  {
   "cell_type": "code",
   "execution_count": 31,
   "metadata": {},
   "outputs": [],
   "source": [
    "full = pd.concat([train, test]).reset_index(drop=True)\n",
    "coords = np.vstack((full[['X_START', 'Y_START']], full[['X_END', 'Y_END']]))"
   ]
  },
  {
   "cell_type": "code",
   "execution_count": 32,
   "metadata": {},
   "outputs": [],
   "source": [
    "pca = PCA().fit(coords)"
   ]
  },
  {
   "cell_type": "code",
   "execution_count": 33,
   "metadata": {},
   "outputs": [],
   "source": [
    "train['pickup_pca0'] = pca.transform(train[['X_START', 'Y_START']])[:, 0]\n",
    "train['pickup_pca1'] = pca.transform(train[['X_START', 'Y_START']])[:, 1]\n",
    "train['dropoff_pca0'] = pca.transform(train[['X_END', 'Y_END']])[:, 0]\n",
    "train['dropoff_pca1'] = pca.transform(train[['X_END', 'Y_END']])[:, 1]\n",
    "test['pickup_pca0'] = pca.transform(test[['X_START', 'Y_START']])[:, 0]\n",
    "test['pickup_pca1'] = pca.transform(test[['X_START', 'Y_START']])[:, 1]\n",
    "test['dropoff_pca0'] = pca.transform(test[['X_END', 'Y_END']])[:, 0]\n",
    "test['dropoff_pca1'] = pca.transform(test[['X_END', 'Y_END']])[:, 1]"
   ]
  },
  {
   "cell_type": "code",
   "execution_count": 34,
   "metadata": {},
   "outputs": [],
   "source": [
    "train['pca_distance'] = np.abs(train['dropoff_pca1'] - train['pickup_pca1']) + \\\n",
    "                             np.abs(train['dropoff_pca0'] - train['pickup_pca0'])\n",
    "test['pca_distance'] = np.abs(test['dropoff_pca1'] - test['pickup_pca1']) + \\\n",
    "                             np.abs(test['dropoff_pca0'] - test['pickup_pca0'])"
   ]
  },
  {
   "cell_type": "code",
   "execution_count": 35,
   "metadata": {},
   "outputs": [],
   "source": [
    "train['DISTANCE'] = np.sqrt((train['X_END'] - train['X_START']) ** 2 + (train['Y_END'] - train['Y_START']) ** 2)\n",
    "test['DISTANCE'] = np.sqrt((test['X_END'] - test['X_START']) ** 2 + (test['Y_END'] - test['Y_START']) ** 2)"
   ]
  },
  {
   "cell_type": "code",
   "execution_count": 38,
   "metadata": {},
   "outputs": [],
   "source": [
    "train['LOG_DISTANCE'] = np.log1p(train['DISTANCE'])\n",
    "test['LOG_DISTANCE'] = np.log1p(test['DISTANCE'])"
   ]
  },
  {
   "cell_type": "code",
   "execution_count": 39,
   "metadata": {
    "scrolled": false
   },
   "outputs": [],
   "source": [
    "#train['LOG_DISTANCE'].hist()"
   ]
  },
  {
   "cell_type": "markdown",
   "metadata": {},
   "source": [
    "## Skip this MeanShift part"
   ]
  },
  {
   "cell_type": "code",
   "execution_count": 40,
   "metadata": {},
   "outputs": [],
   "source": [
    "from sklearn.cluster import MeanShift"
   ]
  },
  {
   "cell_type": "code",
   "execution_count": 41,
   "metadata": {},
   "outputs": [],
   "source": [
    "geo_parameters=['X_START','Y_START']\n",
    "pts_start = np.array(train[geo_parameters])"
   ]
  },
  {
   "cell_type": "code",
   "execution_count": 42,
   "metadata": {},
   "outputs": [
    {
     "data": {
      "text/plain": [
       "MeanShift(bandwidth=0.001, bin_seeding=True, cluster_all=True, min_bin_freq=5,\n",
       "     n_jobs=1, seeds=None)"
      ]
     },
     "execution_count": 42,
     "metadata": {},
     "output_type": "execute_result"
    }
   ],
   "source": [
    "bw = 0.001\n",
    "ms = MeanShift(bandwidth=bw, bin_seeding=True, min_bin_freq=5)\n",
    "ms.fit(pts_start)"
   ]
  },
  {
   "cell_type": "code",
   "execution_count": 43,
   "metadata": {},
   "outputs": [],
   "source": [
    "train['geolocation1']=ms.labels_\n",
    "test['geolocation1'] = ms.predict(np.array(test[geo_parameters]))"
   ]
  },
  {
   "cell_type": "code",
   "execution_count": 44,
   "metadata": {},
   "outputs": [
    {
     "ename": "KeyboardInterrupt",
     "evalue": "",
     "output_type": "error",
     "traceback": [
      "\u001b[0;31m---------------------------------------------------------------------------\u001b[0m",
      "\u001b[0;31mKeyboardInterrupt\u001b[0m                         Traceback (most recent call last)",
      "\u001b[0;32m<ipython-input-44-7c10dc5b4663>\u001b[0m in \u001b[0;36m<module>\u001b[0;34m()\u001b[0m\n\u001b[1;32m      1\u001b[0m \u001b[0mbw\u001b[0m \u001b[0;34m=\u001b[0m \u001b[0;36m0.0005\u001b[0m\u001b[0;34m\u001b[0m\u001b[0m\n\u001b[1;32m      2\u001b[0m \u001b[0mms\u001b[0m \u001b[0;34m=\u001b[0m \u001b[0mMeanShift\u001b[0m\u001b[0;34m(\u001b[0m\u001b[0mbandwidth\u001b[0m\u001b[0;34m=\u001b[0m\u001b[0mbw\u001b[0m\u001b[0;34m,\u001b[0m \u001b[0mbin_seeding\u001b[0m\u001b[0;34m=\u001b[0m\u001b[0;32mTrue\u001b[0m\u001b[0;34m,\u001b[0m \u001b[0mmin_bin_freq\u001b[0m\u001b[0;34m=\u001b[0m\u001b[0;36m5\u001b[0m\u001b[0;34m)\u001b[0m\u001b[0;34m\u001b[0m\u001b[0m\n\u001b[0;32m----> 3\u001b[0;31m \u001b[0mms\u001b[0m\u001b[0;34m.\u001b[0m\u001b[0mfit\u001b[0m\u001b[0;34m(\u001b[0m\u001b[0mpts_start\u001b[0m\u001b[0;34m)\u001b[0m\u001b[0;34m\u001b[0m\u001b[0m\n\u001b[0m",
      "\u001b[0;32m~/anaconda3/envs/fastai/lib/python3.6/site-packages/sklearn/cluster/mean_shift_.py\u001b[0m in \u001b[0;36mfit\u001b[0;34m(self, X, y)\u001b[0m\n\u001b[1;32m    399\u001b[0m                        \u001b[0mmin_bin_freq\u001b[0m\u001b[0;34m=\u001b[0m\u001b[0mself\u001b[0m\u001b[0;34m.\u001b[0m\u001b[0mmin_bin_freq\u001b[0m\u001b[0;34m,\u001b[0m\u001b[0;34m\u001b[0m\u001b[0m\n\u001b[1;32m    400\u001b[0m                        \u001b[0mbin_seeding\u001b[0m\u001b[0;34m=\u001b[0m\u001b[0mself\u001b[0m\u001b[0;34m.\u001b[0m\u001b[0mbin_seeding\u001b[0m\u001b[0;34m,\u001b[0m\u001b[0;34m\u001b[0m\u001b[0m\n\u001b[0;32m--> 401\u001b[0;31m                        cluster_all=self.cluster_all, n_jobs=self.n_jobs)\n\u001b[0m\u001b[1;32m    402\u001b[0m         \u001b[0;32mreturn\u001b[0m \u001b[0mself\u001b[0m\u001b[0;34m\u001b[0m\u001b[0m\n\u001b[1;32m    403\u001b[0m \u001b[0;34m\u001b[0m\u001b[0m\n",
      "\u001b[0;32m~/anaconda3/envs/fastai/lib/python3.6/site-packages/sklearn/cluster/mean_shift_.py\u001b[0m in \u001b[0;36mmean_shift\u001b[0;34m(X, bandwidth, seeds, bin_seeding, min_bin_freq, cluster_all, max_iter, n_jobs)\u001b[0m\n\u001b[1;32m    195\u001b[0m     all_res = Parallel(n_jobs=n_jobs)(\n\u001b[1;32m    196\u001b[0m         \u001b[0mdelayed\u001b[0m\u001b[0;34m(\u001b[0m\u001b[0m_mean_shift_single_seed\u001b[0m\u001b[0;34m)\u001b[0m\u001b[0;34m\u001b[0m\u001b[0m\n\u001b[0;32m--> 197\u001b[0;31m         (seed, X, nbrs, max_iter) for seed in seeds)\n\u001b[0m\u001b[1;32m    198\u001b[0m     \u001b[0;31m# copy results in a dictionary\u001b[0m\u001b[0;34m\u001b[0m\u001b[0;34m\u001b[0m\u001b[0m\n\u001b[1;32m    199\u001b[0m     \u001b[0;32mfor\u001b[0m \u001b[0mi\u001b[0m \u001b[0;32min\u001b[0m \u001b[0mrange\u001b[0m\u001b[0;34m(\u001b[0m\u001b[0mlen\u001b[0m\u001b[0;34m(\u001b[0m\u001b[0mseeds\u001b[0m\u001b[0;34m)\u001b[0m\u001b[0;34m)\u001b[0m\u001b[0;34m:\u001b[0m\u001b[0;34m\u001b[0m\u001b[0m\n",
      "\u001b[0;32m~/anaconda3/envs/fastai/lib/python3.6/site-packages/sklearn/externals/joblib/parallel.py\u001b[0m in \u001b[0;36m__call__\u001b[0;34m(self, iterable)\u001b[0m\n\u001b[1;32m    777\u001b[0m             \u001b[0;31m# was dispatched. In particular this covers the edge\u001b[0m\u001b[0;34m\u001b[0m\u001b[0;34m\u001b[0m\u001b[0m\n\u001b[1;32m    778\u001b[0m             \u001b[0;31m# case of Parallel used with an exhausted iterator.\u001b[0m\u001b[0;34m\u001b[0m\u001b[0;34m\u001b[0m\u001b[0m\n\u001b[0;32m--> 779\u001b[0;31m             \u001b[0;32mwhile\u001b[0m \u001b[0mself\u001b[0m\u001b[0;34m.\u001b[0m\u001b[0mdispatch_one_batch\u001b[0m\u001b[0;34m(\u001b[0m\u001b[0miterator\u001b[0m\u001b[0;34m)\u001b[0m\u001b[0;34m:\u001b[0m\u001b[0;34m\u001b[0m\u001b[0m\n\u001b[0m\u001b[1;32m    780\u001b[0m                 \u001b[0mself\u001b[0m\u001b[0;34m.\u001b[0m\u001b[0m_iterating\u001b[0m \u001b[0;34m=\u001b[0m \u001b[0;32mTrue\u001b[0m\u001b[0;34m\u001b[0m\u001b[0m\n\u001b[1;32m    781\u001b[0m             \u001b[0;32melse\u001b[0m\u001b[0;34m:\u001b[0m\u001b[0;34m\u001b[0m\u001b[0m\n",
      "\u001b[0;32m~/anaconda3/envs/fastai/lib/python3.6/site-packages/sklearn/externals/joblib/parallel.py\u001b[0m in \u001b[0;36mdispatch_one_batch\u001b[0;34m(self, iterator)\u001b[0m\n\u001b[1;32m    623\u001b[0m                 \u001b[0;32mreturn\u001b[0m \u001b[0;32mFalse\u001b[0m\u001b[0;34m\u001b[0m\u001b[0m\n\u001b[1;32m    624\u001b[0m             \u001b[0;32melse\u001b[0m\u001b[0;34m:\u001b[0m\u001b[0;34m\u001b[0m\u001b[0m\n\u001b[0;32m--> 625\u001b[0;31m                 \u001b[0mself\u001b[0m\u001b[0;34m.\u001b[0m\u001b[0m_dispatch\u001b[0m\u001b[0;34m(\u001b[0m\u001b[0mtasks\u001b[0m\u001b[0;34m)\u001b[0m\u001b[0;34m\u001b[0m\u001b[0m\n\u001b[0m\u001b[1;32m    626\u001b[0m                 \u001b[0;32mreturn\u001b[0m \u001b[0;32mTrue\u001b[0m\u001b[0;34m\u001b[0m\u001b[0m\n\u001b[1;32m    627\u001b[0m \u001b[0;34m\u001b[0m\u001b[0m\n",
      "\u001b[0;32m~/anaconda3/envs/fastai/lib/python3.6/site-packages/sklearn/externals/joblib/parallel.py\u001b[0m in \u001b[0;36m_dispatch\u001b[0;34m(self, batch)\u001b[0m\n\u001b[1;32m    586\u001b[0m         \u001b[0mdispatch_timestamp\u001b[0m \u001b[0;34m=\u001b[0m \u001b[0mtime\u001b[0m\u001b[0;34m.\u001b[0m\u001b[0mtime\u001b[0m\u001b[0;34m(\u001b[0m\u001b[0;34m)\u001b[0m\u001b[0;34m\u001b[0m\u001b[0m\n\u001b[1;32m    587\u001b[0m         \u001b[0mcb\u001b[0m \u001b[0;34m=\u001b[0m \u001b[0mBatchCompletionCallBack\u001b[0m\u001b[0;34m(\u001b[0m\u001b[0mdispatch_timestamp\u001b[0m\u001b[0;34m,\u001b[0m \u001b[0mlen\u001b[0m\u001b[0;34m(\u001b[0m\u001b[0mbatch\u001b[0m\u001b[0;34m)\u001b[0m\u001b[0;34m,\u001b[0m \u001b[0mself\u001b[0m\u001b[0;34m)\u001b[0m\u001b[0;34m\u001b[0m\u001b[0m\n\u001b[0;32m--> 588\u001b[0;31m         \u001b[0mjob\u001b[0m \u001b[0;34m=\u001b[0m \u001b[0mself\u001b[0m\u001b[0;34m.\u001b[0m\u001b[0m_backend\u001b[0m\u001b[0;34m.\u001b[0m\u001b[0mapply_async\u001b[0m\u001b[0;34m(\u001b[0m\u001b[0mbatch\u001b[0m\u001b[0;34m,\u001b[0m \u001b[0mcallback\u001b[0m\u001b[0;34m=\u001b[0m\u001b[0mcb\u001b[0m\u001b[0;34m)\u001b[0m\u001b[0;34m\u001b[0m\u001b[0m\n\u001b[0m\u001b[1;32m    589\u001b[0m         \u001b[0mself\u001b[0m\u001b[0;34m.\u001b[0m\u001b[0m_jobs\u001b[0m\u001b[0;34m.\u001b[0m\u001b[0mappend\u001b[0m\u001b[0;34m(\u001b[0m\u001b[0mjob\u001b[0m\u001b[0;34m)\u001b[0m\u001b[0;34m\u001b[0m\u001b[0m\n\u001b[1;32m    590\u001b[0m \u001b[0;34m\u001b[0m\u001b[0m\n",
      "\u001b[0;32m~/anaconda3/envs/fastai/lib/python3.6/site-packages/sklearn/externals/joblib/_parallel_backends.py\u001b[0m in \u001b[0;36mapply_async\u001b[0;34m(self, func, callback)\u001b[0m\n\u001b[1;32m    109\u001b[0m     \u001b[0;32mdef\u001b[0m \u001b[0mapply_async\u001b[0m\u001b[0;34m(\u001b[0m\u001b[0mself\u001b[0m\u001b[0;34m,\u001b[0m \u001b[0mfunc\u001b[0m\u001b[0;34m,\u001b[0m \u001b[0mcallback\u001b[0m\u001b[0;34m=\u001b[0m\u001b[0;32mNone\u001b[0m\u001b[0;34m)\u001b[0m\u001b[0;34m:\u001b[0m\u001b[0;34m\u001b[0m\u001b[0m\n\u001b[1;32m    110\u001b[0m         \u001b[0;34m\"\"\"Schedule a func to be run\"\"\"\u001b[0m\u001b[0;34m\u001b[0m\u001b[0m\n\u001b[0;32m--> 111\u001b[0;31m         \u001b[0mresult\u001b[0m \u001b[0;34m=\u001b[0m \u001b[0mImmediateResult\u001b[0m\u001b[0;34m(\u001b[0m\u001b[0mfunc\u001b[0m\u001b[0;34m)\u001b[0m\u001b[0;34m\u001b[0m\u001b[0m\n\u001b[0m\u001b[1;32m    112\u001b[0m         \u001b[0;32mif\u001b[0m \u001b[0mcallback\u001b[0m\u001b[0;34m:\u001b[0m\u001b[0;34m\u001b[0m\u001b[0m\n\u001b[1;32m    113\u001b[0m             \u001b[0mcallback\u001b[0m\u001b[0;34m(\u001b[0m\u001b[0mresult\u001b[0m\u001b[0;34m)\u001b[0m\u001b[0;34m\u001b[0m\u001b[0m\n",
      "\u001b[0;32m~/anaconda3/envs/fastai/lib/python3.6/site-packages/sklearn/externals/joblib/_parallel_backends.py\u001b[0m in \u001b[0;36m__init__\u001b[0;34m(self, batch)\u001b[0m\n\u001b[1;32m    330\u001b[0m         \u001b[0;31m# Don't delay the application, to avoid keeping the input\u001b[0m\u001b[0;34m\u001b[0m\u001b[0;34m\u001b[0m\u001b[0m\n\u001b[1;32m    331\u001b[0m         \u001b[0;31m# arguments in memory\u001b[0m\u001b[0;34m\u001b[0m\u001b[0;34m\u001b[0m\u001b[0m\n\u001b[0;32m--> 332\u001b[0;31m         \u001b[0mself\u001b[0m\u001b[0;34m.\u001b[0m\u001b[0mresults\u001b[0m \u001b[0;34m=\u001b[0m \u001b[0mbatch\u001b[0m\u001b[0;34m(\u001b[0m\u001b[0;34m)\u001b[0m\u001b[0;34m\u001b[0m\u001b[0m\n\u001b[0m\u001b[1;32m    333\u001b[0m \u001b[0;34m\u001b[0m\u001b[0m\n\u001b[1;32m    334\u001b[0m     \u001b[0;32mdef\u001b[0m \u001b[0mget\u001b[0m\u001b[0;34m(\u001b[0m\u001b[0mself\u001b[0m\u001b[0;34m)\u001b[0m\u001b[0;34m:\u001b[0m\u001b[0;34m\u001b[0m\u001b[0m\n",
      "\u001b[0;32m~/anaconda3/envs/fastai/lib/python3.6/site-packages/sklearn/externals/joblib/parallel.py\u001b[0m in \u001b[0;36m__call__\u001b[0;34m(self)\u001b[0m\n\u001b[1;32m    129\u001b[0m \u001b[0;34m\u001b[0m\u001b[0m\n\u001b[1;32m    130\u001b[0m     \u001b[0;32mdef\u001b[0m \u001b[0m__call__\u001b[0m\u001b[0;34m(\u001b[0m\u001b[0mself\u001b[0m\u001b[0;34m)\u001b[0m\u001b[0;34m:\u001b[0m\u001b[0;34m\u001b[0m\u001b[0m\n\u001b[0;32m--> 131\u001b[0;31m         \u001b[0;32mreturn\u001b[0m \u001b[0;34m[\u001b[0m\u001b[0mfunc\u001b[0m\u001b[0;34m(\u001b[0m\u001b[0;34m*\u001b[0m\u001b[0margs\u001b[0m\u001b[0;34m,\u001b[0m \u001b[0;34m**\u001b[0m\u001b[0mkwargs\u001b[0m\u001b[0;34m)\u001b[0m \u001b[0;32mfor\u001b[0m \u001b[0mfunc\u001b[0m\u001b[0;34m,\u001b[0m \u001b[0margs\u001b[0m\u001b[0;34m,\u001b[0m \u001b[0mkwargs\u001b[0m \u001b[0;32min\u001b[0m \u001b[0mself\u001b[0m\u001b[0;34m.\u001b[0m\u001b[0mitems\u001b[0m\u001b[0;34m]\u001b[0m\u001b[0;34m\u001b[0m\u001b[0m\n\u001b[0m\u001b[1;32m    132\u001b[0m \u001b[0;34m\u001b[0m\u001b[0m\n\u001b[1;32m    133\u001b[0m     \u001b[0;32mdef\u001b[0m \u001b[0m__len__\u001b[0m\u001b[0;34m(\u001b[0m\u001b[0mself\u001b[0m\u001b[0;34m)\u001b[0m\u001b[0;34m:\u001b[0m\u001b[0;34m\u001b[0m\u001b[0m\n",
      "\u001b[0;32m~/anaconda3/envs/fastai/lib/python3.6/site-packages/sklearn/externals/joblib/parallel.py\u001b[0m in \u001b[0;36m<listcomp>\u001b[0;34m(.0)\u001b[0m\n\u001b[1;32m    129\u001b[0m \u001b[0;34m\u001b[0m\u001b[0m\n\u001b[1;32m    130\u001b[0m     \u001b[0;32mdef\u001b[0m \u001b[0m__call__\u001b[0m\u001b[0;34m(\u001b[0m\u001b[0mself\u001b[0m\u001b[0;34m)\u001b[0m\u001b[0;34m:\u001b[0m\u001b[0;34m\u001b[0m\u001b[0m\n\u001b[0;32m--> 131\u001b[0;31m         \u001b[0;32mreturn\u001b[0m \u001b[0;34m[\u001b[0m\u001b[0mfunc\u001b[0m\u001b[0;34m(\u001b[0m\u001b[0;34m*\u001b[0m\u001b[0margs\u001b[0m\u001b[0;34m,\u001b[0m \u001b[0;34m**\u001b[0m\u001b[0mkwargs\u001b[0m\u001b[0;34m)\u001b[0m \u001b[0;32mfor\u001b[0m \u001b[0mfunc\u001b[0m\u001b[0;34m,\u001b[0m \u001b[0margs\u001b[0m\u001b[0;34m,\u001b[0m \u001b[0mkwargs\u001b[0m \u001b[0;32min\u001b[0m \u001b[0mself\u001b[0m\u001b[0;34m.\u001b[0m\u001b[0mitems\u001b[0m\u001b[0;34m]\u001b[0m\u001b[0;34m\u001b[0m\u001b[0m\n\u001b[0m\u001b[1;32m    132\u001b[0m \u001b[0;34m\u001b[0m\u001b[0m\n\u001b[1;32m    133\u001b[0m     \u001b[0;32mdef\u001b[0m \u001b[0m__len__\u001b[0m\u001b[0;34m(\u001b[0m\u001b[0mself\u001b[0m\u001b[0;34m)\u001b[0m\u001b[0;34m:\u001b[0m\u001b[0;34m\u001b[0m\u001b[0m\n",
      "\u001b[0;32m~/anaconda3/envs/fastai/lib/python3.6/site-packages/sklearn/cluster/mean_shift_.py\u001b[0m in \u001b[0;36m_mean_shift_single_seed\u001b[0;34m(my_mean, X, nbrs, max_iter)\u001b[0m\n\u001b[1;32m     90\u001b[0m         \u001b[0;31m# Find mean of points within bandwidth\u001b[0m\u001b[0;34m\u001b[0m\u001b[0;34m\u001b[0m\u001b[0m\n\u001b[1;32m     91\u001b[0m         i_nbrs = nbrs.radius_neighbors([my_mean], bandwidth,\n\u001b[0;32m---> 92\u001b[0;31m                                        return_distance=False)[0]\n\u001b[0m\u001b[1;32m     93\u001b[0m         \u001b[0mpoints_within\u001b[0m \u001b[0;34m=\u001b[0m \u001b[0mX\u001b[0m\u001b[0;34m[\u001b[0m\u001b[0mi_nbrs\u001b[0m\u001b[0;34m]\u001b[0m\u001b[0;34m\u001b[0m\u001b[0m\n\u001b[1;32m     94\u001b[0m         \u001b[0;32mif\u001b[0m \u001b[0mlen\u001b[0m\u001b[0;34m(\u001b[0m\u001b[0mpoints_within\u001b[0m\u001b[0;34m)\u001b[0m \u001b[0;34m==\u001b[0m \u001b[0;36m0\u001b[0m\u001b[0;34m:\u001b[0m\u001b[0;34m\u001b[0m\u001b[0m\n",
      "\u001b[0;32m~/anaconda3/envs/fastai/lib/python3.6/site-packages/sklearn/neighbors/base.py\u001b[0m in \u001b[0;36mradius_neighbors\u001b[0;34m(self, X, radius, return_distance)\u001b[0m\n\u001b[1;32m    623\u001b[0m                     \"or set algorithm='brute'\" % self._fit_method)\n\u001b[1;32m    624\u001b[0m             results = self._tree.query_radius(X, radius,\n\u001b[0;32m--> 625\u001b[0;31m                                               return_distance=return_distance)\n\u001b[0m\u001b[1;32m    626\u001b[0m             \u001b[0;32mif\u001b[0m \u001b[0mreturn_distance\u001b[0m\u001b[0;34m:\u001b[0m\u001b[0;34m\u001b[0m\u001b[0m\n\u001b[1;32m    627\u001b[0m                 \u001b[0mresults\u001b[0m \u001b[0;34m=\u001b[0m \u001b[0mresults\u001b[0m\u001b[0;34m[\u001b[0m\u001b[0;34m:\u001b[0m\u001b[0;34m:\u001b[0m\u001b[0;34m-\u001b[0m\u001b[0;36m1\u001b[0m\u001b[0;34m]\u001b[0m\u001b[0;34m\u001b[0m\u001b[0m\n",
      "\u001b[0;31mKeyboardInterrupt\u001b[0m: "
     ]
    }
   ],
   "source": [
    "bw = 0.0005\n",
    "ms = MeanShift(bandwidth=bw, bin_seeding=True, min_bin_freq=5)\n",
    "ms.fit(pts_start)"
   ]
  },
  {
   "cell_type": "code",
   "execution_count": 31,
   "metadata": {},
   "outputs": [],
   "source": [
    "train['geolocation2']=ms.labels_\n",
    "test['geolocation2'] = ms.predict(np.array(test[geo_parameters]))"
   ]
  },
  {
   "cell_type": "code",
   "execution_count": 45,
   "metadata": {},
   "outputs": [],
   "source": [
    "geo_parameters=['X_END','Y_END']\n",
    "pts_end = np.array(train[geo_parameters])"
   ]
  },
  {
   "cell_type": "code",
   "execution_count": 46,
   "metadata": {},
   "outputs": [
    {
     "data": {
      "text/plain": [
       "MeanShift(bandwidth=0.001, bin_seeding=True, cluster_all=True, min_bin_freq=5,\n",
       "     n_jobs=1, seeds=None)"
      ]
     },
     "execution_count": 46,
     "metadata": {},
     "output_type": "execute_result"
    }
   ],
   "source": [
    "bw = 0.001\n",
    "ms = MeanShift(bandwidth=bw, bin_seeding=True, min_bin_freq=5)\n",
    "ms.fit(pts_end)"
   ]
  },
  {
   "cell_type": "code",
   "execution_count": 47,
   "metadata": {},
   "outputs": [],
   "source": [
    "train['geolocation1_end']=ms.labels_\n",
    "test['geolocation1_end'] = ms.predict(np.array(test[geo_parameters]))"
   ]
  },
  {
   "cell_type": "code",
   "execution_count": 39,
   "metadata": {},
   "outputs": [
    {
     "data": {
      "text/plain": [
       "MeanShift(bandwidth=0.0005, bin_seeding=True, cluster_all=True,\n",
       "     min_bin_freq=5, n_jobs=1, seeds=None)"
      ]
     },
     "execution_count": 39,
     "metadata": {},
     "output_type": "execute_result"
    }
   ],
   "source": [
    "bw = 0.0005\n",
    "ms = MeanShift(bandwidth=bw, bin_seeding=True, min_bin_freq=5)\n",
    "ms.fit(pts_end)"
   ]
  },
  {
   "cell_type": "code",
   "execution_count": 48,
   "metadata": {},
   "outputs": [
    {
     "ename": "KeyboardInterrupt",
     "evalue": "",
     "output_type": "error",
     "traceback": [
      "\u001b[0;31m---------------------------------------------------------------------------\u001b[0m",
      "\u001b[0;31mKeyboardInterrupt\u001b[0m                         Traceback (most recent call last)",
      "\u001b[0;32m<ipython-input-48-8f0ebb1f8fd1>\u001b[0m in \u001b[0;36m<module>\u001b[0;34m()\u001b[0m\n\u001b[1;32m      1\u001b[0m \u001b[0mtrain\u001b[0m\u001b[0;34m[\u001b[0m\u001b[0;34m'geolocation2_end'\u001b[0m\u001b[0;34m]\u001b[0m\u001b[0;34m=\u001b[0m\u001b[0mms\u001b[0m\u001b[0;34m.\u001b[0m\u001b[0mlabels_\u001b[0m\u001b[0;34m\u001b[0m\u001b[0m\n\u001b[0;32m----> 2\u001b[0;31m \u001b[0mtest\u001b[0m\u001b[0;34m[\u001b[0m\u001b[0;34m'geolocation2_end'\u001b[0m\u001b[0;34m]\u001b[0m \u001b[0;34m=\u001b[0m \u001b[0mms\u001b[0m\u001b[0;34m.\u001b[0m\u001b[0mpredict\u001b[0m\u001b[0;34m(\u001b[0m\u001b[0mnp\u001b[0m\u001b[0;34m.\u001b[0m\u001b[0marray\u001b[0m\u001b[0;34m(\u001b[0m\u001b[0mtest\u001b[0m\u001b[0;34m[\u001b[0m\u001b[0mgeo_parameters\u001b[0m\u001b[0;34m]\u001b[0m\u001b[0;34m)\u001b[0m\u001b[0;34m)\u001b[0m\u001b[0;34m\u001b[0m\u001b[0m\n\u001b[0m",
      "\u001b[0;32m~/anaconda3/envs/fastai/lib/python3.6/site-packages/sklearn/cluster/mean_shift_.py\u001b[0m in \u001b[0;36mpredict\u001b[0;34m(self, X)\u001b[0m\n\u001b[1;32m    417\u001b[0m         \u001b[0mcheck_is_fitted\u001b[0m\u001b[0;34m(\u001b[0m\u001b[0mself\u001b[0m\u001b[0;34m,\u001b[0m \u001b[0;34m\"cluster_centers_\"\u001b[0m\u001b[0;34m)\u001b[0m\u001b[0;34m\u001b[0m\u001b[0m\n\u001b[1;32m    418\u001b[0m \u001b[0;34m\u001b[0m\u001b[0m\n\u001b[0;32m--> 419\u001b[0;31m         \u001b[0;32mreturn\u001b[0m \u001b[0mpairwise_distances_argmin\u001b[0m\u001b[0;34m(\u001b[0m\u001b[0mX\u001b[0m\u001b[0;34m,\u001b[0m \u001b[0mself\u001b[0m\u001b[0;34m.\u001b[0m\u001b[0mcluster_centers_\u001b[0m\u001b[0;34m)\u001b[0m\u001b[0;34m\u001b[0m\u001b[0m\n\u001b[0m",
      "\u001b[0;32m~/anaconda3/envs/fastai/lib/python3.6/site-packages/sklearn/metrics/pairwise.py\u001b[0m in \u001b[0;36mpairwise_distances_argmin\u001b[0;34m(X, Y, axis, metric, batch_size, metric_kwargs)\u001b[0m\n\u001b[1;32m    465\u001b[0m \u001b[0;34m\u001b[0m\u001b[0m\n\u001b[1;32m    466\u001b[0m     return pairwise_distances_argmin_min(X, Y, axis, metric, batch_size,\n\u001b[0;32m--> 467\u001b[0;31m                                          metric_kwargs)[0]\n\u001b[0m\u001b[1;32m    468\u001b[0m \u001b[0;34m\u001b[0m\u001b[0m\n\u001b[1;32m    469\u001b[0m \u001b[0;34m\u001b[0m\u001b[0m\n",
      "\u001b[0;32m~/anaconda3/envs/fastai/lib/python3.6/site-packages/sklearn/metrics/pairwise.py\u001b[0m in \u001b[0;36mpairwise_distances_argmin_min\u001b[0;34m(X, Y, axis, metric, batch_size, metric_kwargs)\u001b[0m\n\u001b[1;32m    362\u001b[0m                 \u001b[0;32mif\u001b[0m \u001b[0mmetric\u001b[0m \u001b[0;34m==\u001b[0m \u001b[0;34m'euclidean'\u001b[0m\u001b[0;34m:\u001b[0m  \u001b[0;31m# special case, for speed\u001b[0m\u001b[0;34m\u001b[0m\u001b[0m\n\u001b[1;32m    363\u001b[0m                     d_chunk = safe_sparse_dot(X_chunk, Y_chunk.T,\n\u001b[0;32m--> 364\u001b[0;31m                                               dense_output=True)\n\u001b[0m\u001b[1;32m    365\u001b[0m                     \u001b[0md_chunk\u001b[0m \u001b[0;34m*=\u001b[0m \u001b[0;34m-\u001b[0m\u001b[0;36m2\u001b[0m\u001b[0;34m\u001b[0m\u001b[0m\n\u001b[1;32m    366\u001b[0m                     \u001b[0md_chunk\u001b[0m \u001b[0;34m+=\u001b[0m \u001b[0mrow_norms\u001b[0m\u001b[0;34m(\u001b[0m\u001b[0mX_chunk\u001b[0m\u001b[0;34m,\u001b[0m \u001b[0msquared\u001b[0m\u001b[0;34m=\u001b[0m\u001b[0;32mTrue\u001b[0m\u001b[0;34m)\u001b[0m\u001b[0;34m[\u001b[0m\u001b[0;34m:\u001b[0m\u001b[0;34m,\u001b[0m \u001b[0mnp\u001b[0m\u001b[0;34m.\u001b[0m\u001b[0mnewaxis\u001b[0m\u001b[0;34m]\u001b[0m\u001b[0;34m\u001b[0m\u001b[0m\n",
      "\u001b[0;32m~/anaconda3/envs/fastai/lib/python3.6/site-packages/sklearn/utils/extmath.py\u001b[0m in \u001b[0;36msafe_sparse_dot\u001b[0;34m(a, b, dense_output)\u001b[0m\n\u001b[1;32m    138\u001b[0m         \u001b[0;32mreturn\u001b[0m \u001b[0mret\u001b[0m\u001b[0;34m\u001b[0m\u001b[0m\n\u001b[1;32m    139\u001b[0m     \u001b[0;32melse\u001b[0m\u001b[0;34m:\u001b[0m\u001b[0;34m\u001b[0m\u001b[0m\n\u001b[0;32m--> 140\u001b[0;31m         \u001b[0;32mreturn\u001b[0m \u001b[0mnp\u001b[0m\u001b[0;34m.\u001b[0m\u001b[0mdot\u001b[0m\u001b[0;34m(\u001b[0m\u001b[0ma\u001b[0m\u001b[0;34m,\u001b[0m \u001b[0mb\u001b[0m\u001b[0;34m)\u001b[0m\u001b[0;34m\u001b[0m\u001b[0m\n\u001b[0m\u001b[1;32m    141\u001b[0m \u001b[0;34m\u001b[0m\u001b[0m\n\u001b[1;32m    142\u001b[0m \u001b[0;34m\u001b[0m\u001b[0m\n",
      "\u001b[0;31mKeyboardInterrupt\u001b[0m: "
     ]
    }
   ],
   "source": [
    "train['geolocation2_end']=ms.labels_\n",
    "test['geolocation2_end'] = ms.predict(np.array(test[geo_parameters]))"
   ]
  },
  {
   "cell_type": "code",
   "execution_count": 62,
   "metadata": {},
   "outputs": [],
   "source": [
    "#columns = ['X_START_AREA', 'Y_START_AREA', 'X_END_AREA', 'Y_END_AREA']"
   ]
  },
  {
   "cell_type": "code",
   "execution_count": 68,
   "metadata": {},
   "outputs": [],
   "source": [
    "#for t in columns:\n",
    "#    train[t] = train[t].astype(np.int64)\n",
    "#    test[t] = test[t].astype(np.int64)"
   ]
  },
  {
   "cell_type": "code",
   "execution_count": 49,
   "metadata": {},
   "outputs": [],
   "source": [
    "train.to_feather(f'{PATH}joined')\n",
    "test.to_feather(f'{PATH}joined_test')"
   ]
  },
  {
   "cell_type": "markdown",
   "metadata": {},
   "source": [
    "## Select features"
   ]
  },
  {
   "cell_type": "code",
   "execution_count": 51,
   "metadata": {},
   "outputs": [
    {
     "data": {
      "text/plain": [
       "0"
      ]
     },
     "execution_count": 51,
     "metadata": {},
     "output_type": "execute_result"
    }
   ],
   "source": [
    "missing = train.isnull().sum()\n",
    "missing = missing[missing > 0]; missing.sum()"
   ]
  },
  {
   "cell_type": "code",
   "execution_count": 53,
   "metadata": {},
   "outputs": [
    {
     "data": {
      "text/plain": [
       "distance_haversine    1\n",
       "dtype: int64"
      ]
     },
     "execution_count": 53,
     "metadata": {},
     "output_type": "execute_result"
    }
   ],
   "source": [
    "missing = test.isnull().sum()\n",
    "missing = missing[missing > 0]; missing"
   ]
  },
  {
   "cell_type": "code",
   "execution_count": 60,
   "metadata": {},
   "outputs": [
    {
     "data": {
      "image/png": "[encoded data removed]",
      "text/plain": [
       "<matplotlib.figure.Figure at 0x7f78604cfb38>"
      ]
     },
     "metadata": {},
     "output_type": "display_data"
    }
   ],
   "source": [
    "corrmat = train.corr()\n",
    "f, ax = plt.subplots(figsize=(12, 9))\n",
    "sns.heatmap(corrmat, vmax=.8, square=True);"
   ]
  },
  {
   "cell_type": "code",
   "execution_count": 70,
   "metadata": {},
   "outputs": [
    {
     "data": {
      "image/png": "[encoded data removed]",
      "text/plain": [
       "<matplotlib.figure.Figure at 0x7f78c15735f8>"
      ]
     },
     "metadata": {},
     "output_type": "display_data"
    }
   ],
   "source": [
    "k = 10\n",
    "cols = corrmat.nlargest(k, 'Price')['Price'].index\n",
    "cm = np.corrcoef(train[cols].values.T)\n",
    "sns.set(font_scale=1.00)\n",
    "hm = sns.heatmap(cm, cbar=True, annot=True, square=True, fmt='.2f',\n",
    "                annot_kws={'size': 10}, yticklabels=cols.values, xticklabels=cols.values)\n",
    "plt.show()"
   ]
  },
  {
   "cell_type": "code",
   "execution_count": 77,
   "metadata": {},
   "outputs": [
    {
     "data": {
      "text/plain": [
       "Price                      1.000000\n",
       "TRAJ_LENGTH                0.914306\n",
       "DURATION                   0.828431\n",
       "DISTANCE                   0.664438\n",
       "pca_distance               0.655118\n",
       "LOG_DISTANCE               0.567522\n",
       "dropoff_pca0               0.360952\n",
       "X_END                      0.352238\n",
       "center_latitude            0.335323\n",
       "distance_dummy             0.313267\n",
       "geolocation2_end           0.243162\n",
       "geolocation1_end           0.243162\n",
       "geolocation1               0.158390\n",
       "distance_haversine         0.141881\n",
       "center_longitude           0.111916\n",
       "pickup_pca0                0.110335\n",
       "Y_END                      0.105873\n",
       "X_START                    0.100598\n",
       "Y_START                    0.063396\n",
       "pickup_pca1                0.038897\n",
       "direction                  0.023304\n",
       "TIMESTAMPElapsed           0.021066\n",
       "direction_ew               0.013955\n",
       "TIMESTAMPMonth             0.013247\n",
       "TIMESTAMPWeek              0.012866\n",
       "dropoff_pca1               0.006028\n",
       "TIMESTAMPMinute            0.005907\n",
       "TIMESTAMPYear              0.005401\n",
       "TIMESTAMPIs_year_end       0.001870\n",
       "TAXI_ID                    0.001602\n",
       "TIMESTAMPIs_year_start     0.001138\n",
       "ID                         0.000947\n",
       "TIMESTAMPIs_month_start    0.000100\n",
       "TIMESTAMPDay              -0.001449\n",
       "TIMESTAMPIs_month_end     -0.001731\n",
       "TIMESTAMPHour             -0.008205\n",
       "TIMESTAMPDayofweek        -0.014788\n",
       "Holiday                   -0.025838\n",
       "direction_ns              -0.070156\n",
       "Name: Price, dtype: float64"
      ]
     },
     "execution_count": 77,
     "metadata": {},
     "output_type": "execute_result"
    }
   ],
   "source": [
    "corr_mat = train.corr(method='pearson')\n",
    "corr_mat['Price'].sort_values(ascending=False)"
   ]
  },
  {
   "cell_type": "markdown",
   "metadata": {
    "collapsed": true,
    "heading_collapsed": true
   },
   "source": [
    "## Create features"
   ]
  },
  {
   "cell_type": "code",
   "execution_count": 7,
   "metadata": {
    "hidden": true
   },
   "outputs": [],
   "source": [
    "joined = pd.read_feather(f'{PATH}joined')\n",
    "joined_test = pd.read_feather(f'{PATH}joined_test')"
   ]
  },
  {
   "cell_type": "code",
   "execution_count": 8,
   "metadata": {},
   "outputs": [
    {
     "data": {
      "text/html": [
       "<div>\n",
       "<style scoped>\n",
       "    .dataframe tbody tr th:only-of-type {\n",
       "        vertical-align: middle;\n",
       "    }\n",
       "\n",
       "    .dataframe tbody tr th {\n",
       "        vertical-align: top;\n",
       "    }\n",
       "\n",
       "    .dataframe thead th {\n",
       "        text-align: right;\n",
       "    }\n",
       "</style>\n",
       "<table border=\"1\" class=\"dataframe\">\n",
       "  <thead>\n",
       "    <tr style=\"text-align: right;\">\n",
       "      <th></th>\n",
       "      <th>0</th>\n",
       "      <th>1</th>\n",
       "      <th>2</th>\n",
       "      <th>3</th>\n",
       "      <th>4</th>\n",
       "    </tr>\n",
       "  </thead>\n",
       "  <tbody>\n",
       "    <tr>\n",
       "      <th>ID</th>\n",
       "      <td>1</td>\n",
       "      <td>2</td>\n",
       "      <td>3</td>\n",
       "      <td>4</td>\n",
       "      <td>5</td>\n",
       "    </tr>\n",
       "    <tr>\n",
       "      <th>TAXI_ID</th>\n",
       "      <td>127</td>\n",
       "      <td>420</td>\n",
       "      <td>56</td>\n",
       "      <td>133</td>\n",
       "      <td>545</td>\n",
       "    </tr>\n",
       "    <tr>\n",
       "      <th>TIMESTAMP</th>\n",
       "      <td>2009-03-07 07:48:56</td>\n",
       "      <td>2008-07-18 09:24:20</td>\n",
       "      <td>2009-03-10 10:29:21</td>\n",
       "      <td>2008-09-03 15:27:24</td>\n",
       "      <td>2008-09-22 13:15:52</td>\n",
       "    </tr>\n",
       "    <tr>\n",
       "      <th>DURATION</th>\n",
       "      <td>223</td>\n",
       "      <td>359</td>\n",
       "      <td>162</td>\n",
       "      <td>124</td>\n",
       "      <td>219</td>\n",
       "    </tr>\n",
       "    <tr>\n",
       "      <th>X_START</th>\n",
       "      <td>-223</td>\n",
       "      <td>-257</td>\n",
       "      <td>-320</td>\n",
       "      <td>-352</td>\n",
       "      <td>-350</td>\n",
       "    </tr>\n",
       "    <tr>\n",
       "      <th>Y_START</th>\n",
       "      <td>-350</td>\n",
       "      <td>-73</td>\n",
       "      <td>-300</td>\n",
       "      <td>-233</td>\n",
       "      <td>-232</td>\n",
       "    </tr>\n",
       "    <tr>\n",
       "      <th>X_END</th>\n",
       "      <td>-124</td>\n",
       "      <td>-326</td>\n",
       "      <td>-332</td>\n",
       "      <td>-380</td>\n",
       "      <td>-301</td>\n",
       "    </tr>\n",
       "    <tr>\n",
       "      <th>Y_END</th>\n",
       "      <td>-39</td>\n",
       "      <td>-292</td>\n",
       "      <td>-254</td>\n",
       "      <td>-189</td>\n",
       "      <td>-300</td>\n",
       "    </tr>\n",
       "    <tr>\n",
       "      <th>X_TRAJECTORY</th>\n",
       "      <td>-223, -225, -225, -221, -217, -209, -212, -204...</td>\n",
       "      <td>-257, -257, -260, -262, -263, -263, -262, -262...</td>\n",
       "      <td>-320, -324, -329, -334, -340, -340, -340, -340...</td>\n",
       "      <td>-352, -354, -356, -356, -356, -356, -356, -356...</td>\n",
       "      <td>-350, -350, -350, -350, -350, -352, -355, -354...</td>\n",
       "    </tr>\n",
       "    <tr>\n",
       "      <th>Y_TRAJECTORY</th>\n",
       "      <td>-350, -347, -342, -336, -329, -321, -324, -324...</td>\n",
       "      <td>-73, -75, -86, -100, -111, -121, -133, -138, -...</td>\n",
       "      <td>-300, -301, -301, -297, -298, -295, -295, -294...</td>\n",
       "      <td>-233, -233, -234, -234, -234, -233, -234, -230...</td>\n",
       "      <td>-232, -232, -232, -232, -232, -232, -233, -236...</td>\n",
       "    </tr>\n",
       "    <tr>\n",
       "      <th>TRAJ_LENGTH</th>\n",
       "      <td>439</td>\n",
       "      <td>260</td>\n",
       "      <td>135</td>\n",
       "      <td>70</td>\n",
       "      <td>117</td>\n",
       "    </tr>\n",
       "    <tr>\n",
       "      <th>Price</th>\n",
       "      <td>662</td>\n",
       "      <td>619</td>\n",
       "      <td>297</td>\n",
       "      <td>194</td>\n",
       "      <td>336</td>\n",
       "    </tr>\n",
       "    <tr>\n",
       "      <th>TIMESTAMPYear</th>\n",
       "      <td>2009</td>\n",
       "      <td>2008</td>\n",
       "      <td>2009</td>\n",
       "      <td>2008</td>\n",
       "      <td>2008</td>\n",
       "    </tr>\n",
       "    <tr>\n",
       "      <th>TIMESTAMPMonth</th>\n",
       "      <td>3</td>\n",
       "      <td>7</td>\n",
       "      <td>3</td>\n",
       "      <td>9</td>\n",
       "      <td>9</td>\n",
       "    </tr>\n",
       "    <tr>\n",
       "      <th>TIMESTAMPWeek</th>\n",
       "      <td>10</td>\n",
       "      <td>29</td>\n",
       "      <td>11</td>\n",
       "      <td>36</td>\n",
       "      <td>39</td>\n",
       "    </tr>\n",
       "    <tr>\n",
       "      <th>TIMESTAMPDay</th>\n",
       "      <td>7</td>\n",
       "      <td>18</td>\n",
       "      <td>10</td>\n",
       "      <td>3</td>\n",
       "      <td>22</td>\n",
       "    </tr>\n",
       "    <tr>\n",
       "      <th>TIMESTAMPDayofweek</th>\n",
       "      <td>5</td>\n",
       "      <td>4</td>\n",
       "      <td>1</td>\n",
       "      <td>2</td>\n",
       "      <td>0</td>\n",
       "    </tr>\n",
       "    <tr>\n",
       "      <th>TIMESTAMPIs_month_end</th>\n",
       "      <td>False</td>\n",
       "      <td>False</td>\n",
       "      <td>False</td>\n",
       "      <td>False</td>\n",
       "      <td>False</td>\n",
       "    </tr>\n",
       "    <tr>\n",
       "      <th>TIMESTAMPIs_month_start</th>\n",
       "      <td>False</td>\n",
       "      <td>False</td>\n",
       "      <td>False</td>\n",
       "      <td>False</td>\n",
       "      <td>False</td>\n",
       "    </tr>\n",
       "    <tr>\n",
       "      <th>TIMESTAMPIs_year_end</th>\n",
       "      <td>False</td>\n",
       "      <td>False</td>\n",
       "      <td>False</td>\n",
       "      <td>False</td>\n",
       "      <td>False</td>\n",
       "    </tr>\n",
       "    <tr>\n",
       "      <th>TIMESTAMPIs_year_start</th>\n",
       "      <td>False</td>\n",
       "      <td>False</td>\n",
       "      <td>False</td>\n",
       "      <td>False</td>\n",
       "      <td>False</td>\n",
       "    </tr>\n",
       "    <tr>\n",
       "      <th>TIMESTAMPHour</th>\n",
       "      <td>7</td>\n",
       "      <td>9</td>\n",
       "      <td>10</td>\n",
       "      <td>15</td>\n",
       "      <td>13</td>\n",
       "    </tr>\n",
       "    <tr>\n",
       "      <th>TIMESTAMPMinute</th>\n",
       "      <td>48</td>\n",
       "      <td>24</td>\n",
       "      <td>29</td>\n",
       "      <td>27</td>\n",
       "      <td>15</td>\n",
       "    </tr>\n",
       "    <tr>\n",
       "      <th>TIMESTAMPElapsed</th>\n",
       "      <td>1236412136</td>\n",
       "      <td>1216373060</td>\n",
       "      <td>1236680961</td>\n",
       "      <td>1220455644</td>\n",
       "      <td>1222089352</td>\n",
       "    </tr>\n",
       "    <tr>\n",
       "      <th>Holiday</th>\n",
       "      <td>True</td>\n",
       "      <td>False</td>\n",
       "      <td>False</td>\n",
       "      <td>False</td>\n",
       "      <td>False</td>\n",
       "    </tr>\n",
       "    <tr>\n",
       "      <th>distance_haversine</th>\n",
       "      <td>11929.3</td>\n",
       "      <td>5157.92</td>\n",
       "      <td>4392.23</td>\n",
       "      <td>5732.52</td>\n",
       "      <td>7805.12</td>\n",
       "    </tr>\n",
       "    <tr>\n",
       "      <th>distance_dummy</th>\n",
       "      <td>14934.6</td>\n",
       "      <td>10395</td>\n",
       "      <td>5207.62</td>\n",
       "      <td>7955.97</td>\n",
       "      <td>12879.7</td>\n",
       "    </tr>\n",
       "    <tr>\n",
       "      <th>center_latitude</th>\n",
       "      <td>-173.5</td>\n",
       "      <td>-291.5</td>\n",
       "      <td>-326</td>\n",
       "      <td>-366</td>\n",
       "      <td>-325.5</td>\n",
       "    </tr>\n",
       "    <tr>\n",
       "      <th>center_longitude</th>\n",
       "      <td>-194.5</td>\n",
       "      <td>-182.5</td>\n",
       "      <td>-277</td>\n",
       "      <td>-211</td>\n",
       "      <td>-266</td>\n",
       "    </tr>\n",
       "    <tr>\n",
       "      <th>direction</th>\n",
       "      <td>26.2306</td>\n",
       "      <td>46.1053</td>\n",
       "      <td>93.1196</td>\n",
       "      <td>123.543</td>\n",
       "      <td>-30.5016</td>\n",
       "    </tr>\n",
       "    <tr>\n",
       "      <th>direction_ns</th>\n",
       "      <td>1</td>\n",
       "      <td>2</td>\n",
       "      <td>2</td>\n",
       "      <td>2</td>\n",
       "      <td>1</td>\n",
       "    </tr>\n",
       "    <tr>\n",
       "      <th>direction_ew</th>\n",
       "      <td>1</td>\n",
       "      <td>2</td>\n",
       "      <td>1</td>\n",
       "      <td>1</td>\n",
       "      <td>2</td>\n",
       "    </tr>\n",
       "    <tr>\n",
       "      <th>pickup_pca0</th>\n",
       "      <td>11.081</td>\n",
       "      <td>39.856</td>\n",
       "      <td>-72.2889</td>\n",
       "      <td>-88.5035</td>\n",
       "      <td>-86.3306</td>\n",
       "    </tr>\n",
       "    <tr>\n",
       "      <th>pickup_pca1</th>\n",
       "      <td>-111.897</td>\n",
       "      <td>165.694</td>\n",
       "      <td>-41.481</td>\n",
       "      <td>30.9765</td>\n",
       "      <td>31.5042</td>\n",
       "    </tr>\n",
       "    <tr>\n",
       "      <th>dropoff_pca0</th>\n",
       "      <td>177.091</td>\n",
       "      <td>-76.349</td>\n",
       "      <td>-73.7034</td>\n",
       "      <td>-105.96</td>\n",
       "      <td>-53.7696</td>\n",
       "    </tr>\n",
       "    <tr>\n",
       "      <th>dropoff_pca1</th>\n",
       "      <td>169.106</td>\n",
       "      <td>-32.3422</td>\n",
       "      <td>6.03745</td>\n",
       "      <td>80.1218</td>\n",
       "      <td>-45.7278</td>\n",
       "    </tr>\n",
       "    <tr>\n",
       "      <th>pca_distance</th>\n",
       "      <td>447.013</td>\n",
       "      <td>314.241</td>\n",
       "      <td>48.9329</td>\n",
       "      <td>66.6021</td>\n",
       "      <td>109.793</td>\n",
       "    </tr>\n",
       "    <tr>\n",
       "      <th>DISTANCE</th>\n",
       "      <td>326.377</td>\n",
       "      <td>229.613</td>\n",
       "      <td>47.5395</td>\n",
       "      <td>52.1536</td>\n",
       "      <td>83.8153</td>\n",
       "    </tr>\n",
       "    <tr>\n",
       "      <th>LOG_DISTANCE</th>\n",
       "      <td>5.79111</td>\n",
       "      <td>5.44074</td>\n",
       "      <td>3.88238</td>\n",
       "      <td>3.97319</td>\n",
       "      <td>4.44048</td>\n",
       "    </tr>\n",
       "    <tr>\n",
       "      <th>geolocation1</th>\n",
       "      <td>555</td>\n",
       "      <td>456</td>\n",
       "      <td>2434</td>\n",
       "      <td>3017</td>\n",
       "      <td>69</td>\n",
       "    </tr>\n",
       "  </tbody>\n",
       "</table>\n",
       "</div>"
      ],
      "text/plain": [
       "                                                                         0  \\\n",
       "ID                                                                       1   \n",
       "TAXI_ID                                                                127   \n",
       "TIMESTAMP                                              2009-03-07 07:48:56   \n",
       "DURATION                                                               223   \n",
       "X_START                                                               -223   \n",
       "Y_START                                                               -350   \n",
       "X_END                                                                 -124   \n",
       "Y_END                                                                  -39   \n",
       "X_TRAJECTORY             -223, -225, -225, -221, -217, -209, -212, -204...   \n",
       "Y_TRAJECTORY             -350, -347, -342, -336, -329, -321, -324, -324...   \n",
       "TRAJ_LENGTH                                                            439   \n",
       "Price                                                                  662   \n",
       "TIMESTAMPYear                                                         2009   \n",
       "TIMESTAMPMonth                                                           3   \n",
       "TIMESTAMPWeek                                                           10   \n",
       "TIMESTAMPDay                                                             7   \n",
       "TIMESTAMPDayofweek                                                       5   \n",
       "TIMESTAMPIs_month_end                                                False   \n",
       "TIMESTAMPIs_month_start                                              False   \n",
       "TIMESTAMPIs_year_end                                                 False   \n",
       "TIMESTAMPIs_year_start                                               False   \n",
       "TIMESTAMPHour                                                            7   \n",
       "TIMESTAMPMinute                                                         48   \n",
       "TIMESTAMPElapsed                                                1236412136   \n",
       "Holiday                                                               True   \n",
       "distance_haversine                                                 11929.3   \n",
       "distance_dummy                                                     14934.6   \n",
       "center_latitude                                                     -173.5   \n",
       "center_longitude                                                    -194.5   \n",
       "direction                                                          26.2306   \n",
       "direction_ns                                                             1   \n",
       "direction_ew                                                             1   \n",
       "pickup_pca0                                                         11.081   \n",
       "pickup_pca1                                                       -111.897   \n",
       "dropoff_pca0                                                       177.091   \n",
       "dropoff_pca1                                                       169.106   \n",
       "pca_distance                                                       447.013   \n",
       "DISTANCE                                                           326.377   \n",
       "LOG_DISTANCE                                                       5.79111   \n",
       "geolocation1                                                           555   \n",
       "\n",
       "                                                                         1  \\\n",
       "ID                                                                       2   \n",
       "TAXI_ID                                                                420   \n",
       "TIMESTAMP                                              2008-07-18 09:24:20   \n",
       "DURATION                                                               359   \n",
       "X_START                                                               -257   \n",
       "Y_START                                                                -73   \n",
       "X_END                                                                 -326   \n",
       "Y_END                                                                 -292   \n",
       "X_TRAJECTORY             -257, -257, -260, -262, -263, -263, -262, -262...   \n",
       "Y_TRAJECTORY             -73, -75, -86, -100, -111, -121, -133, -138, -...   \n",
       "TRAJ_LENGTH                                                            260   \n",
       "Price                                                                  619   \n",
       "TIMESTAMPYear                                                         2008   \n",
       "TIMESTAMPMonth                                                           7   \n",
       "TIMESTAMPWeek                                                           29   \n",
       "TIMESTAMPDay                                                            18   \n",
       "TIMESTAMPDayofweek                                                       4   \n",
       "TIMESTAMPIs_month_end                                                False   \n",
       "TIMESTAMPIs_month_start                                              False   \n",
       "TIMESTAMPIs_year_end                                                 False   \n",
       "TIMESTAMPIs_year_start                                               False   \n",
       "TIMESTAMPHour                                                            9   \n",
       "TIMESTAMPMinute                                                         24   \n",
       "TIMESTAMPElapsed                                                1216373060   \n",
       "Holiday                                                              False   \n",
       "distance_haversine                                                 5157.92   \n",
       "distance_dummy                                                       10395   \n",
       "center_latitude                                                     -291.5   \n",
       "center_longitude                                                    -182.5   \n",
       "direction                                                          46.1053   \n",
       "direction_ns                                                             2   \n",
       "direction_ew                                                             2   \n",
       "pickup_pca0                                                         39.856   \n",
       "pickup_pca1                                                        165.694   \n",
       "dropoff_pca0                                                       -76.349   \n",
       "dropoff_pca1                                                      -32.3422   \n",
       "pca_distance                                                       314.241   \n",
       "DISTANCE                                                           229.613   \n",
       "LOG_DISTANCE                                                       5.44074   \n",
       "geolocation1                                                           456   \n",
       "\n",
       "                                                                         2  \\\n",
       "ID                                                                       3   \n",
       "TAXI_ID                                                                 56   \n",
       "TIMESTAMP                                              2009-03-10 10:29:21   \n",
       "DURATION                                                               162   \n",
       "X_START                                                               -320   \n",
       "Y_START                                                               -300   \n",
       "X_END                                                                 -332   \n",
       "Y_END                                                                 -254   \n",
       "X_TRAJECTORY             -320, -324, -329, -334, -340, -340, -340, -340...   \n",
       "Y_TRAJECTORY             -300, -301, -301, -297, -298, -295, -295, -294...   \n",
       "TRAJ_LENGTH                                                            135   \n",
       "Price                                                                  297   \n",
       "TIMESTAMPYear                                                         2009   \n",
       "TIMESTAMPMonth                                                           3   \n",
       "TIMESTAMPWeek                                                           11   \n",
       "TIMESTAMPDay                                                            10   \n",
       "TIMESTAMPDayofweek                                                       1   \n",
       "TIMESTAMPIs_month_end                                                False   \n",
       "TIMESTAMPIs_month_start                                              False   \n",
       "TIMESTAMPIs_year_end                                                 False   \n",
       "TIMESTAMPIs_year_start                                               False   \n",
       "TIMESTAMPHour                                                           10   \n",
       "TIMESTAMPMinute                                                         29   \n",
       "TIMESTAMPElapsed                                                1236680961   \n",
       "Holiday                                                              False   \n",
       "distance_haversine                                                 4392.23   \n",
       "distance_dummy                                                     5207.62   \n",
       "center_latitude                                                       -326   \n",
       "center_longitude                                                      -277   \n",
       "direction                                                          93.1196   \n",
       "direction_ns                                                             2   \n",
       "direction_ew                                                             1   \n",
       "pickup_pca0                                                       -72.2889   \n",
       "pickup_pca1                                                        -41.481   \n",
       "dropoff_pca0                                                      -73.7034   \n",
       "dropoff_pca1                                                       6.03745   \n",
       "pca_distance                                                       48.9329   \n",
       "DISTANCE                                                           47.5395   \n",
       "LOG_DISTANCE                                                       3.88238   \n",
       "geolocation1                                                          2434   \n",
       "\n",
       "                                                                         3  \\\n",
       "ID                                                                       4   \n",
       "TAXI_ID                                                                133   \n",
       "TIMESTAMP                                              2008-09-03 15:27:24   \n",
       "DURATION                                                               124   \n",
       "X_START                                                               -352   \n",
       "Y_START                                                               -233   \n",
       "X_END                                                                 -380   \n",
       "Y_END                                                                 -189   \n",
       "X_TRAJECTORY             -352, -354, -356, -356, -356, -356, -356, -356...   \n",
       "Y_TRAJECTORY             -233, -233, -234, -234, -234, -233, -234, -230...   \n",
       "TRAJ_LENGTH                                                             70   \n",
       "Price                                                                  194   \n",
       "TIMESTAMPYear                                                         2008   \n",
       "TIMESTAMPMonth                                                           9   \n",
       "TIMESTAMPWeek                                                           36   \n",
       "TIMESTAMPDay                                                             3   \n",
       "TIMESTAMPDayofweek                                                       2   \n",
       "TIMESTAMPIs_month_end                                                False   \n",
       "TIMESTAMPIs_month_start                                              False   \n",
       "TIMESTAMPIs_year_end                                                 False   \n",
       "TIMESTAMPIs_year_start                                               False   \n",
       "TIMESTAMPHour                                                           15   \n",
       "TIMESTAMPMinute                                                         27   \n",
       "TIMESTAMPElapsed                                                1220455644   \n",
       "Holiday                                                              False   \n",
       "distance_haversine                                                 5732.52   \n",
       "distance_dummy                                                     7955.97   \n",
       "center_latitude                                                       -366   \n",
       "center_longitude                                                      -211   \n",
       "direction                                                          123.543   \n",
       "direction_ns                                                             2   \n",
       "direction_ew                                                             1   \n",
       "pickup_pca0                                                       -88.5035   \n",
       "pickup_pca1                                                        30.9765   \n",
       "dropoff_pca0                                                       -105.96   \n",
       "dropoff_pca1                                                       80.1218   \n",
       "pca_distance                                                       66.6021   \n",
       "DISTANCE                                                           52.1536   \n",
       "LOG_DISTANCE                                                       3.97319   \n",
       "geolocation1                                                          3017   \n",
       "\n",
       "                                                                         4  \n",
       "ID                                                                       5  \n",
       "TAXI_ID                                                                545  \n",
       "TIMESTAMP                                              2008-09-22 13:15:52  \n",
       "DURATION                                                               219  \n",
       "X_START                                                               -350  \n",
       "Y_START                                                               -232  \n",
       "X_END                                                                 -301  \n",
       "Y_END                                                                 -300  \n",
       "X_TRAJECTORY             -350, -350, -350, -350, -350, -352, -355, -354...  \n",
       "Y_TRAJECTORY             -232, -232, -232, -232, -232, -232, -233, -236...  \n",
       "TRAJ_LENGTH                                                            117  \n",
       "Price                                                                  336  \n",
       "TIMESTAMPYear                                                         2008  \n",
       "TIMESTAMPMonth                                                           9  \n",
       "TIMESTAMPWeek                                                           39  \n",
       "TIMESTAMPDay                                                            22  \n",
       "TIMESTAMPDayofweek                                                       0  \n",
       "TIMESTAMPIs_month_end                                                False  \n",
       "TIMESTAMPIs_month_start                                              False  \n",
       "TIMESTAMPIs_year_end                                                 False  \n",
       "TIMESTAMPIs_year_start                                               False  \n",
       "TIMESTAMPHour                                                           13  \n",
       "TIMESTAMPMinute                                                         15  \n",
       "TIMESTAMPElapsed                                                1222089352  \n",
       "Holiday                                                              False  \n",
       "distance_haversine                                                 7805.12  \n",
       "distance_dummy                                                     12879.7  \n",
       "center_latitude                                                     -325.5  \n",
       "center_longitude                                                      -266  \n",
       "direction                                                         -30.5016  \n",
       "direction_ns                                                             1  \n",
       "direction_ew                                                             2  \n",
       "pickup_pca0                                                       -86.3306  \n",
       "pickup_pca1                                                        31.5042  \n",
       "dropoff_pca0                                                      -53.7696  \n",
       "dropoff_pca1                                                      -45.7278  \n",
       "pca_distance                                                       109.793  \n",
       "DISTANCE                                                           83.8153  \n",
       "LOG_DISTANCE                                                       4.44048  \n",
       "geolocation1                                                            69  "
      ]
     },
     "execution_count": 8,
     "metadata": {},
     "output_type": "execute_result"
    }
   ],
   "source": [
    "joined.head().T.head(40)"
   ]
  },
  {
   "cell_type": "code",
   "execution_count": 9,
   "metadata": {
    "hidden": true,
    "scrolled": false
   },
   "outputs": [
    {
     "data": {
      "text/html": [
       "<div>\n",
       "<style scoped>\n",
       "    .dataframe tbody tr th:only-of-type {\n",
       "        vertical-align: middle;\n",
       "    }\n",
       "\n",
       "    .dataframe tbody tr th {\n",
       "        vertical-align: top;\n",
       "    }\n",
       "\n",
       "    .dataframe thead th {\n",
       "        text-align: right;\n",
       "    }\n",
       "</style>\n",
       "<table border=\"1\" class=\"dataframe\">\n",
       "  <thead>\n",
       "    <tr style=\"text-align: right;\">\n",
       "      <th></th>\n",
       "      <th>0</th>\n",
       "      <th>1</th>\n",
       "      <th>2</th>\n",
       "      <th>3</th>\n",
       "      <th>4</th>\n",
       "    </tr>\n",
       "  </thead>\n",
       "  <tbody>\n",
       "    <tr>\n",
       "      <th>ID</th>\n",
       "      <td>465173</td>\n",
       "      <td>465174</td>\n",
       "      <td>465175</td>\n",
       "      <td>465176</td>\n",
       "      <td>465177</td>\n",
       "    </tr>\n",
       "    <tr>\n",
       "      <th>TAXI_ID</th>\n",
       "      <td>251</td>\n",
       "      <td>560</td>\n",
       "      <td>212</td>\n",
       "      <td>279</td>\n",
       "      <td>84</td>\n",
       "    </tr>\n",
       "    <tr>\n",
       "      <th>TIMESTAMP</th>\n",
       "      <td>2008-08-23 18:47:30</td>\n",
       "      <td>2008-08-22 14:44:52</td>\n",
       "      <td>2008-07-25 19:12:20</td>\n",
       "      <td>2009-04-20 11:51:23</td>\n",
       "      <td>2008-06-13 08:10:20</td>\n",
       "    </tr>\n",
       "    <tr>\n",
       "      <th>X_START</th>\n",
       "      <td>-331</td>\n",
       "      <td>-293</td>\n",
       "      <td>-381</td>\n",
       "      <td>-150</td>\n",
       "      <td>-326</td>\n",
       "    </tr>\n",
       "    <tr>\n",
       "      <th>Y_START</th>\n",
       "      <td>-102</td>\n",
       "      <td>-129</td>\n",
       "      <td>-190</td>\n",
       "      <td>-25</td>\n",
       "      <td>-302</td>\n",
       "    </tr>\n",
       "    <tr>\n",
       "      <th>X_END</th>\n",
       "      <td>-396</td>\n",
       "      <td>-275</td>\n",
       "      <td>-285</td>\n",
       "      <td>-153</td>\n",
       "      <td>-350</td>\n",
       "    </tr>\n",
       "    <tr>\n",
       "      <th>Y_END</th>\n",
       "      <td>-95</td>\n",
       "      <td>-190</td>\n",
       "      <td>-266</td>\n",
       "      <td>-382</td>\n",
       "      <td>-198</td>\n",
       "    </tr>\n",
       "    <tr>\n",
       "      <th>TIMESTAMPYear</th>\n",
       "      <td>2008</td>\n",
       "      <td>2008</td>\n",
       "      <td>2008</td>\n",
       "      <td>2009</td>\n",
       "      <td>2008</td>\n",
       "    </tr>\n",
       "    <tr>\n",
       "      <th>TIMESTAMPMonth</th>\n",
       "      <td>8</td>\n",
       "      <td>8</td>\n",
       "      <td>7</td>\n",
       "      <td>4</td>\n",
       "      <td>6</td>\n",
       "    </tr>\n",
       "    <tr>\n",
       "      <th>TIMESTAMPWeek</th>\n",
       "      <td>34</td>\n",
       "      <td>34</td>\n",
       "      <td>30</td>\n",
       "      <td>17</td>\n",
       "      <td>24</td>\n",
       "    </tr>\n",
       "    <tr>\n",
       "      <th>TIMESTAMPDay</th>\n",
       "      <td>23</td>\n",
       "      <td>22</td>\n",
       "      <td>25</td>\n",
       "      <td>20</td>\n",
       "      <td>13</td>\n",
       "    </tr>\n",
       "    <tr>\n",
       "      <th>TIMESTAMPDayofweek</th>\n",
       "      <td>5</td>\n",
       "      <td>4</td>\n",
       "      <td>4</td>\n",
       "      <td>0</td>\n",
       "      <td>4</td>\n",
       "    </tr>\n",
       "    <tr>\n",
       "      <th>TIMESTAMPIs_month_end</th>\n",
       "      <td>False</td>\n",
       "      <td>False</td>\n",
       "      <td>False</td>\n",
       "      <td>False</td>\n",
       "      <td>False</td>\n",
       "    </tr>\n",
       "    <tr>\n",
       "      <th>TIMESTAMPIs_month_start</th>\n",
       "      <td>False</td>\n",
       "      <td>False</td>\n",
       "      <td>False</td>\n",
       "      <td>False</td>\n",
       "      <td>False</td>\n",
       "    </tr>\n",
       "    <tr>\n",
       "      <th>TIMESTAMPIs_year_end</th>\n",
       "      <td>False</td>\n",
       "      <td>False</td>\n",
       "      <td>False</td>\n",
       "      <td>False</td>\n",
       "      <td>False</td>\n",
       "    </tr>\n",
       "    <tr>\n",
       "      <th>TIMESTAMPIs_year_start</th>\n",
       "      <td>False</td>\n",
       "      <td>False</td>\n",
       "      <td>False</td>\n",
       "      <td>False</td>\n",
       "      <td>False</td>\n",
       "    </tr>\n",
       "    <tr>\n",
       "      <th>TIMESTAMPHour</th>\n",
       "      <td>18</td>\n",
       "      <td>14</td>\n",
       "      <td>19</td>\n",
       "      <td>11</td>\n",
       "      <td>8</td>\n",
       "    </tr>\n",
       "    <tr>\n",
       "      <th>TIMESTAMPMinute</th>\n",
       "      <td>47</td>\n",
       "      <td>44</td>\n",
       "      <td>12</td>\n",
       "      <td>51</td>\n",
       "      <td>10</td>\n",
       "    </tr>\n",
       "    <tr>\n",
       "      <th>TIMESTAMPElapsed</th>\n",
       "      <td>1219517250</td>\n",
       "      <td>1219416292</td>\n",
       "      <td>1217013140</td>\n",
       "      <td>1240228283</td>\n",
       "      <td>1213344620</td>\n",
       "    </tr>\n",
       "    <tr>\n",
       "      <th>Holiday</th>\n",
       "      <td>True</td>\n",
       "      <td>False</td>\n",
       "      <td>False</td>\n",
       "      <td>False</td>\n",
       "      <td>False</td>\n",
       "    </tr>\n",
       "    <tr>\n",
       "      <th>distance_haversine</th>\n",
       "      <td>7264.7</td>\n",
       "      <td>2336.31</td>\n",
       "      <td>11866.8</td>\n",
       "      <td>444.05</td>\n",
       "      <td>10648.4</td>\n",
       "    </tr>\n",
       "    <tr>\n",
       "      <th>distance_dummy</th>\n",
       "      <td>7908.34</td>\n",
       "      <td>4545.25</td>\n",
       "      <td>18476.9</td>\n",
       "      <td>622.469</td>\n",
       "      <td>11740</td>\n",
       "    </tr>\n",
       "    <tr>\n",
       "      <th>center_latitude</th>\n",
       "      <td>-363.5</td>\n",
       "      <td>-284</td>\n",
       "      <td>-333</td>\n",
       "      <td>-151.5</td>\n",
       "      <td>-338</td>\n",
       "    </tr>\n",
       "    <tr>\n",
       "      <th>center_longitude</th>\n",
       "      <td>-98.5</td>\n",
       "      <td>-159.5</td>\n",
       "      <td>-228</td>\n",
       "      <td>-203.5</td>\n",
       "      <td>-250</td>\n",
       "    </tr>\n",
       "    <tr>\n",
       "      <th>direction</th>\n",
       "      <td>173.771</td>\n",
       "      <td>-12.275</td>\n",
       "      <td>-15.2017</td>\n",
       "      <td>-137.965</td>\n",
       "      <td>73.8237</td>\n",
       "    </tr>\n",
       "    <tr>\n",
       "      <th>direction_ns</th>\n",
       "      <td>2</td>\n",
       "      <td>1</td>\n",
       "      <td>1</td>\n",
       "      <td>2</td>\n",
       "      <td>2</td>\n",
       "    </tr>\n",
       "    <tr>\n",
       "      <th>direction_ew</th>\n",
       "      <td>1</td>\n",
       "      <td>2</td>\n",
       "      <td>2</td>\n",
       "      <td>2</td>\n",
       "      <td>1</td>\n",
       "    </tr>\n",
       "    <tr>\n",
       "      <th>pickup_pca0</th>\n",
       "      <td>-38.7538</td>\n",
       "      <td>-7.75025</td>\n",
       "      <td>-107.158</td>\n",
       "      <td>154.878</td>\n",
       "      <td>-78.5842</td>\n",
       "    </tr>\n",
       "    <tr>\n",
       "      <th>pickup_pca1</th>\n",
       "      <td>153.968</td>\n",
       "      <td>119.158</td>\n",
       "      <td>79.3707</td>\n",
       "      <td>188.563</td>\n",
       "      <td>-42.0892</td>\n",
       "    </tr>\n",
       "    <tr>\n",
       "      <th>dropoff_pca0</th>\n",
       "      <td>-100.545</td>\n",
       "      <td>-3.84033</td>\n",
       "      <td>-30.5748</td>\n",
       "      <td>72.1573</td>\n",
       "      <td>-78.7309</td>\n",
       "    </tr>\n",
       "    <tr>\n",
       "      <th>dropoff_pca1</th>\n",
       "      <td>175.32</td>\n",
       "      <td>55.6776</td>\n",
       "      <td>-16.1643</td>\n",
       "      <td>-158.734</td>\n",
       "      <td>64.644</td>\n",
       "    </tr>\n",
       "    <tr>\n",
       "      <th>pca_distance</th>\n",
       "      <td>83.1425</td>\n",
       "      <td>67.3899</td>\n",
       "      <td>172.119</td>\n",
       "      <td>430.018</td>\n",
       "      <td>106.88</td>\n",
       "    </tr>\n",
       "    <tr>\n",
       "      <th>DISTANCE</th>\n",
       "      <td>65.3758</td>\n",
       "      <td>63.6003</td>\n",
       "      <td>122.442</td>\n",
       "      <td>357.013</td>\n",
       "      <td>106.733</td>\n",
       "    </tr>\n",
       "    <tr>\n",
       "      <th>LOG_DISTANCE</th>\n",
       "      <td>4.19533</td>\n",
       "      <td>4.16822</td>\n",
       "      <td>4.81577</td>\n",
       "      <td>5.88057</td>\n",
       "      <td>4.67966</td>\n",
       "    </tr>\n",
       "    <tr>\n",
       "      <th>geolocation1</th>\n",
       "      <td>109</td>\n",
       "      <td>27</td>\n",
       "      <td>0</td>\n",
       "      <td>277</td>\n",
       "      <td>755</td>\n",
       "    </tr>\n",
       "    <tr>\n",
       "      <th>geolocation1_end</th>\n",
       "      <td>12606</td>\n",
       "      <td>4259</td>\n",
       "      <td>2287</td>\n",
       "      <td>16895</td>\n",
       "      <td>12330</td>\n",
       "    </tr>\n",
       "  </tbody>\n",
       "</table>\n",
       "</div>"
      ],
      "text/plain": [
       "                                           0                    1  \\\n",
       "ID                                    465173               465174   \n",
       "TAXI_ID                                  251                  560   \n",
       "TIMESTAMP                2008-08-23 18:47:30  2008-08-22 14:44:52   \n",
       "X_START                                 -331                 -293   \n",
       "Y_START                                 -102                 -129   \n",
       "X_END                                   -396                 -275   \n",
       "Y_END                                    -95                 -190   \n",
       "TIMESTAMPYear                           2008                 2008   \n",
       "TIMESTAMPMonth                             8                    8   \n",
       "TIMESTAMPWeek                             34                   34   \n",
       "TIMESTAMPDay                              23                   22   \n",
       "TIMESTAMPDayofweek                         5                    4   \n",
       "TIMESTAMPIs_month_end                  False                False   \n",
       "TIMESTAMPIs_month_start                False                False   \n",
       "TIMESTAMPIs_year_end                   False                False   \n",
       "TIMESTAMPIs_year_start                 False                False   \n",
       "TIMESTAMPHour                             18                   14   \n",
       "TIMESTAMPMinute                           47                   44   \n",
       "TIMESTAMPElapsed                  1219517250           1219416292   \n",
       "Holiday                                 True                False   \n",
       "distance_haversine                    7264.7              2336.31   \n",
       "distance_dummy                       7908.34              4545.25   \n",
       "center_latitude                       -363.5                 -284   \n",
       "center_longitude                       -98.5               -159.5   \n",
       "direction                            173.771              -12.275   \n",
       "direction_ns                               2                    1   \n",
       "direction_ew                               1                    2   \n",
       "pickup_pca0                         -38.7538             -7.75025   \n",
       "pickup_pca1                          153.968              119.158   \n",
       "dropoff_pca0                        -100.545             -3.84033   \n",
       "dropoff_pca1                          175.32              55.6776   \n",
       "pca_distance                         83.1425              67.3899   \n",
       "DISTANCE                             65.3758              63.6003   \n",
       "LOG_DISTANCE                         4.19533              4.16822   \n",
       "geolocation1                             109                   27   \n",
       "geolocation1_end                       12606                 4259   \n",
       "\n",
       "                                           2                    3  \\\n",
       "ID                                    465175               465176   \n",
       "TAXI_ID                                  212                  279   \n",
       "TIMESTAMP                2008-07-25 19:12:20  2009-04-20 11:51:23   \n",
       "X_START                                 -381                 -150   \n",
       "Y_START                                 -190                  -25   \n",
       "X_END                                   -285                 -153   \n",
       "Y_END                                   -266                 -382   \n",
       "TIMESTAMPYear                           2008                 2009   \n",
       "TIMESTAMPMonth                             7                    4   \n",
       "TIMESTAMPWeek                             30                   17   \n",
       "TIMESTAMPDay                              25                   20   \n",
       "TIMESTAMPDayofweek                         4                    0   \n",
       "TIMESTAMPIs_month_end                  False                False   \n",
       "TIMESTAMPIs_month_start                False                False   \n",
       "TIMESTAMPIs_year_end                   False                False   \n",
       "TIMESTAMPIs_year_start                 False                False   \n",
       "TIMESTAMPHour                             19                   11   \n",
       "TIMESTAMPMinute                           12                   51   \n",
       "TIMESTAMPElapsed                  1217013140           1240228283   \n",
       "Holiday                                False                False   \n",
       "distance_haversine                   11866.8               444.05   \n",
       "distance_dummy                       18476.9              622.469   \n",
       "center_latitude                         -333               -151.5   \n",
       "center_longitude                        -228               -203.5   \n",
       "direction                           -15.2017             -137.965   \n",
       "direction_ns                               1                    2   \n",
       "direction_ew                               2                    2   \n",
       "pickup_pca0                         -107.158              154.878   \n",
       "pickup_pca1                          79.3707              188.563   \n",
       "dropoff_pca0                        -30.5748              72.1573   \n",
       "dropoff_pca1                        -16.1643             -158.734   \n",
       "pca_distance                         172.119              430.018   \n",
       "DISTANCE                             122.442              357.013   \n",
       "LOG_DISTANCE                         4.81577              5.88057   \n",
       "geolocation1                               0                  277   \n",
       "geolocation1_end                        2287                16895   \n",
       "\n",
       "                                           4  \n",
       "ID                                    465177  \n",
       "TAXI_ID                                   84  \n",
       "TIMESTAMP                2008-06-13 08:10:20  \n",
       "X_START                                 -326  \n",
       "Y_START                                 -302  \n",
       "X_END                                   -350  \n",
       "Y_END                                   -198  \n",
       "TIMESTAMPYear                           2008  \n",
       "TIMESTAMPMonth                             6  \n",
       "TIMESTAMPWeek                             24  \n",
       "TIMESTAMPDay                              13  \n",
       "TIMESTAMPDayofweek                         4  \n",
       "TIMESTAMPIs_month_end                  False  \n",
       "TIMESTAMPIs_month_start                False  \n",
       "TIMESTAMPIs_year_end                   False  \n",
       "TIMESTAMPIs_year_start                 False  \n",
       "TIMESTAMPHour                              8  \n",
       "TIMESTAMPMinute                           10  \n",
       "TIMESTAMPElapsed                  1213344620  \n",
       "Holiday                                False  \n",
       "distance_haversine                   10648.4  \n",
       "distance_dummy                         11740  \n",
       "center_latitude                         -338  \n",
       "center_longitude                        -250  \n",
       "direction                            73.8237  \n",
       "direction_ns                               2  \n",
       "direction_ew                               1  \n",
       "pickup_pca0                         -78.5842  \n",
       "pickup_pca1                         -42.0892  \n",
       "dropoff_pca0                        -78.7309  \n",
       "dropoff_pca1                          64.644  \n",
       "pca_distance                          106.88  \n",
       "DISTANCE                             106.733  \n",
       "LOG_DISTANCE                         4.67966  \n",
       "geolocation1                             755  \n",
       "geolocation1_end                       12330  "
      ]
     },
     "execution_count": 9,
     "metadata": {},
     "output_type": "execute_result"
    }
   ],
   "source": [
    "joined_test.head().T.head(40)"
   ]
  },
  {
   "cell_type": "code",
   "execution_count": 11,
   "metadata": {
    "hidden": true,
    "scrolled": true
   },
   "outputs": [
    {
     "data": {
      "text/plain": [
       "465172"
      ]
     },
     "execution_count": 11,
     "metadata": {},
     "output_type": "execute_result"
    }
   ],
   "source": [
    "cat_vars = [\n",
    "#'TAXI_ID',\n",
    "#            'TIMESTAMPYear', 'TIMESTAMPMonth', 'TIMESTAMPDayofweek',  'TIMESTAMPDay',\n",
    "            'TIMESTAMPWeek',\n",
    "#            'TIMESTAMPHour', 'TIMESTAMPMinute', \n",
    "#            'TIMESTAMPIs_month_end',\n",
    "#            'TIMESTAMPIs_month_start', 'TIMESTAMPIs_year_end', 'TIMESTAMPIs_year_start',\n",
    "            'geolocation1', 'geolocation1_end' ,\n",
    "#          'direction_ns', 'Holiday',\n",
    "            'direction_ew']\n",
    "\n",
    "contin_vars = ['X_START', 'Y_START', 'Y_END', 'DISTANCE',\n",
    "#            'X_END', 'distance_haversine', 'distance_dummy',\n",
    "              'center_latitude', 'center_longitude',\n",
    "              'direction', 'pickup_pca0', 'pickup_pca1', 'dropoff_pca0',\n",
    "#               'dropoff_pca1', 'pca_distance'\n",
    "              ]\n",
    "\n",
    "n = len(joined); n"
   ]
  },
  {
   "cell_type": "code",
   "execution_count": 12,
   "metadata": {
    "hidden": true
   },
   "outputs": [],
   "source": [
    "dep = 'Price'\n",
    "joined = joined[cat_vars+contin_vars+[dep, 'TIMESTAMP']].copy()"
   ]
  },
  {
   "cell_type": "code",
   "execution_count": 13,
   "metadata": {
    "hidden": true
   },
   "outputs": [],
   "source": [
    "joined_test[dep] = 0\n",
    "joined_test = joined_test[cat_vars+contin_vars+[dep, 'TIMESTAMP', 'ID']].copy()"
   ]
  },
  {
   "cell_type": "code",
   "execution_count": 14,
   "metadata": {
    "hidden": true
   },
   "outputs": [],
   "source": [
    "for v in cat_vars: joined[v] = joined[v].astype('category').cat.as_ordered()"
   ]
  },
  {
   "cell_type": "code",
   "execution_count": 15,
   "metadata": {
    "hidden": true
   },
   "outputs": [],
   "source": [
    "apply_cats(joined_test, joined)"
   ]
  },
  {
   "cell_type": "code",
   "execution_count": 16,
   "metadata": {
    "hidden": true
   },
   "outputs": [],
   "source": [
    "for v in contin_vars:\n",
    "    joined[v] = joined[v].astype('float32')\n",
    "    joined_test[v] = joined_test[v].astype('float32')"
   ]
  },
  {
   "cell_type": "code",
   "execution_count": 17,
   "metadata": {},
   "outputs": [
    {
     "data": {
      "text/html": [
       "<div>\n",
       "<style scoped>\n",
       "    .dataframe tbody tr th:only-of-type {\n",
       "        vertical-align: middle;\n",
       "    }\n",
       "\n",
       "    .dataframe tbody tr th {\n",
       "        vertical-align: top;\n",
       "    }\n",
       "\n",
       "    .dataframe thead th {\n",
       "        text-align: right;\n",
       "    }\n",
       "</style>\n",
       "<table border=\"1\" class=\"dataframe\">\n",
       "  <thead>\n",
       "    <tr style=\"text-align: right;\">\n",
       "      <th></th>\n",
       "      <th>0</th>\n",
       "      <th>1</th>\n",
       "      <th>2</th>\n",
       "      <th>3</th>\n",
       "      <th>4</th>\n",
       "      <th>5</th>\n",
       "      <th>6</th>\n",
       "      <th>7</th>\n",
       "      <th>8</th>\n",
       "      <th>9</th>\n",
       "      <th>...</th>\n",
       "      <th>465162</th>\n",
       "      <th>465163</th>\n",
       "      <th>465164</th>\n",
       "      <th>465165</th>\n",
       "      <th>465166</th>\n",
       "      <th>465167</th>\n",
       "      <th>465168</th>\n",
       "      <th>465169</th>\n",
       "      <th>465170</th>\n",
       "      <th>465171</th>\n",
       "    </tr>\n",
       "  </thead>\n",
       "  <tbody>\n",
       "    <tr>\n",
       "      <th>TIMESTAMPWeek</th>\n",
       "      <td>10</td>\n",
       "      <td>29</td>\n",
       "      <td>11</td>\n",
       "      <td>36</td>\n",
       "      <td>39</td>\n",
       "      <td>3</td>\n",
       "      <td>45</td>\n",
       "      <td>43</td>\n",
       "      <td>8</td>\n",
       "      <td>9</td>\n",
       "      <td>...</td>\n",
       "      <td>51</td>\n",
       "      <td>8</td>\n",
       "      <td>50</td>\n",
       "      <td>21</td>\n",
       "      <td>35</td>\n",
       "      <td>28</td>\n",
       "      <td>36</td>\n",
       "      <td>3</td>\n",
       "      <td>5</td>\n",
       "      <td>3</td>\n",
       "    </tr>\n",
       "    <tr>\n",
       "      <th>geolocation1</th>\n",
       "      <td>555</td>\n",
       "      <td>456</td>\n",
       "      <td>2434</td>\n",
       "      <td>3017</td>\n",
       "      <td>69</td>\n",
       "      <td>93</td>\n",
       "      <td>77</td>\n",
       "      <td>164</td>\n",
       "      <td>1822</td>\n",
       "      <td>186</td>\n",
       "      <td>...</td>\n",
       "      <td>3</td>\n",
       "      <td>6</td>\n",
       "      <td>7766</td>\n",
       "      <td>9206</td>\n",
       "      <td>982</td>\n",
       "      <td>6</td>\n",
       "      <td>2402</td>\n",
       "      <td>390</td>\n",
       "      <td>111</td>\n",
       "      <td>1898</td>\n",
       "    </tr>\n",
       "    <tr>\n",
       "      <th>geolocation1_end</th>\n",
       "      <td>3194</td>\n",
       "      <td>78</td>\n",
       "      <td>591</td>\n",
       "      <td>0</td>\n",
       "      <td>13037</td>\n",
       "      <td>8580</td>\n",
       "      <td>8752</td>\n",
       "      <td>259</td>\n",
       "      <td>6226</td>\n",
       "      <td>5034</td>\n",
       "      <td>...</td>\n",
       "      <td>117</td>\n",
       "      <td>9894</td>\n",
       "      <td>977</td>\n",
       "      <td>12157</td>\n",
       "      <td>4323</td>\n",
       "      <td>2574</td>\n",
       "      <td>10310</td>\n",
       "      <td>15520</td>\n",
       "      <td>1941</td>\n",
       "      <td>18681</td>\n",
       "    </tr>\n",
       "    <tr>\n",
       "      <th>direction_ew</th>\n",
       "      <td>1</td>\n",
       "      <td>2</td>\n",
       "      <td>1</td>\n",
       "      <td>1</td>\n",
       "      <td>2</td>\n",
       "      <td>2</td>\n",
       "      <td>1</td>\n",
       "      <td>1</td>\n",
       "      <td>2</td>\n",
       "      <td>1</td>\n",
       "      <td>...</td>\n",
       "      <td>1</td>\n",
       "      <td>1</td>\n",
       "      <td>2</td>\n",
       "      <td>2</td>\n",
       "      <td>2</td>\n",
       "      <td>1</td>\n",
       "      <td>2</td>\n",
       "      <td>1</td>\n",
       "      <td>2</td>\n",
       "      <td>2</td>\n",
       "    </tr>\n",
       "    <tr>\n",
       "      <th>X_START</th>\n",
       "      <td>-223</td>\n",
       "      <td>-257</td>\n",
       "      <td>-320</td>\n",
       "      <td>-352</td>\n",
       "      <td>-350</td>\n",
       "      <td>-319</td>\n",
       "      <td>-360</td>\n",
       "      <td>-284</td>\n",
       "      <td>-303</td>\n",
       "      <td>-329</td>\n",
       "      <td>...</td>\n",
       "      <td>-318</td>\n",
       "      <td>-332</td>\n",
       "      <td>-308</td>\n",
       "      <td>-280</td>\n",
       "      <td>-249</td>\n",
       "      <td>-332</td>\n",
       "      <td>-247</td>\n",
       "      <td>-149</td>\n",
       "      <td>-277</td>\n",
       "      <td>-151</td>\n",
       "    </tr>\n",
       "  </tbody>\n",
       "</table>\n",
       "<p>5 rows × 465172 columns</p>\n",
       "</div>"
      ],
      "text/plain": [
       "                 0      1      2      3      4      5      6      7       \\\n",
       "TIMESTAMPWeek        10     29     11     36     39      3     45     43   \n",
       "geolocation1        555    456   2434   3017     69     93     77    164   \n",
       "geolocation1_end   3194     78    591      0  13037   8580   8752    259   \n",
       "direction_ew          1      2      1      1      2      2      1      1   \n",
       "X_START            -223   -257   -320   -352   -350   -319   -360   -284   \n",
       "\n",
       "                 8      9       ...   465162 465163 465164 465165 465166  \\\n",
       "TIMESTAMPWeek         8      9  ...       51      8     50     21     35   \n",
       "geolocation1       1822    186  ...        3      6   7766   9206    982   \n",
       "geolocation1_end   6226   5034  ...      117   9894    977  12157   4323   \n",
       "direction_ew          2      1  ...        1      1      2      2      2   \n",
       "X_START            -303   -329  ...     -318   -332   -308   -280   -249   \n",
       "\n",
       "                 465167 465168 465169 465170 465171  \n",
       "TIMESTAMPWeek        28     36      3      5      3  \n",
       "geolocation1          6   2402    390    111   1898  \n",
       "geolocation1_end   2574  10310  15520   1941  18681  \n",
       "direction_ew          1      2      1      2      2  \n",
       "X_START            -332   -247   -149   -277   -151  \n",
       "\n",
       "[5 rows x 465172 columns]"
      ]
     },
     "execution_count": 17,
     "metadata": {},
     "output_type": "execute_result"
    }
   ],
   "source": [
    "joined.T.head()"
   ]
  },
  {
   "cell_type": "code",
   "execution_count": 18,
   "metadata": {
    "scrolled": false
   },
   "outputs": [
    {
     "data": {
      "text/html": [
       "<div>\n",
       "<style scoped>\n",
       "    .dataframe tbody tr th:only-of-type {\n",
       "        vertical-align: middle;\n",
       "    }\n",
       "\n",
       "    .dataframe tbody tr th {\n",
       "        vertical-align: top;\n",
       "    }\n",
       "\n",
       "    .dataframe thead th {\n",
       "        text-align: right;\n",
       "    }\n",
       "</style>\n",
       "<table border=\"1\" class=\"dataframe\">\n",
       "  <thead>\n",
       "    <tr style=\"text-align: right;\">\n",
       "      <th></th>\n",
       "      <th>TIMESTAMPWeek</th>\n",
       "      <th>geolocation1</th>\n",
       "      <th>geolocation1_end</th>\n",
       "      <th>direction_ew</th>\n",
       "      <th>X_START</th>\n",
       "      <th>Y_START</th>\n",
       "      <th>Y_END</th>\n",
       "      <th>DISTANCE</th>\n",
       "      <th>center_latitude</th>\n",
       "      <th>center_longitude</th>\n",
       "      <th>direction</th>\n",
       "      <th>pickup_pca0</th>\n",
       "      <th>pickup_pca1</th>\n",
       "      <th>dropoff_pca0</th>\n",
       "      <th>Price</th>\n",
       "      <th>TIMESTAMP</th>\n",
       "      <th>ID</th>\n",
       "    </tr>\n",
       "  </thead>\n",
       "  <tbody>\n",
       "    <tr>\n",
       "      <th>0</th>\n",
       "      <td>34</td>\n",
       "      <td>109</td>\n",
       "      <td>12606</td>\n",
       "      <td>1</td>\n",
       "      <td>-331.0</td>\n",
       "      <td>-102.0</td>\n",
       "      <td>-95.0</td>\n",
       "      <td>65.375839</td>\n",
       "      <td>-363.5</td>\n",
       "      <td>-98.5</td>\n",
       "      <td>173.771454</td>\n",
       "      <td>-38.753819</td>\n",
       "      <td>153.968262</td>\n",
       "      <td>-100.544655</td>\n",
       "      <td>0</td>\n",
       "      <td>2008-08-23 18:47:30</td>\n",
       "      <td>465173</td>\n",
       "    </tr>\n",
       "    <tr>\n",
       "      <th>1</th>\n",
       "      <td>34</td>\n",
       "      <td>27</td>\n",
       "      <td>4259</td>\n",
       "      <td>2</td>\n",
       "      <td>-293.0</td>\n",
       "      <td>-129.0</td>\n",
       "      <td>-190.0</td>\n",
       "      <td>63.600315</td>\n",
       "      <td>-284.0</td>\n",
       "      <td>-159.5</td>\n",
       "      <td>-12.274961</td>\n",
       "      <td>-7.750252</td>\n",
       "      <td>119.157639</td>\n",
       "      <td>-3.840330</td>\n",
       "      <td>0</td>\n",
       "      <td>2008-08-22 14:44:52</td>\n",
       "      <td>465174</td>\n",
       "    </tr>\n",
       "    <tr>\n",
       "      <th>2</th>\n",
       "      <td>30</td>\n",
       "      <td>0</td>\n",
       "      <td>2287</td>\n",
       "      <td>2</td>\n",
       "      <td>-381.0</td>\n",
       "      <td>-190.0</td>\n",
       "      <td>-266.0</td>\n",
       "      <td>122.441826</td>\n",
       "      <td>-333.0</td>\n",
       "      <td>-228.0</td>\n",
       "      <td>-15.201685</td>\n",
       "      <td>-107.158478</td>\n",
       "      <td>79.370659</td>\n",
       "      <td>-30.574781</td>\n",
       "      <td>0</td>\n",
       "      <td>2008-07-25 19:12:20</td>\n",
       "      <td>465175</td>\n",
       "    </tr>\n",
       "    <tr>\n",
       "      <th>3</th>\n",
       "      <td>17</td>\n",
       "      <td>277</td>\n",
       "      <td>16895</td>\n",
       "      <td>2</td>\n",
       "      <td>-150.0</td>\n",
       "      <td>-25.0</td>\n",
       "      <td>-382.0</td>\n",
       "      <td>357.012604</td>\n",
       "      <td>-151.5</td>\n",
       "      <td>-203.5</td>\n",
       "      <td>-137.964600</td>\n",
       "      <td>154.877777</td>\n",
       "      <td>188.563156</td>\n",
       "      <td>72.157333</td>\n",
       "      <td>0</td>\n",
       "      <td>2009-04-20 11:51:23</td>\n",
       "      <td>465176</td>\n",
       "    </tr>\n",
       "    <tr>\n",
       "      <th>4</th>\n",
       "      <td>24</td>\n",
       "      <td>755</td>\n",
       "      <td>12330</td>\n",
       "      <td>1</td>\n",
       "      <td>-326.0</td>\n",
       "      <td>-302.0</td>\n",
       "      <td>-198.0</td>\n",
       "      <td>106.733315</td>\n",
       "      <td>-338.0</td>\n",
       "      <td>-250.0</td>\n",
       "      <td>73.823647</td>\n",
       "      <td>-78.584152</td>\n",
       "      <td>-42.089245</td>\n",
       "      <td>-78.730949</td>\n",
       "      <td>0</td>\n",
       "      <td>2008-06-13 08:10:20</td>\n",
       "      <td>465177</td>\n",
       "    </tr>\n",
       "  </tbody>\n",
       "</table>\n",
       "</div>"
      ],
      "text/plain": [
       "  TIMESTAMPWeek geolocation1 geolocation1_end direction_ew  X_START  Y_START  \\\n",
       "0            34          109            12606            1   -331.0   -102.0   \n",
       "1            34           27             4259            2   -293.0   -129.0   \n",
       "2            30            0             2287            2   -381.0   -190.0   \n",
       "3            17          277            16895            2   -150.0    -25.0   \n",
       "4            24          755            12330            1   -326.0   -302.0   \n",
       "\n",
       "   Y_END    DISTANCE  center_latitude  center_longitude   direction  \\\n",
       "0  -95.0   65.375839           -363.5             -98.5  173.771454   \n",
       "1 -190.0   63.600315           -284.0            -159.5  -12.274961   \n",
       "2 -266.0  122.441826           -333.0            -228.0  -15.201685   \n",
       "3 -382.0  357.012604           -151.5            -203.5 -137.964600   \n",
       "4 -198.0  106.733315           -338.0            -250.0   73.823647   \n",
       "\n",
       "   pickup_pca0  pickup_pca1  dropoff_pca0  Price           TIMESTAMP      ID  \n",
       "0   -38.753819   153.968262   -100.544655      0 2008-08-23 18:47:30  465173  \n",
       "1    -7.750252   119.157639     -3.840330      0 2008-08-22 14:44:52  465174  \n",
       "2  -107.158478    79.370659    -30.574781      0 2008-07-25 19:12:20  465175  \n",
       "3   154.877777   188.563156     72.157333      0 2009-04-20 11:51:23  465176  \n",
       "4   -78.584152   -42.089245    -78.730949      0 2008-06-13 08:10:20  465177  "
      ]
     },
     "execution_count": 18,
     "metadata": {},
     "output_type": "execute_result"
    }
   ],
   "source": [
    "joined_test.head()"
   ]
  },
  {
   "cell_type": "code",
   "execution_count": 20,
   "metadata": {
    "hidden": true
   },
   "outputs": [],
   "source": [
    "samp_size = n\n",
    "joined_samp = joined.set_index(\"TIMESTAMP\")"
   ]
  },
  {
   "cell_type": "code",
   "execution_count": 21,
   "metadata": {
    "hidden": true
   },
   "outputs": [
    {
     "data": {
      "text/html": [
       "<div>\n",
       "<style scoped>\n",
       "    .dataframe tbody tr th:only-of-type {\n",
       "        vertical-align: middle;\n",
       "    }\n",
       "\n",
       "    .dataframe tbody tr th {\n",
       "        vertical-align: top;\n",
       "    }\n",
       "\n",
       "    .dataframe thead th {\n",
       "        text-align: right;\n",
       "    }\n",
       "</style>\n",
       "<table border=\"1\" class=\"dataframe\">\n",
       "  <thead>\n",
       "    <tr style=\"text-align: right;\">\n",
       "      <th></th>\n",
       "      <th>TIMESTAMPWeek</th>\n",
       "      <th>geolocation1</th>\n",
       "      <th>geolocation1_end</th>\n",
       "      <th>direction_ew</th>\n",
       "      <th>X_START</th>\n",
       "      <th>Y_START</th>\n",
       "      <th>Y_END</th>\n",
       "      <th>DISTANCE</th>\n",
       "      <th>center_latitude</th>\n",
       "      <th>center_longitude</th>\n",
       "      <th>direction</th>\n",
       "      <th>pickup_pca0</th>\n",
       "      <th>pickup_pca1</th>\n",
       "      <th>dropoff_pca0</th>\n",
       "      <th>Price</th>\n",
       "    </tr>\n",
       "    <tr>\n",
       "      <th>TIMESTAMP</th>\n",
       "      <th></th>\n",
       "      <th></th>\n",
       "      <th></th>\n",
       "      <th></th>\n",
       "      <th></th>\n",
       "      <th></th>\n",
       "      <th></th>\n",
       "      <th></th>\n",
       "      <th></th>\n",
       "      <th></th>\n",
       "      <th></th>\n",
       "      <th></th>\n",
       "      <th></th>\n",
       "      <th></th>\n",
       "      <th></th>\n",
       "    </tr>\n",
       "  </thead>\n",
       "  <tbody>\n",
       "    <tr>\n",
       "      <th>2009-03-07 07:48:56</th>\n",
       "      <td>10</td>\n",
       "      <td>555</td>\n",
       "      <td>3194</td>\n",
       "      <td>1</td>\n",
       "      <td>-223.0</td>\n",
       "      <td>-350.0</td>\n",
       "      <td>-39.0</td>\n",
       "      <td>326.377075</td>\n",
       "      <td>-173.5</td>\n",
       "      <td>-194.5</td>\n",
       "      <td>26.230589</td>\n",
       "      <td>11.080979</td>\n",
       "      <td>-111.897301</td>\n",
       "      <td>177.090698</td>\n",
       "      <td>662</td>\n",
       "    </tr>\n",
       "    <tr>\n",
       "      <th>2008-07-18 09:24:20</th>\n",
       "      <td>29</td>\n",
       "      <td>456</td>\n",
       "      <td>78</td>\n",
       "      <td>2</td>\n",
       "      <td>-257.0</td>\n",
       "      <td>-73.0</td>\n",
       "      <td>-292.0</td>\n",
       "      <td>229.612717</td>\n",
       "      <td>-291.5</td>\n",
       "      <td>-182.5</td>\n",
       "      <td>46.105305</td>\n",
       "      <td>39.856003</td>\n",
       "      <td>165.694122</td>\n",
       "      <td>-76.348961</td>\n",
       "      <td>619</td>\n",
       "    </tr>\n",
       "    <tr>\n",
       "      <th>2009-03-10 10:29:21</th>\n",
       "      <td>11</td>\n",
       "      <td>2434</td>\n",
       "      <td>591</td>\n",
       "      <td>1</td>\n",
       "      <td>-320.0</td>\n",
       "      <td>-300.0</td>\n",
       "      <td>-254.0</td>\n",
       "      <td>47.539455</td>\n",
       "      <td>-326.0</td>\n",
       "      <td>-277.0</td>\n",
       "      <td>93.119591</td>\n",
       "      <td>-72.288918</td>\n",
       "      <td>-41.480961</td>\n",
       "      <td>-73.703430</td>\n",
       "      <td>297</td>\n",
       "    </tr>\n",
       "    <tr>\n",
       "      <th>2008-09-03 15:27:24</th>\n",
       "      <td>36</td>\n",
       "      <td>3017</td>\n",
       "      <td>0</td>\n",
       "      <td>1</td>\n",
       "      <td>-352.0</td>\n",
       "      <td>-233.0</td>\n",
       "      <td>-189.0</td>\n",
       "      <td>52.153618</td>\n",
       "      <td>-366.0</td>\n",
       "      <td>-211.0</td>\n",
       "      <td>123.543365</td>\n",
       "      <td>-88.503517</td>\n",
       "      <td>30.976521</td>\n",
       "      <td>-105.960258</td>\n",
       "      <td>194</td>\n",
       "    </tr>\n",
       "    <tr>\n",
       "      <th>2008-09-22 13:15:52</th>\n",
       "      <td>39</td>\n",
       "      <td>69</td>\n",
       "      <td>13037</td>\n",
       "      <td>2</td>\n",
       "      <td>-350.0</td>\n",
       "      <td>-232.0</td>\n",
       "      <td>-300.0</td>\n",
       "      <td>83.815269</td>\n",
       "      <td>-325.5</td>\n",
       "      <td>-266.0</td>\n",
       "      <td>-30.501596</td>\n",
       "      <td>-86.330597</td>\n",
       "      <td>31.504183</td>\n",
       "      <td>-53.769627</td>\n",
       "      <td>336</td>\n",
       "    </tr>\n",
       "  </tbody>\n",
       "</table>\n",
       "</div>"
      ],
      "text/plain": [
       "                    TIMESTAMPWeek geolocation1 geolocation1_end direction_ew  \\\n",
       "TIMESTAMP                                                                      \n",
       "2009-03-07 07:48:56            10          555             3194            1   \n",
       "2008-07-18 09:24:20            29          456               78            2   \n",
       "2009-03-10 10:29:21            11         2434              591            1   \n",
       "2008-09-03 15:27:24            36         3017                0            1   \n",
       "2008-09-22 13:15:52            39           69            13037            2   \n",
       "\n",
       "                     X_START  Y_START  Y_END    DISTANCE  center_latitude  \\\n",
       "TIMESTAMP                                                                   \n",
       "2009-03-07 07:48:56   -223.0   -350.0  -39.0  326.377075           -173.5   \n",
       "2008-07-18 09:24:20   -257.0    -73.0 -292.0  229.612717           -291.5   \n",
       "2009-03-10 10:29:21   -320.0   -300.0 -254.0   47.539455           -326.0   \n",
       "2008-09-03 15:27:24   -352.0   -233.0 -189.0   52.153618           -366.0   \n",
       "2008-09-22 13:15:52   -350.0   -232.0 -300.0   83.815269           -325.5   \n",
       "\n",
       "                     center_longitude   direction  pickup_pca0  pickup_pca1  \\\n",
       "TIMESTAMP                                                                     \n",
       "2009-03-07 07:48:56            -194.5   26.230589    11.080979  -111.897301   \n",
       "2008-07-18 09:24:20            -182.5   46.105305    39.856003   165.694122   \n",
       "2009-03-10 10:29:21            -277.0   93.119591   -72.288918   -41.480961   \n",
       "2008-09-03 15:27:24            -211.0  123.543365   -88.503517    30.976521   \n",
       "2008-09-22 13:15:52            -266.0  -30.501596   -86.330597    31.504183   \n",
       "\n",
       "                     dropoff_pca0  Price  \n",
       "TIMESTAMP                                 \n",
       "2009-03-07 07:48:56    177.090698    662  \n",
       "2008-07-18 09:24:20    -76.348961    619  \n",
       "2009-03-10 10:29:21    -73.703430    297  \n",
       "2008-09-03 15:27:24   -105.960258    194  \n",
       "2008-09-22 13:15:52    -53.769627    336  "
      ]
     },
     "execution_count": 21,
     "metadata": {},
     "output_type": "execute_result"
    }
   ],
   "source": [
    "joined_samp.head(5)"
   ]
  },
  {
   "cell_type": "code",
   "execution_count": 23,
   "metadata": {
    "hidden": true
   },
   "outputs": [],
   "source": [
    "df, y, nas, mapper = proc_df(joined_samp, 'Price', do_scale=True)\n",
    "yl = np.log(y)"
   ]
  },
  {
   "cell_type": "code",
   "execution_count": 24,
   "metadata": {
    "hidden": true
   },
   "outputs": [],
   "source": [
    "joined_test = joined_test.set_index(\"TIMESTAMP\")"
   ]
  },
  {
   "cell_type": "code",
   "execution_count": 25,
   "metadata": {
    "hidden": true
   },
   "outputs": [],
   "source": [
    "df_test, _, nas = proc_df(joined_test, 'Price', do_scale=False, skip_flds = ['ID'],\n",
    "                                na_dict=nas)"
   ]
  },
  {
   "cell_type": "code",
   "execution_count": 26,
   "metadata": {
    "hidden": true,
    "scrolled": true
   },
   "outputs": [
    {
     "data": {
      "text/html": [
       "<div>\n",
       "<style scoped>\n",
       "    .dataframe tbody tr th:only-of-type {\n",
       "        vertical-align: middle;\n",
       "    }\n",
       "\n",
       "    .dataframe tbody tr th {\n",
       "        vertical-align: top;\n",
       "    }\n",
       "\n",
       "    .dataframe thead th {\n",
       "        text-align: right;\n",
       "    }\n",
       "</style>\n",
       "<table border=\"1\" class=\"dataframe\">\n",
       "  <thead>\n",
       "    <tr style=\"text-align: right;\">\n",
       "      <th></th>\n",
       "      <th>TIMESTAMPWeek</th>\n",
       "      <th>geolocation1</th>\n",
       "      <th>geolocation1_end</th>\n",
       "      <th>direction_ew</th>\n",
       "      <th>X_START</th>\n",
       "      <th>Y_START</th>\n",
       "      <th>Y_END</th>\n",
       "      <th>DISTANCE</th>\n",
       "      <th>center_latitude</th>\n",
       "      <th>center_longitude</th>\n",
       "      <th>direction</th>\n",
       "      <th>pickup_pca0</th>\n",
       "      <th>pickup_pca1</th>\n",
       "      <th>dropoff_pca0</th>\n",
       "    </tr>\n",
       "    <tr>\n",
       "      <th>TIMESTAMP</th>\n",
       "      <th></th>\n",
       "      <th></th>\n",
       "      <th></th>\n",
       "      <th></th>\n",
       "      <th></th>\n",
       "      <th></th>\n",
       "      <th></th>\n",
       "      <th></th>\n",
       "      <th></th>\n",
       "      <th></th>\n",
       "      <th></th>\n",
       "      <th></th>\n",
       "      <th></th>\n",
       "      <th></th>\n",
       "    </tr>\n",
       "  </thead>\n",
       "  <tbody>\n",
       "    <tr>\n",
       "      <th>2008-08-23 18:47:30</th>\n",
       "      <td>34</td>\n",
       "      <td>110</td>\n",
       "      <td>12607</td>\n",
       "      <td>2</td>\n",
       "      <td>-331.0</td>\n",
       "      <td>-102.0</td>\n",
       "      <td>-95.0</td>\n",
       "      <td>65.375839</td>\n",
       "      <td>-363.5</td>\n",
       "      <td>-98.5</td>\n",
       "      <td>173.771454</td>\n",
       "      <td>-38.753819</td>\n",
       "      <td>153.968262</td>\n",
       "      <td>-100.544655</td>\n",
       "    </tr>\n",
       "    <tr>\n",
       "      <th>2008-08-22 14:44:52</th>\n",
       "      <td>34</td>\n",
       "      <td>28</td>\n",
       "      <td>4260</td>\n",
       "      <td>3</td>\n",
       "      <td>-293.0</td>\n",
       "      <td>-129.0</td>\n",
       "      <td>-190.0</td>\n",
       "      <td>63.600315</td>\n",
       "      <td>-284.0</td>\n",
       "      <td>-159.5</td>\n",
       "      <td>-12.274961</td>\n",
       "      <td>-7.750252</td>\n",
       "      <td>119.157639</td>\n",
       "      <td>-3.840330</td>\n",
       "    </tr>\n",
       "    <tr>\n",
       "      <th>2008-07-25 19:12:20</th>\n",
       "      <td>30</td>\n",
       "      <td>1</td>\n",
       "      <td>2288</td>\n",
       "      <td>3</td>\n",
       "      <td>-381.0</td>\n",
       "      <td>-190.0</td>\n",
       "      <td>-266.0</td>\n",
       "      <td>122.441826</td>\n",
       "      <td>-333.0</td>\n",
       "      <td>-228.0</td>\n",
       "      <td>-15.201685</td>\n",
       "      <td>-107.158478</td>\n",
       "      <td>79.370659</td>\n",
       "      <td>-30.574781</td>\n",
       "    </tr>\n",
       "    <tr>\n",
       "      <th>2009-04-20 11:51:23</th>\n",
       "      <td>17</td>\n",
       "      <td>278</td>\n",
       "      <td>16896</td>\n",
       "      <td>3</td>\n",
       "      <td>-150.0</td>\n",
       "      <td>-25.0</td>\n",
       "      <td>-382.0</td>\n",
       "      <td>357.012604</td>\n",
       "      <td>-151.5</td>\n",
       "      <td>-203.5</td>\n",
       "      <td>-137.964600</td>\n",
       "      <td>154.877777</td>\n",
       "      <td>188.563156</td>\n",
       "      <td>72.157333</td>\n",
       "    </tr>\n",
       "    <tr>\n",
       "      <th>2008-06-13 08:10:20</th>\n",
       "      <td>24</td>\n",
       "      <td>756</td>\n",
       "      <td>12331</td>\n",
       "      <td>2</td>\n",
       "      <td>-326.0</td>\n",
       "      <td>-302.0</td>\n",
       "      <td>-198.0</td>\n",
       "      <td>106.733315</td>\n",
       "      <td>-338.0</td>\n",
       "      <td>-250.0</td>\n",
       "      <td>73.823647</td>\n",
       "      <td>-78.584152</td>\n",
       "      <td>-42.089245</td>\n",
       "      <td>-78.730949</td>\n",
       "    </tr>\n",
       "  </tbody>\n",
       "</table>\n",
       "</div>"
      ],
      "text/plain": [
       "                     TIMESTAMPWeek  geolocation1  geolocation1_end  \\\n",
       "TIMESTAMP                                                            \n",
       "2008-08-23 18:47:30             34           110             12607   \n",
       "2008-08-22 14:44:52             34            28              4260   \n",
       "2008-07-25 19:12:20             30             1              2288   \n",
       "2009-04-20 11:51:23             17           278             16896   \n",
       "2008-06-13 08:10:20             24           756             12331   \n",
       "\n",
       "                     direction_ew  X_START  Y_START  Y_END    DISTANCE  \\\n",
       "TIMESTAMP                                                                \n",
       "2008-08-23 18:47:30             2   -331.0   -102.0  -95.0   65.375839   \n",
       "2008-08-22 14:44:52             3   -293.0   -129.0 -190.0   63.600315   \n",
       "2008-07-25 19:12:20             3   -381.0   -190.0 -266.0  122.441826   \n",
       "2009-04-20 11:51:23             3   -150.0    -25.0 -382.0  357.012604   \n",
       "2008-06-13 08:10:20             2   -326.0   -302.0 -198.0  106.733315   \n",
       "\n",
       "                     center_latitude  center_longitude   direction  \\\n",
       "TIMESTAMP                                                            \n",
       "2008-08-23 18:47:30           -363.5             -98.5  173.771454   \n",
       "2008-08-22 14:44:52           -284.0            -159.5  -12.274961   \n",
       "2008-07-25 19:12:20           -333.0            -228.0  -15.201685   \n",
       "2009-04-20 11:51:23           -151.5            -203.5 -137.964600   \n",
       "2008-06-13 08:10:20           -338.0            -250.0   73.823647   \n",
       "\n",
       "                     pickup_pca0  pickup_pca1  dropoff_pca0  \n",
       "TIMESTAMP                                                    \n",
       "2008-08-23 18:47:30   -38.753819   153.968262   -100.544655  \n",
       "2008-08-22 14:44:52    -7.750252   119.157639     -3.840330  \n",
       "2008-07-25 19:12:20  -107.158478    79.370659    -30.574781  \n",
       "2009-04-20 11:51:23   154.877777   188.563156     72.157333  \n",
       "2008-06-13 08:10:20   -78.584152   -42.089245    -78.730949  "
      ]
     },
     "execution_count": 26,
     "metadata": {},
     "output_type": "execute_result"
    }
   ],
   "source": [
    "df_test.head()"
   ]
  },
  {
   "cell_type": "code",
   "execution_count": 27,
   "metadata": {
    "hidden": true
   },
   "outputs": [],
   "source": [
    "train_ratio = 0.75\n",
    "# train_ratio = 0.9\n",
    "train_size = int(samp_size * train_ratio); train_size\n",
    "val_idx = list(range(train_size, len(df)))"
   ]
  },
  {
   "cell_type": "code",
   "execution_count": 98,
   "metadata": {
    "hidden": true
   },
   "outputs": [],
   "source": [
    "#val_idx = np.flatnonzero(\n",
    "#    (df.index<=datetime.datetime(2014,9,17)) & (df.index>=datetime.datetime(2014,8,1)))"
   ]
  },
  {
   "cell_type": "code",
   "execution_count": 99,
   "metadata": {
    "hidden": true
   },
   "outputs": [],
   "source": [
    "#val_idx=[0]"
   ]
  },
  {
   "cell_type": "markdown",
   "metadata": {},
   "source": [
    "## DL"
   ]
  },
  {
   "cell_type": "code",
   "execution_count": 28,
   "metadata": {},
   "outputs": [],
   "source": [
    "def inv_y(a): return np.exp(a)\n",
    "\n",
    "def exp_rmspe(y_pred, targ):\n",
    "    targ = inv_y(targ)\n",
    "    pct_var = (targ - inv_y(y_pred))/targ\n",
    "    return math.sqrt((pct_var**2).mean())\n",
    "\n",
    "max_log_y = np.max(yl)\n",
    "y_range = (0, max_log_y*1.2)"
   ]
  },
  {
   "cell_type": "code",
   "execution_count": 29,
   "metadata": {},
   "outputs": [],
   "source": [
    "md = ColumnarModelData.from_data_frame(PATH, val_idx, df, yl.astype(np.float32), cat_flds=cat_vars, bs=128,\n",
    "                                       test_df=df_test)"
   ]
  },
  {
   "cell_type": "code",
   "execution_count": 30,
   "metadata": {},
   "outputs": [],
   "source": [
    "#md = ColumnarModelData.from_data_frame(PATH, train, test)"
   ]
  },
  {
   "cell_type": "code",
   "execution_count": 31,
   "metadata": {},
   "outputs": [],
   "source": [
    "cat_sz = [(c, len(joined_samp[c].cat.categories)+1) for c in cat_vars]"
   ]
  },
  {
   "cell_type": "code",
   "execution_count": 32,
   "metadata": {
    "scrolled": true
   },
   "outputs": [
    {
     "data": {
      "text/plain": [
       "[('TIMESTAMPWeek', 53),\n",
       " ('geolocation1', 12490),\n",
       " ('geolocation1_end', 20123),\n",
       " ('direction_ew', 4)]"
      ]
     },
     "execution_count": 32,
     "metadata": {},
     "output_type": "execute_result"
    }
   ],
   "source": [
    "cat_sz"
   ]
  },
  {
   "cell_type": "code",
   "execution_count": 33,
   "metadata": {},
   "outputs": [],
   "source": [
    "emb_szs = [(c, min(50, (c+1)//2)) for _,c in cat_sz]"
   ]
  },
  {
   "cell_type": "code",
   "execution_count": 34,
   "metadata": {
    "scrolled": true
   },
   "outputs": [
    {
     "data": {
      "text/plain": [
       "[(53, 27), (12490, 50), (20123, 50), (4, 2)]"
      ]
     },
     "execution_count": 34,
     "metadata": {},
     "output_type": "execute_result"
    }
   ],
   "source": [
    "emb_szs"
   ]
  },
  {
   "cell_type": "code",
   "execution_count": 35,
   "metadata": {},
   "outputs": [],
   "source": [
    "m = md.get_learner(emb_szs, len(df.columns)-len(cat_vars),\n",
    "                   0.04, 1, [1000,500], [0.001,0.01], y_range=y_range)\n",
    "lr = 1e-3"
   ]
  },
  {
   "cell_type": "code",
   "execution_count": 110,
   "metadata": {
    "scrolled": true
   },
   "outputs": [
    {
     "data": {
      "application/vnd.jupyter.widget-view+json": {
       "model_id": "6bc7ba21594e418484abbf24e9919bd4",
       "version_major": 2,
       "version_minor": 0
      },
      "text/html": [
       "<p>Failed to display Jupyter Widget of type <code>HBox</code>.</p>\n",
       "<p>\n",
       "  If you're reading this message in the Jupyter Notebook or JupyterLab Notebook, it may mean\n",
       "  that the widgets JavaScript is still loading. If this message persists, it\n",
       "  likely means that the widgets JavaScript library is either not installed or\n",
       "  not enabled. See the <a href=\"https://ipywidgets.readthedocs.io/en/stable/user_install.html\">Jupyter\n",
       "  Widgets Documentation</a> for setup instructions.\n",
       "</p>\n",
       "<p>\n",
       "  If you're reading this message in another frontend (for example, a static\n",
       "  rendering on GitHub or <a href=\"https://nbviewer.jupyter.org/\">NBViewer</a>),\n",
       "  it may mean that your frontend doesn't currently support widgets.\n",
       "</p>\n"
      ],
      "text/plain": [
       "HBox(children=(IntProgress(value=0, description='Epoch', max=1), HTML(value='')))"
      ]
     },
     "metadata": {},
     "output_type": "display_data"
    },
    {
     "name": "stdout",
     "output_type": "stream",
     "text": [
      " 60%|██████    | 1639/2726 [00:10<00:06, 158.78it/s, loss=0.375] "
     ]
    }
   ],
   "source": [
    "m.lr_find()"
   ]
  },
  {
   "cell_type": "code",
   "execution_count": 111,
   "metadata": {},
   "outputs": [
    {
     "data": {
      "image/png": "[encoded data removed]",
      "text/plain": [
       "<matplotlib.figure.Figure at 0x7f78c4f4f438>"
      ]
     },
     "metadata": {},
     "output_type": "display_data"
    },
    {
     "name": "stdout",
     "output_type": "stream",
     "text": [
      "\r",
      " 60%|██████    | 1639/2726 [00:30<00:19, 54.58it/s, loss=0.375] "
     ]
    }
   ],
   "source": [
    "m.sched.plot(100)"
   ]
  },
  {
   "cell_type": "markdown",
   "metadata": {
    "heading_collapsed": true
   },
   "source": [
    "### Sample"
   ]
  },
  {
   "cell_type": "code",
   "execution_count": 56,
   "metadata": {
    "hidden": true
   },
   "outputs": [],
   "source": [
    "m = md.get_learner(emb_szs, len(df.columns)-len(cat_vars),\n",
    "                   0.1, 1, [1000,500], [0.05,0.1], y_range=y_range)\n",
    "lr = 1e-4"
   ]
  },
  {
   "cell_type": "code",
   "execution_count": 57,
   "metadata": {},
   "outputs": [
    {
     "data": {
      "application/vnd.jupyter.widget-view+json": {
       "model_id": "1a4c80b0b58d41cb92b210198ecc5d9b",
       "version_major": 2,
       "version_minor": 0
      },
      "text/html": [
       "<p>Failed to display Jupyter Widget of type <code>HBox</code>.</p>\n",
       "<p>\n",
       "  If you're reading this message in the Jupyter Notebook or JupyterLab Notebook, it may mean\n",
       "  that the widgets JavaScript is still loading. If this message persists, it\n",
       "  likely means that the widgets JavaScript library is either not installed or\n",
       "  not enabled. See the <a href=\"https://ipywidgets.readthedocs.io/en/stable/user_install.html\">Jupyter\n",
       "  Widgets Documentation</a> for setup instructions.\n",
       "</p>\n",
       "<p>\n",
       "  If you're reading this message in another frontend (for example, a static\n",
       "  rendering on GitHub or <a href=\"https://nbviewer.jupyter.org/\">NBViewer</a>),\n",
       "  it may mean that your frontend doesn't currently support widgets.\n",
       "</p>\n"
      ],
      "text/plain": [
       "HBox(children=(IntProgress(value=0, description='Epoch', max=1), HTML(value='')))"
      ]
     },
     "metadata": {},
     "output_type": "display_data"
    },
    {
     "name": "stdout",
     "output_type": "stream",
     "text": [
      " 83%|████████▎ | 2250/2726 [00:30<00:06, 74.92it/s, loss=0.585]  "
     ]
    }
   ],
   "source": [
    "m.lr_find()"
   ]
  },
  {
   "cell_type": "code",
   "execution_count": 58,
   "metadata": {
    "scrolled": false
   },
   "outputs": [
    {
     "data": {
      "image/png": "[encoded data removed]",
      "text/plain": [
       "<matplotlib.figure.Figure at 0x7f1956fe6a20>"
      ]
     },
     "metadata": {},
     "output_type": "display_data"
    }
   ],
   "source": [
    "m.sched.plot(100)"
   ]
  },
  {
   "cell_type": "code",
   "execution_count": 59,
   "metadata": {},
   "outputs": [],
   "source": [
    "lr = 1e-3"
   ]
  },
  {
   "cell_type": "code",
   "execution_count": 60,
   "metadata": {
    "hidden": true
   },
   "outputs": [
    {
     "data": {
      "application/vnd.jupyter.widget-view+json": {
       "model_id": "31cd4c7af1d143448f85b301df68d3ce",
       "version_major": 2,
       "version_minor": 0
      },
      "text/html": [
       "<p>Failed to display Jupyter Widget of type <code>HBox</code>.</p>\n",
       "<p>\n",
       "  If you're reading this message in the Jupyter Notebook or JupyterLab Notebook, it may mean\n",
       "  that the widgets JavaScript is still loading. If this message persists, it\n",
       "  likely means that the widgets JavaScript library is either not installed or\n",
       "  not enabled. See the <a href=\"https://ipywidgets.readthedocs.io/en/stable/user_install.html\">Jupyter\n",
       "  Widgets Documentation</a> for setup instructions.\n",
       "</p>\n",
       "<p>\n",
       "  If you're reading this message in another frontend (for example, a static\n",
       "  rendering on GitHub or <a href=\"https://nbviewer.jupyter.org/\">NBViewer</a>),\n",
       "  it may mean that your frontend doesn't currently support widgets.\n",
       "</p>\n"
      ],
      "text/plain": [
       "HBox(children=(IntProgress(value=0, description='Epoch', max=3), HTML(value='')))"
      ]
     },
     "metadata": {},
     "output_type": "display_data"
    },
    {
     "name": "stdout",
     "output_type": "stream",
     "text": [
      " 28%|██▊       | 771/2726 [00:06<00:15, 126.49it/s, loss=0.0809]\n",
      " 30%|██▉       | 817/2726 [00:06<00:14, 129.80it/s, loss=0.0839]"
     ]
    },
    {
     "name": "stderr",
     "output_type": "stream",
     "text": [
      "Exception in thread Thread-29:\n",
      "Traceback (most recent call last):\n",
      "  File \"/home/paperspace/anaconda3/envs/fastai/lib/python3.6/threading.py\", line 916, in _bootstrap_inner\n",
      "    self.run()\n",
      "  File \"/home/paperspace/anaconda3/envs/fastai/lib/python3.6/site-packages/tqdm/_tqdm.py\", line 144, in run\n",
      "    for instance in self.tqdm_cls._instances:\n",
      "  File \"/home/paperspace/anaconda3/envs/fastai/lib/python3.6/_weakrefset.py\", line 60, in __iter__\n",
      "    for itemref in self.data:\n",
      "RuntimeError: Set changed size during iteration\n",
      "\n"
     ]
    },
    {
     "name": "stdout",
     "output_type": "stream",
     "text": [
      "epoch      trn_loss   val_loss   exp_rmspe                       \n",
      "    0      0.072716   0.068238   0.230529  \n",
      "    1      0.063412   0.068551   0.235731                        \n",
      "    2      0.053654   0.069008   0.25182                         \n",
      "\n"
     ]
    },
    {
     "data": {
      "text/plain": [
       "[0.069008023, 0.25182020916245573]"
      ]
     },
     "execution_count": 60,
     "metadata": {},
     "output_type": "execute_result"
    }
   ],
   "source": [
    "m.fit(lr, 3, metrics=[exp_rmspe])"
   ]
  },
  {
   "cell_type": "code",
   "execution_count": 53,
   "metadata": {
    "hidden": true,
    "scrolled": true
   },
   "outputs": [
    {
     "data": {
      "application/vnd.jupyter.widget-view+json": {
       "model_id": "79728c95e05e4502ba80e4811b2f32e0",
       "version_major": 2,
       "version_minor": 0
      },
      "text/html": [
       "<p>Failed to display Jupyter Widget of type <code>HBox</code>.</p>\n",
       "<p>\n",
       "  If you're reading this message in the Jupyter Notebook or JupyterLab Notebook, it may mean\n",
       "  that the widgets JavaScript is still loading. If this message persists, it\n",
       "  likely means that the widgets JavaScript library is either not installed or\n",
       "  not enabled. See the <a href=\"https://ipywidgets.readthedocs.io/en/stable/user_install.html\">Jupyter\n",
       "  Widgets Documentation</a> for setup instructions.\n",
       "</p>\n",
       "<p>\n",
       "  If you're reading this message in another frontend (for example, a static\n",
       "  rendering on GitHub or <a href=\"https://nbviewer.jupyter.org/\">NBViewer</a>),\n",
       "  it may mean that your frontend doesn't currently support widgets.\n",
       "</p>\n"
      ],
      "text/plain": [
       "HBox(children=(IntProgress(value=0, description='Epoch', max=5), HTML(value='')))"
      ]
     },
     "metadata": {},
     "output_type": "display_data"
    },
    {
     "name": "stdout",
     "output_type": "stream",
     "text": [
      "epoch      trn_loss   val_loss   exp_rmspe                       \n",
      "    0      0.043502   0.068941   0.257059  \n",
      "    1      0.040897   0.070354   0.263824                        \n",
      "    2      0.035753   0.071893   0.27097                         \n",
      "    3      0.034574   0.073784   0.278938                        \n",
      " 55%|█████▍    | 1498/2726 [00:10<00:08, 146.20it/s, loss=0.0299]"
     ]
    },
    {
     "ename": "KeyboardInterrupt",
     "evalue": "",
     "output_type": "error",
     "traceback": [
      "\u001b[0;31m---------------------------------------------------------------------------\u001b[0m",
      "\u001b[0;31mKeyboardInterrupt\u001b[0m                         Traceback (most recent call last)",
      "\u001b[0;32m<ipython-input-53-5dc2c72f8dae>\u001b[0m in \u001b[0;36m<module>\u001b[0;34m()\u001b[0m\n\u001b[0;32m----> 1\u001b[0;31m \u001b[0mm\u001b[0m\u001b[0;34m.\u001b[0m\u001b[0mfit\u001b[0m\u001b[0;34m(\u001b[0m\u001b[0mlr\u001b[0m\u001b[0;34m,\u001b[0m \u001b[0;36m5\u001b[0m\u001b[0;34m,\u001b[0m \u001b[0mmetrics\u001b[0m\u001b[0;34m=\u001b[0m\u001b[0;34m[\u001b[0m\u001b[0mexp_rmspe\u001b[0m\u001b[0;34m]\u001b[0m\u001b[0;34m,\u001b[0m \u001b[0mcycle_len\u001b[0m\u001b[0;34m=\u001b[0m\u001b[0;36m1\u001b[0m\u001b[0;34m)\u001b[0m\u001b[0;34m\u001b[0m\u001b[0m\n\u001b[0m",
      "\u001b[0;32m~/fastai/courses/dl1/fastai/learner.py\u001b[0m in \u001b[0;36mfit\u001b[0;34m(self, lrs, n_cycle, wds, **kwargs)\u001b[0m\n\u001b[1;32m    207\u001b[0m         \u001b[0mself\u001b[0m\u001b[0;34m.\u001b[0m\u001b[0msched\u001b[0m \u001b[0;34m=\u001b[0m \u001b[0;32mNone\u001b[0m\u001b[0;34m\u001b[0m\u001b[0m\n\u001b[1;32m    208\u001b[0m         \u001b[0mlayer_opt\u001b[0m \u001b[0;34m=\u001b[0m \u001b[0mself\u001b[0m\u001b[0;34m.\u001b[0m\u001b[0mget_layer_opt\u001b[0m\u001b[0;34m(\u001b[0m\u001b[0mlrs\u001b[0m\u001b[0;34m,\u001b[0m \u001b[0mwds\u001b[0m\u001b[0;34m)\u001b[0m\u001b[0;34m\u001b[0m\u001b[0m\n\u001b[0;32m--> 209\u001b[0;31m         \u001b[0;32mreturn\u001b[0m \u001b[0mself\u001b[0m\u001b[0;34m.\u001b[0m\u001b[0mfit_gen\u001b[0m\u001b[0;34m(\u001b[0m\u001b[0mself\u001b[0m\u001b[0;34m.\u001b[0m\u001b[0mmodel\u001b[0m\u001b[0;34m,\u001b[0m \u001b[0mself\u001b[0m\u001b[0;34m.\u001b[0m\u001b[0mdata\u001b[0m\u001b[0;34m,\u001b[0m \u001b[0mlayer_opt\u001b[0m\u001b[0;34m,\u001b[0m \u001b[0mn_cycle\u001b[0m\u001b[0;34m,\u001b[0m \u001b[0;34m**\u001b[0m\u001b[0mkwargs\u001b[0m\u001b[0;34m)\u001b[0m\u001b[0;34m\u001b[0m\u001b[0m\n\u001b[0m\u001b[1;32m    210\u001b[0m \u001b[0;34m\u001b[0m\u001b[0m\n\u001b[1;32m    211\u001b[0m     \u001b[0;32mdef\u001b[0m \u001b[0mwarm_up\u001b[0m\u001b[0;34m(\u001b[0m\u001b[0mself\u001b[0m\u001b[0;34m,\u001b[0m \u001b[0mlr\u001b[0m\u001b[0;34m,\u001b[0m \u001b[0mwds\u001b[0m\u001b[0;34m=\u001b[0m\u001b[0;32mNone\u001b[0m\u001b[0;34m)\u001b[0m\u001b[0;34m:\u001b[0m\u001b[0;34m\u001b[0m\u001b[0m\n",
      "\u001b[0;32m~/fastai/courses/dl1/fastai/learner.py\u001b[0m in \u001b[0;36mfit_gen\u001b[0;34m(self, model, data, layer_opt, n_cycle, cycle_len, cycle_mult, cycle_save_name, use_clr, metrics, callbacks, use_wd_sched, norm_wds, wds_sched_mult, **kwargs)\u001b[0m\n\u001b[1;32m    154\u001b[0m         \u001b[0mn_epoch\u001b[0m \u001b[0;34m=\u001b[0m \u001b[0msum_geom\u001b[0m\u001b[0;34m(\u001b[0m\u001b[0mcycle_len\u001b[0m \u001b[0;32mif\u001b[0m \u001b[0mcycle_len\u001b[0m \u001b[0;32melse\u001b[0m \u001b[0;36m1\u001b[0m\u001b[0;34m,\u001b[0m \u001b[0mcycle_mult\u001b[0m\u001b[0;34m,\u001b[0m \u001b[0mn_cycle\u001b[0m\u001b[0;34m)\u001b[0m\u001b[0;34m\u001b[0m\u001b[0m\n\u001b[1;32m    155\u001b[0m         return fit(model, data, n_epoch, layer_opt.opt, self.crit,\n\u001b[0;32m--> 156\u001b[0;31m             metrics=metrics, callbacks=callbacks, reg_fn=self.reg_fn, clip=self.clip, **kwargs)\n\u001b[0m\u001b[1;32m    157\u001b[0m \u001b[0;34m\u001b[0m\u001b[0m\n\u001b[1;32m    158\u001b[0m     \u001b[0;32mdef\u001b[0m \u001b[0mget_layer_groups\u001b[0m\u001b[0;34m(\u001b[0m\u001b[0mself\u001b[0m\u001b[0;34m)\u001b[0m\u001b[0;34m:\u001b[0m \u001b[0;32mreturn\u001b[0m \u001b[0mself\u001b[0m\u001b[0;34m.\u001b[0m\u001b[0mmodels\u001b[0m\u001b[0;34m.\u001b[0m\u001b[0mget_layer_groups\u001b[0m\u001b[0;34m(\u001b[0m\u001b[0;34m)\u001b[0m\u001b[0;34m\u001b[0m\u001b[0m\n",
      "\u001b[0;32m~/fastai/courses/dl1/fastai/model.py\u001b[0m in \u001b[0;36mfit\u001b[0;34m(model, data, epochs, opt, crit, metrics, callbacks, **kwargs)\u001b[0m\n\u001b[1;32m     94\u001b[0m             \u001b[0mbatch_num\u001b[0m \u001b[0;34m+=\u001b[0m \u001b[0;36m1\u001b[0m\u001b[0;34m\u001b[0m\u001b[0m\n\u001b[1;32m     95\u001b[0m             \u001b[0;32mfor\u001b[0m \u001b[0mcb\u001b[0m \u001b[0;32min\u001b[0m \u001b[0mcallbacks\u001b[0m\u001b[0;34m:\u001b[0m \u001b[0mcb\u001b[0m\u001b[0;34m.\u001b[0m\u001b[0mon_batch_begin\u001b[0m\u001b[0;34m(\u001b[0m\u001b[0;34m)\u001b[0m\u001b[0;34m\u001b[0m\u001b[0m\n\u001b[0;32m---> 96\u001b[0;31m             \u001b[0mloss\u001b[0m \u001b[0;34m=\u001b[0m \u001b[0mstepper\u001b[0m\u001b[0;34m.\u001b[0m\u001b[0mstep\u001b[0m\u001b[0;34m(\u001b[0m\u001b[0mV\u001b[0m\u001b[0;34m(\u001b[0m\u001b[0mx\u001b[0m\u001b[0;34m)\u001b[0m\u001b[0;34m,\u001b[0m\u001b[0mV\u001b[0m\u001b[0;34m(\u001b[0m\u001b[0my\u001b[0m\u001b[0;34m)\u001b[0m\u001b[0;34m)\u001b[0m\u001b[0;34m\u001b[0m\u001b[0m\n\u001b[0m\u001b[1;32m     97\u001b[0m             \u001b[0mavg_loss\u001b[0m \u001b[0;34m=\u001b[0m \u001b[0mavg_loss\u001b[0m \u001b[0;34m*\u001b[0m \u001b[0mavg_mom\u001b[0m \u001b[0;34m+\u001b[0m \u001b[0mloss\u001b[0m \u001b[0;34m*\u001b[0m \u001b[0;34m(\u001b[0m\u001b[0;36m1\u001b[0m\u001b[0;34m-\u001b[0m\u001b[0mavg_mom\u001b[0m\u001b[0;34m)\u001b[0m\u001b[0;34m\u001b[0m\u001b[0m\n\u001b[1;32m     98\u001b[0m             \u001b[0mdebias_loss\u001b[0m \u001b[0;34m=\u001b[0m \u001b[0mavg_loss\u001b[0m \u001b[0;34m/\u001b[0m \u001b[0;34m(\u001b[0m\u001b[0;36m1\u001b[0m \u001b[0;34m-\u001b[0m \u001b[0mavg_mom\u001b[0m\u001b[0;34m**\u001b[0m\u001b[0mbatch_num\u001b[0m\u001b[0;34m)\u001b[0m\u001b[0;34m\u001b[0m\u001b[0m\n",
      "\u001b[0;32m~/fastai/courses/dl1/fastai/model.py\u001b[0m in \u001b[0;36mstep\u001b[0;34m(self, xs, y)\u001b[0m\n\u001b[1;32m     43\u001b[0m         \u001b[0mloss\u001b[0m \u001b[0;34m=\u001b[0m \u001b[0mraw_loss\u001b[0m \u001b[0;34m=\u001b[0m \u001b[0mself\u001b[0m\u001b[0;34m.\u001b[0m\u001b[0mcrit\u001b[0m\u001b[0;34m(\u001b[0m\u001b[0moutput\u001b[0m\u001b[0;34m,\u001b[0m \u001b[0my\u001b[0m\u001b[0;34m)\u001b[0m\u001b[0;34m\u001b[0m\u001b[0m\n\u001b[1;32m     44\u001b[0m         \u001b[0;32mif\u001b[0m \u001b[0mself\u001b[0m\u001b[0;34m.\u001b[0m\u001b[0mreg_fn\u001b[0m\u001b[0;34m:\u001b[0m \u001b[0mloss\u001b[0m \u001b[0;34m=\u001b[0m \u001b[0mself\u001b[0m\u001b[0;34m.\u001b[0m\u001b[0mreg_fn\u001b[0m\u001b[0;34m(\u001b[0m\u001b[0moutput\u001b[0m\u001b[0;34m,\u001b[0m \u001b[0mxtra\u001b[0m\u001b[0;34m,\u001b[0m \u001b[0mraw_loss\u001b[0m\u001b[0;34m)\u001b[0m\u001b[0;34m\u001b[0m\u001b[0m\n\u001b[0;32m---> 45\u001b[0;31m         \u001b[0mloss\u001b[0m\u001b[0;34m.\u001b[0m\u001b[0mbackward\u001b[0m\u001b[0;34m(\u001b[0m\u001b[0;34m)\u001b[0m\u001b[0;34m\u001b[0m\u001b[0m\n\u001b[0m\u001b[1;32m     46\u001b[0m         \u001b[0;32mif\u001b[0m \u001b[0mself\u001b[0m\u001b[0;34m.\u001b[0m\u001b[0mclip\u001b[0m\u001b[0;34m:\u001b[0m   \u001b[0;31m# Gradient clipping\u001b[0m\u001b[0;34m\u001b[0m\u001b[0m\n\u001b[1;32m     47\u001b[0m             \u001b[0mnn\u001b[0m\u001b[0;34m.\u001b[0m\u001b[0mutils\u001b[0m\u001b[0;34m.\u001b[0m\u001b[0mclip_grad_norm\u001b[0m\u001b[0;34m(\u001b[0m\u001b[0mtrainable_params_\u001b[0m\u001b[0;34m(\u001b[0m\u001b[0mself\u001b[0m\u001b[0;34m.\u001b[0m\u001b[0mm\u001b[0m\u001b[0;34m)\u001b[0m\u001b[0;34m,\u001b[0m \u001b[0mself\u001b[0m\u001b[0;34m.\u001b[0m\u001b[0mclip\u001b[0m\u001b[0;34m)\u001b[0m\u001b[0;34m\u001b[0m\u001b[0m\n",
      "\u001b[0;32m~/anaconda3/envs/fastai/lib/python3.6/site-packages/torch/autograd/variable.py\u001b[0m in \u001b[0;36mbackward\u001b[0;34m(self, gradient, retain_graph, create_graph, retain_variables)\u001b[0m\n\u001b[1;32m    165\u001b[0m                 \u001b[0mVariable\u001b[0m\u001b[0;34m.\u001b[0m\u001b[0;34m\u001b[0m\u001b[0m\n\u001b[1;32m    166\u001b[0m         \"\"\"\n\u001b[0;32m--> 167\u001b[0;31m         \u001b[0mtorch\u001b[0m\u001b[0;34m.\u001b[0m\u001b[0mautograd\u001b[0m\u001b[0;34m.\u001b[0m\u001b[0mbackward\u001b[0m\u001b[0;34m(\u001b[0m\u001b[0mself\u001b[0m\u001b[0;34m,\u001b[0m \u001b[0mgradient\u001b[0m\u001b[0;34m,\u001b[0m \u001b[0mretain_graph\u001b[0m\u001b[0;34m,\u001b[0m \u001b[0mcreate_graph\u001b[0m\u001b[0;34m,\u001b[0m \u001b[0mretain_variables\u001b[0m\u001b[0;34m)\u001b[0m\u001b[0;34m\u001b[0m\u001b[0m\n\u001b[0m\u001b[1;32m    168\u001b[0m \u001b[0;34m\u001b[0m\u001b[0m\n\u001b[1;32m    169\u001b[0m     \u001b[0;32mdef\u001b[0m \u001b[0mregister_hook\u001b[0m\u001b[0;34m(\u001b[0m\u001b[0mself\u001b[0m\u001b[0;34m,\u001b[0m \u001b[0mhook\u001b[0m\u001b[0;34m)\u001b[0m\u001b[0;34m:\u001b[0m\u001b[0;34m\u001b[0m\u001b[0m\n",
      "\u001b[0;32m~/anaconda3/envs/fastai/lib/python3.6/site-packages/torch/autograd/__init__.py\u001b[0m in \u001b[0;36mbackward\u001b[0;34m(variables, grad_variables, retain_graph, create_graph, retain_variables)\u001b[0m\n\u001b[1;32m     97\u001b[0m \u001b[0;34m\u001b[0m\u001b[0m\n\u001b[1;32m     98\u001b[0m     Variable._execution_engine.run_backward(\n\u001b[0;32m---> 99\u001b[0;31m         variables, grad_variables, retain_graph)\n\u001b[0m\u001b[1;32m    100\u001b[0m \u001b[0;34m\u001b[0m\u001b[0m\n\u001b[1;32m    101\u001b[0m \u001b[0;34m\u001b[0m\u001b[0m\n",
      "\u001b[0;31mKeyboardInterrupt\u001b[0m: "
     ]
    }
   ],
   "source": [
    "m.fit(lr, 5, metrics=[exp_rmspe], cycle_len=1)"
   ]
  },
  {
   "cell_type": "code",
   "execution_count": null,
   "metadata": {
    "hidden": true
   },
   "outputs": [],
   "source": [
    "m.fit(lr, 2, metrics=[exp_rmspe], cycle_len=4)"
   ]
  },
  {
   "cell_type": "code",
   "execution_count": null,
   "metadata": {
    "hidden": true
   },
   "outputs": [],
   "source": [
    "m.save('val0')"
   ]
  },
  {
   "cell_type": "code",
   "execution_count": 309,
   "metadata": {
    "hidden": true
   },
   "outputs": [],
   "source": [
    "m.load('val0')"
   ]
  },
  {
   "cell_type": "code",
   "execution_count": 310,
   "metadata": {
    "hidden": true
   },
   "outputs": [],
   "source": [
    "x,y=m.predict_with_targs()"
   ]
  },
  {
   "cell_type": "code",
   "execution_count": 311,
   "metadata": {
    "hidden": true,
    "scrolled": true
   },
   "outputs": [
    {
     "data": {
      "text/plain": [
       "0.1310981522072182"
      ]
     },
     "execution_count": 311,
     "metadata": {},
     "output_type": "execute_result"
    }
   ],
   "source": [
    "exp_rmspe(x,y)"
   ]
  },
  {
   "cell_type": "code",
   "execution_count": 313,
   "metadata": {
    "hidden": true
   },
   "outputs": [
    {
     "ename": "RuntimeError",
     "evalue": "running_mean should contain 17 elements not 15",
     "output_type": "error",
     "traceback": [
      "\u001b[0;31m-------------------------------------------------------------------\u001b[0m",
      "\u001b[0;31mRuntimeError\u001b[0m                      Traceback (most recent call last)",
      "\u001b[0;32m<ipython-input-313-0e3dcf92c736>\u001b[0m in \u001b[0;36m<module>\u001b[0;34m()\u001b[0m\n\u001b[0;32m----> 1\u001b[0;31m \u001b[0mpred_test\u001b[0m\u001b[0;34m=\u001b[0m\u001b[0mm\u001b[0m\u001b[0;34m.\u001b[0m\u001b[0mpredict\u001b[0m\u001b[0;34m(\u001b[0m\u001b[0mis_test\u001b[0m\u001b[0;34m=\u001b[0m\u001b[0;32mTrue\u001b[0m\u001b[0;34m)\u001b[0m\u001b[0;34m\u001b[0m\u001b[0m\n\u001b[0m",
      "\u001b[0;32m~/fastai/courses/dl1/fastai/learner.py\u001b[0m in \u001b[0;36mpredict\u001b[0;34m(self, is_test)\u001b[0m\n\u001b[1;32m    253\u001b[0m         \u001b[0mself\u001b[0m\u001b[0;34m.\u001b[0m\u001b[0mload\u001b[0m\u001b[0;34m(\u001b[0m\u001b[0;34m'tmp'\u001b[0m\u001b[0;34m)\u001b[0m\u001b[0;34m\u001b[0m\u001b[0m\n\u001b[1;32m    254\u001b[0m \u001b[0;34m\u001b[0m\u001b[0m\n\u001b[0;32m--> 255\u001b[0;31m     \u001b[0;32mdef\u001b[0m \u001b[0mpredict\u001b[0m\u001b[0;34m(\u001b[0m\u001b[0mself\u001b[0m\u001b[0;34m,\u001b[0m \u001b[0mis_test\u001b[0m\u001b[0;34m=\u001b[0m\u001b[0;32mFalse\u001b[0m\u001b[0;34m)\u001b[0m\u001b[0;34m:\u001b[0m \u001b[0;32mreturn\u001b[0m \u001b[0mself\u001b[0m\u001b[0;34m.\u001b[0m\u001b[0mpredict_with_targs\u001b[0m\u001b[0;34m(\u001b[0m\u001b[0mis_test\u001b[0m\u001b[0;34m)\u001b[0m\u001b[0;34m[\u001b[0m\u001b[0;36m0\u001b[0m\u001b[0;34m]\u001b[0m\u001b[0;34m\u001b[0m\u001b[0m\n\u001b[0m\u001b[1;32m    256\u001b[0m \u001b[0;34m\u001b[0m\u001b[0m\n\u001b[1;32m    257\u001b[0m     \u001b[0;32mdef\u001b[0m \u001b[0mpredict_with_targs\u001b[0m\u001b[0;34m(\u001b[0m\u001b[0mself\u001b[0m\u001b[0;34m,\u001b[0m \u001b[0mis_test\u001b[0m\u001b[0;34m=\u001b[0m\u001b[0;32mFalse\u001b[0m\u001b[0;34m)\u001b[0m\u001b[0;34m:\u001b[0m\u001b[0;34m\u001b[0m\u001b[0m\n",
      "\u001b[0;32m~/fastai/courses/dl1/fastai/learner.py\u001b[0m in \u001b[0;36mpredict_with_targs\u001b[0;34m(self, is_test)\u001b[0m\n\u001b[1;32m    257\u001b[0m     \u001b[0;32mdef\u001b[0m \u001b[0mpredict_with_targs\u001b[0m\u001b[0;34m(\u001b[0m\u001b[0mself\u001b[0m\u001b[0;34m,\u001b[0m \u001b[0mis_test\u001b[0m\u001b[0;34m=\u001b[0m\u001b[0;32mFalse\u001b[0m\u001b[0;34m)\u001b[0m\u001b[0;34m:\u001b[0m\u001b[0;34m\u001b[0m\u001b[0m\n\u001b[1;32m    258\u001b[0m         \u001b[0mdl\u001b[0m \u001b[0;34m=\u001b[0m \u001b[0mself\u001b[0m\u001b[0;34m.\u001b[0m\u001b[0mdata\u001b[0m\u001b[0;34m.\u001b[0m\u001b[0mtest_dl\u001b[0m \u001b[0;32mif\u001b[0m \u001b[0mis_test\u001b[0m \u001b[0;32melse\u001b[0m \u001b[0mself\u001b[0m\u001b[0;34m.\u001b[0m\u001b[0mdata\u001b[0m\u001b[0;34m.\u001b[0m\u001b[0mval_dl\u001b[0m\u001b[0;34m\u001b[0m\u001b[0m\n\u001b[0;32m--> 259\u001b[0;31m         \u001b[0;32mreturn\u001b[0m \u001b[0mpredict_with_targs\u001b[0m\u001b[0;34m(\u001b[0m\u001b[0mself\u001b[0m\u001b[0;34m.\u001b[0m\u001b[0mmodel\u001b[0m\u001b[0;34m,\u001b[0m \u001b[0mdl\u001b[0m\u001b[0;34m)\u001b[0m\u001b[0;34m\u001b[0m\u001b[0m\n\u001b[0m\u001b[1;32m    260\u001b[0m \u001b[0;34m\u001b[0m\u001b[0m\n\u001b[1;32m    261\u001b[0m     \u001b[0;32mdef\u001b[0m \u001b[0mpredict_dl\u001b[0m\u001b[0;34m(\u001b[0m\u001b[0mself\u001b[0m\u001b[0;34m,\u001b[0m \u001b[0mdl\u001b[0m\u001b[0;34m)\u001b[0m\u001b[0;34m:\u001b[0m \u001b[0;32mreturn\u001b[0m \u001b[0mpredict_with_targs\u001b[0m\u001b[0;34m(\u001b[0m\u001b[0mself\u001b[0m\u001b[0;34m.\u001b[0m\u001b[0mmodel\u001b[0m\u001b[0;34m,\u001b[0m \u001b[0mdl\u001b[0m\u001b[0;34m)\u001b[0m\u001b[0;34m[\u001b[0m\u001b[0;36m0\u001b[0m\u001b[0;34m]\u001b[0m\u001b[0;34m\u001b[0m\u001b[0m\n",
      "\u001b[0;32m~/fastai/courses/dl1/fastai/model.py\u001b[0m in \u001b[0;36mpredict_with_targs\u001b[0;34m(m, dl)\u001b[0m\n\u001b[1;32m    139\u001b[0m     \u001b[0;32mif\u001b[0m \u001b[0mhasattr\u001b[0m\u001b[0;34m(\u001b[0m\u001b[0mm\u001b[0m\u001b[0;34m,\u001b[0m \u001b[0;34m'reset'\u001b[0m\u001b[0;34m)\u001b[0m\u001b[0;34m:\u001b[0m \u001b[0mm\u001b[0m\u001b[0;34m.\u001b[0m\u001b[0mreset\u001b[0m\u001b[0;34m(\u001b[0m\u001b[0;34m)\u001b[0m\u001b[0;34m\u001b[0m\u001b[0m\n\u001b[1;32m    140\u001b[0m     \u001b[0mres\u001b[0m \u001b[0;34m=\u001b[0m \u001b[0;34m[\u001b[0m\u001b[0;34m]\u001b[0m\u001b[0;34m\u001b[0m\u001b[0m\n\u001b[0;32m--> 141\u001b[0;31m     \u001b[0;32mfor\u001b[0m \u001b[0;34m*\u001b[0m\u001b[0mx\u001b[0m\u001b[0;34m,\u001b[0m\u001b[0my\u001b[0m \u001b[0;32min\u001b[0m \u001b[0miter\u001b[0m\u001b[0;34m(\u001b[0m\u001b[0mdl\u001b[0m\u001b[0;34m)\u001b[0m\u001b[0;34m:\u001b[0m \u001b[0mres\u001b[0m\u001b[0;34m.\u001b[0m\u001b[0mappend\u001b[0m\u001b[0;34m(\u001b[0m\u001b[0;34m[\u001b[0m\u001b[0mget_prediction\u001b[0m\u001b[0;34m(\u001b[0m\u001b[0mm\u001b[0m\u001b[0;34m(\u001b[0m\u001b[0;34m*\u001b[0m\u001b[0mVV\u001b[0m\u001b[0;34m(\u001b[0m\u001b[0mx\u001b[0m\u001b[0;34m)\u001b[0m\u001b[0;34m)\u001b[0m\u001b[0;34m)\u001b[0m\u001b[0;34m,\u001b[0m\u001b[0my\u001b[0m\u001b[0;34m]\u001b[0m\u001b[0;34m)\u001b[0m\u001b[0;34m\u001b[0m\u001b[0m\n\u001b[0m\u001b[1;32m    142\u001b[0m     \u001b[0mpreda\u001b[0m\u001b[0;34m,\u001b[0m\u001b[0mtarga\u001b[0m \u001b[0;34m=\u001b[0m \u001b[0mzip\u001b[0m\u001b[0;34m(\u001b[0m\u001b[0;34m*\u001b[0m\u001b[0mres\u001b[0m\u001b[0;34m)\u001b[0m\u001b[0;34m\u001b[0m\u001b[0m\n\u001b[1;32m    143\u001b[0m     \u001b[0;32mreturn\u001b[0m \u001b[0mto_np\u001b[0m\u001b[0;34m(\u001b[0m\u001b[0mtorch\u001b[0m\u001b[0;34m.\u001b[0m\u001b[0mcat\u001b[0m\u001b[0;34m(\u001b[0m\u001b[0mpreda\u001b[0m\u001b[0;34m)\u001b[0m\u001b[0;34m)\u001b[0m\u001b[0;34m,\u001b[0m \u001b[0mto_np\u001b[0m\u001b[0;34m(\u001b[0m\u001b[0mtorch\u001b[0m\u001b[0;34m.\u001b[0m\u001b[0mcat\u001b[0m\u001b[0;34m(\u001b[0m\u001b[0mtarga\u001b[0m\u001b[0;34m)\u001b[0m\u001b[0;34m)\u001b[0m\u001b[0;34m\u001b[0m\u001b[0m\n",
      "\u001b[0;32m~/anaconda3/envs/fastai/lib/python3.6/site-packages/torch/nn/modules/module.py\u001b[0m in \u001b[0;36m__call__\u001b[0;34m(self, *input, **kwargs)\u001b[0m\n\u001b[1;32m    323\u001b[0m         \u001b[0;32mfor\u001b[0m \u001b[0mhook\u001b[0m \u001b[0;32min\u001b[0m \u001b[0mself\u001b[0m\u001b[0;34m.\u001b[0m\u001b[0m_forward_pre_hooks\u001b[0m\u001b[0;34m.\u001b[0m\u001b[0mvalues\u001b[0m\u001b[0;34m(\u001b[0m\u001b[0;34m)\u001b[0m\u001b[0;34m:\u001b[0m\u001b[0;34m\u001b[0m\u001b[0m\n\u001b[1;32m    324\u001b[0m             \u001b[0mhook\u001b[0m\u001b[0;34m(\u001b[0m\u001b[0mself\u001b[0m\u001b[0;34m,\u001b[0m \u001b[0minput\u001b[0m\u001b[0;34m)\u001b[0m\u001b[0;34m\u001b[0m\u001b[0m\n\u001b[0;32m--> 325\u001b[0;31m         \u001b[0mresult\u001b[0m \u001b[0;34m=\u001b[0m \u001b[0mself\u001b[0m\u001b[0;34m.\u001b[0m\u001b[0mforward\u001b[0m\u001b[0;34m(\u001b[0m\u001b[0;34m*\u001b[0m\u001b[0minput\u001b[0m\u001b[0;34m,\u001b[0m \u001b[0;34m**\u001b[0m\u001b[0mkwargs\u001b[0m\u001b[0;34m)\u001b[0m\u001b[0;34m\u001b[0m\u001b[0m\n\u001b[0m\u001b[1;32m    326\u001b[0m         \u001b[0;32mfor\u001b[0m \u001b[0mhook\u001b[0m \u001b[0;32min\u001b[0m \u001b[0mself\u001b[0m\u001b[0;34m.\u001b[0m\u001b[0m_forward_hooks\u001b[0m\u001b[0;34m.\u001b[0m\u001b[0mvalues\u001b[0m\u001b[0;34m(\u001b[0m\u001b[0;34m)\u001b[0m\u001b[0;34m:\u001b[0m\u001b[0;34m\u001b[0m\u001b[0m\n\u001b[1;32m    327\u001b[0m             \u001b[0mhook_result\u001b[0m \u001b[0;34m=\u001b[0m \u001b[0mhook\u001b[0m\u001b[0;34m(\u001b[0m\u001b[0mself\u001b[0m\u001b[0;34m,\u001b[0m \u001b[0minput\u001b[0m\u001b[0;34m,\u001b[0m \u001b[0mresult\u001b[0m\u001b[0;34m)\u001b[0m\u001b[0;34m\u001b[0m\u001b[0m\n",
      "\u001b[0;32m~/fastai/courses/dl1/fastai/column_data.py\u001b[0m in \u001b[0;36mforward\u001b[0;34m(self, x_cat, x_cont)\u001b[0m\n\u001b[1;32m    107\u001b[0m             \u001b[0mx\u001b[0m \u001b[0;34m=\u001b[0m \u001b[0mself\u001b[0m\u001b[0;34m.\u001b[0m\u001b[0memb_drop\u001b[0m\u001b[0;34m(\u001b[0m\u001b[0mx\u001b[0m\u001b[0;34m)\u001b[0m\u001b[0;34m\u001b[0m\u001b[0m\n\u001b[1;32m    108\u001b[0m         \u001b[0;32mif\u001b[0m \u001b[0mself\u001b[0m\u001b[0;34m.\u001b[0m\u001b[0mn_cont\u001b[0m \u001b[0;34m!=\u001b[0m \u001b[0;36m0\u001b[0m\u001b[0;34m:\u001b[0m\u001b[0;34m\u001b[0m\u001b[0m\n\u001b[0;32m--> 109\u001b[0;31m             \u001b[0mx2\u001b[0m \u001b[0;34m=\u001b[0m \u001b[0mself\u001b[0m\u001b[0;34m.\u001b[0m\u001b[0mbn\u001b[0m\u001b[0;34m(\u001b[0m\u001b[0mx_cont\u001b[0m\u001b[0;34m)\u001b[0m\u001b[0;34m\u001b[0m\u001b[0m\n\u001b[0m\u001b[1;32m    110\u001b[0m             \u001b[0mx\u001b[0m \u001b[0;34m=\u001b[0m \u001b[0mtorch\u001b[0m\u001b[0;34m.\u001b[0m\u001b[0mcat\u001b[0m\u001b[0;34m(\u001b[0m\u001b[0;34m[\u001b[0m\u001b[0mx\u001b[0m\u001b[0;34m,\u001b[0m \u001b[0mx2\u001b[0m\u001b[0;34m]\u001b[0m\u001b[0;34m,\u001b[0m \u001b[0;36m1\u001b[0m\u001b[0;34m)\u001b[0m \u001b[0;32mif\u001b[0m \u001b[0mself\u001b[0m\u001b[0;34m.\u001b[0m\u001b[0mn_emb\u001b[0m \u001b[0;34m!=\u001b[0m \u001b[0;36m0\u001b[0m \u001b[0;32melse\u001b[0m \u001b[0mx2\u001b[0m\u001b[0;34m\u001b[0m\u001b[0m\n\u001b[1;32m    111\u001b[0m         \u001b[0;32mfor\u001b[0m \u001b[0ml\u001b[0m\u001b[0;34m,\u001b[0m\u001b[0md\u001b[0m\u001b[0;34m,\u001b[0m\u001b[0mb\u001b[0m \u001b[0;32min\u001b[0m \u001b[0mzip\u001b[0m\u001b[0;34m(\u001b[0m\u001b[0mself\u001b[0m\u001b[0;34m.\u001b[0m\u001b[0mlins\u001b[0m\u001b[0;34m,\u001b[0m \u001b[0mself\u001b[0m\u001b[0;34m.\u001b[0m\u001b[0mdrops\u001b[0m\u001b[0;34m,\u001b[0m \u001b[0mself\u001b[0m\u001b[0;34m.\u001b[0m\u001b[0mbns\u001b[0m\u001b[0;34m)\u001b[0m\u001b[0;34m:\u001b[0m\u001b[0;34m\u001b[0m\u001b[0m\n",
      "\u001b[0;32m~/anaconda3/envs/fastai/lib/python3.6/site-packages/torch/nn/modules/module.py\u001b[0m in \u001b[0;36m__call__\u001b[0;34m(self, *input, **kwargs)\u001b[0m\n\u001b[1;32m    323\u001b[0m         \u001b[0;32mfor\u001b[0m \u001b[0mhook\u001b[0m \u001b[0;32min\u001b[0m \u001b[0mself\u001b[0m\u001b[0;34m.\u001b[0m\u001b[0m_forward_pre_hooks\u001b[0m\u001b[0;34m.\u001b[0m\u001b[0mvalues\u001b[0m\u001b[0;34m(\u001b[0m\u001b[0;34m)\u001b[0m\u001b[0;34m:\u001b[0m\u001b[0;34m\u001b[0m\u001b[0m\n\u001b[1;32m    324\u001b[0m             \u001b[0mhook\u001b[0m\u001b[0;34m(\u001b[0m\u001b[0mself\u001b[0m\u001b[0;34m,\u001b[0m \u001b[0minput\u001b[0m\u001b[0;34m)\u001b[0m\u001b[0;34m\u001b[0m\u001b[0m\n\u001b[0;32m--> 325\u001b[0;31m         \u001b[0mresult\u001b[0m \u001b[0;34m=\u001b[0m \u001b[0mself\u001b[0m\u001b[0;34m.\u001b[0m\u001b[0mforward\u001b[0m\u001b[0;34m(\u001b[0m\u001b[0;34m*\u001b[0m\u001b[0minput\u001b[0m\u001b[0;34m,\u001b[0m \u001b[0;34m**\u001b[0m\u001b[0mkwargs\u001b[0m\u001b[0;34m)\u001b[0m\u001b[0;34m\u001b[0m\u001b[0m\n\u001b[0m\u001b[1;32m    326\u001b[0m         \u001b[0;32mfor\u001b[0m \u001b[0mhook\u001b[0m \u001b[0;32min\u001b[0m \u001b[0mself\u001b[0m\u001b[0;34m.\u001b[0m\u001b[0m_forward_hooks\u001b[0m\u001b[0;34m.\u001b[0m\u001b[0mvalues\u001b[0m\u001b[0;34m(\u001b[0m\u001b[0;34m)\u001b[0m\u001b[0;34m:\u001b[0m\u001b[0;34m\u001b[0m\u001b[0m\n\u001b[1;32m    327\u001b[0m             \u001b[0mhook_result\u001b[0m \u001b[0;34m=\u001b[0m \u001b[0mhook\u001b[0m\u001b[0;34m(\u001b[0m\u001b[0mself\u001b[0m\u001b[0;34m,\u001b[0m \u001b[0minput\u001b[0m\u001b[0;34m,\u001b[0m \u001b[0mresult\u001b[0m\u001b[0;34m)\u001b[0m\u001b[0;34m\u001b[0m\u001b[0m\n",
      "\u001b[0;32m~/anaconda3/envs/fastai/lib/python3.6/site-packages/torch/nn/modules/batchnorm.py\u001b[0m in \u001b[0;36mforward\u001b[0;34m(self, input)\u001b[0m\n\u001b[1;32m     35\u001b[0m         return F.batch_norm(\n\u001b[1;32m     36\u001b[0m             \u001b[0minput\u001b[0m\u001b[0;34m,\u001b[0m \u001b[0mself\u001b[0m\u001b[0;34m.\u001b[0m\u001b[0mrunning_mean\u001b[0m\u001b[0;34m,\u001b[0m \u001b[0mself\u001b[0m\u001b[0;34m.\u001b[0m\u001b[0mrunning_var\u001b[0m\u001b[0;34m,\u001b[0m \u001b[0mself\u001b[0m\u001b[0;34m.\u001b[0m\u001b[0mweight\u001b[0m\u001b[0;34m,\u001b[0m \u001b[0mself\u001b[0m\u001b[0;34m.\u001b[0m\u001b[0mbias\u001b[0m\u001b[0;34m,\u001b[0m\u001b[0;34m\u001b[0m\u001b[0m\n\u001b[0;32m---> 37\u001b[0;31m             self.training, self.momentum, self.eps)\n\u001b[0m\u001b[1;32m     38\u001b[0m \u001b[0;34m\u001b[0m\u001b[0m\n\u001b[1;32m     39\u001b[0m     \u001b[0;32mdef\u001b[0m \u001b[0m__repr__\u001b[0m\u001b[0;34m(\u001b[0m\u001b[0mself\u001b[0m\u001b[0;34m)\u001b[0m\u001b[0;34m:\u001b[0m\u001b[0;34m\u001b[0m\u001b[0m\n",
      "\u001b[0;32m~/anaconda3/envs/fastai/lib/python3.6/site-packages/torch/nn/functional.py\u001b[0m in \u001b[0;36mbatch_norm\u001b[0;34m(input, running_mean, running_var, weight, bias, training, momentum, eps)\u001b[0m\n\u001b[1;32m   1011\u001b[0m             \u001b[0;32mraise\u001b[0m \u001b[0mValueError\u001b[0m\u001b[0;34m(\u001b[0m\u001b[0;34m'Expected more than 1 value per channel when training, got input size {}'\u001b[0m\u001b[0;34m.\u001b[0m\u001b[0mformat\u001b[0m\u001b[0;34m(\u001b[0m\u001b[0msize\u001b[0m\u001b[0;34m)\u001b[0m\u001b[0;34m)\u001b[0m\u001b[0;34m\u001b[0m\u001b[0m\n\u001b[1;32m   1012\u001b[0m     \u001b[0mf\u001b[0m \u001b[0;34m=\u001b[0m \u001b[0mtorch\u001b[0m\u001b[0;34m.\u001b[0m\u001b[0m_C\u001b[0m\u001b[0;34m.\u001b[0m\u001b[0m_functions\u001b[0m\u001b[0;34m.\u001b[0m\u001b[0mBatchNorm\u001b[0m\u001b[0;34m(\u001b[0m\u001b[0mrunning_mean\u001b[0m\u001b[0;34m,\u001b[0m \u001b[0mrunning_var\u001b[0m\u001b[0;34m,\u001b[0m \u001b[0mtraining\u001b[0m\u001b[0;34m,\u001b[0m \u001b[0mmomentum\u001b[0m\u001b[0;34m,\u001b[0m \u001b[0meps\u001b[0m\u001b[0;34m,\u001b[0m \u001b[0mtorch\u001b[0m\u001b[0;34m.\u001b[0m\u001b[0mbackends\u001b[0m\u001b[0;34m.\u001b[0m\u001b[0mcudnn\u001b[0m\u001b[0;34m.\u001b[0m\u001b[0menabled\u001b[0m\u001b[0;34m)\u001b[0m\u001b[0;34m\u001b[0m\u001b[0m\n\u001b[0;32m-> 1013\u001b[0;31m     \u001b[0;32mreturn\u001b[0m \u001b[0mf\u001b[0m\u001b[0;34m(\u001b[0m\u001b[0minput\u001b[0m\u001b[0;34m,\u001b[0m \u001b[0mweight\u001b[0m\u001b[0;34m,\u001b[0m \u001b[0mbias\u001b[0m\u001b[0;34m)\u001b[0m\u001b[0;34m\u001b[0m\u001b[0m\n\u001b[0m\u001b[1;32m   1014\u001b[0m \u001b[0;34m\u001b[0m\u001b[0m\n\u001b[1;32m   1015\u001b[0m \u001b[0;34m\u001b[0m\u001b[0m\n",
      "\u001b[0;31mRuntimeError\u001b[0m: running_mean should contain 17 elements not 15"
     ]
    }
   ],
   "source": [
    "pred_test=m.predict(is_test=True)"
   ]
  },
  {
   "cell_type": "code",
   "execution_count": 116,
   "metadata": {},
   "outputs": [],
   "source": [
    "pred_test = np.exp(pred_test)"
   ]
  },
  {
   "cell_type": "code",
   "execution_count": 117,
   "metadata": {
    "hidden": true
   },
   "outputs": [],
   "source": [
    "joined_test['Price']= pred_test"
   ]
  },
  {
   "cell_type": "code",
   "execution_count": 118,
   "metadata": {
    "hidden": true
   },
   "outputs": [],
   "source": [
    "csv_fn=f'{PATH}tmp/sub.csv'"
   ]
  },
  {
   "cell_type": "code",
   "execution_count": 119,
   "metadata": {
    "hidden": true
   },
   "outputs": [],
   "source": [
    "joined_test[['ID','Price']].to_csv(csv_fn, index=False)"
   ]
  },
  {
   "cell_type": "code",
   "execution_count": 120,
   "metadata": {
    "hidden": true
   },
   "outputs": [
    {
     "data": {
      "text/html": [
       "<a href='data/taxiprice/tmp/sub.csv' target='_blank'>data/taxiprice/tmp/sub.csv</a><br>"
      ],
      "text/plain": [
       "/home/paperspace/fastai/courses/dl1/data/taxiprice/tmp/sub.csv"
      ]
     },
     "execution_count": 120,
     "metadata": {},
     "output_type": "execute_result"
    }
   ],
   "source": [
    "FileLink(csv_fn)"
   ]
  },
  {
   "cell_type": "code",
   "execution_count": null,
   "metadata": {
    "collapsed": true,
    "hidden": true
   },
   "outputs": [],
   "source": []
  }
 ],
 "metadata": {
  "anaconda-cloud": {},
  "kernelspec": {
   "display_name": "Python 3",
   "language": "python",
   "name": "python3"
  },
  "language_info": {
   "codemirror_mode": {
    "name": "ipython",
    "version": 3
   },
   "file_extension": ".py",
   "mimetype": "text/x-python",
   "name": "python",
   "nbconvert_exporter": "python",
   "pygments_lexer": "ipython3",
   "version": "3.6.4"
  },
  "toc": {
   "colors": {
    "hover_highlight": "#DAA520",
    "navigate_num": "#000000",
    "navigate_text": "#333333",
    "running_highlight": "#FF0000",
    "selected_highlight": "#FFD700",
    "sidebar_border": "#EEEEEE",
    "wrapper_background": "#FFFFFF"
   },
   "moveMenuLeft": true,
   "nav_menu": {
    "height": "173px",
    "width": "251px"
   },
   "navigate_menu": true,
   "number_sections": true,
   "sideBar": true,
   "threshold": 4,
   "toc_cell": false,
   "toc_section_display": "block",
   "toc_window_display": false,
   "widenNotebook": false
  }
 },
 "nbformat": 4,
 "nbformat_minor": 2
}
