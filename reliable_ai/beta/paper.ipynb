{
 "cells": [
  {
   "cell_type": "code",
   "execution_count": 4,
   "metadata": {},
   "outputs": [
    {
     "name": "stdout",
     "output_type": "stream",
     "text": [
      "Academic license - for non-commercial use only\n",
      "verified\n",
      "analysis time:  0.45993852615356445  seconds\n"
     ]
    }
   ],
   "source": [
    "import analyzer\n",
    "import time\n",
    "import pandas as pd\n",
    "%run analyzer.py mnist_nets/mnist_relu_3_10.txt mnist_images/img0.txt 0.0005"
   ]
  },
  {
   "cell_type": "code",
   "execution_count": 263,
   "metadata": {},
   "outputs": [],
   "source": [
    "def paper_analyze(netname, epsilon, specname, iobj= None):\n",
    "    verified = False\n",
    "    #Import and parse the net\n",
    "    with open(netname, 'r') as netfile:\n",
    "        netstring = netfile.read()\n",
    "    with open(specname, 'r') as specfile:\n",
    "        specstring = specfile.read()\n",
    "    nn = parse_net(netstring)\n",
    "    x0_low, x0_high = parse_spec(specstring)\n",
    "    x = x0_low[1:]\n",
    "    xl, xu = get_perturbed_image(x0_low,0)\n",
    "    label, _ = analyze(nn,xl, xu,0)\n",
    "    xl, xu = get_perturbed_image(x0_low,epsilon)\n",
    "    assert(xl.shape == xu.shape)\n",
    "    \n",
    "    # Initialization. \n",
    "    v_hat_1 = nn.weights[0].T\n",
    "    gamma_1 = nn.biases[0].T\n",
    "    wnorm = np.linalg.norm(nn.weights[0].T, axis=0, ord=1)\n",
    "    l_i = np.matmul(np.transpose(x), nn.weights[0].T) + nn.biases[0] - epsilon*wnorm\n",
    "    u_i = np.matmul(np.transpose(x), nn.weights[0].T) + nn.biases[0] + epsilon*wnorm\n",
    "    \n",
    "    vs = [None]\n",
    "    gammas = [gamma_1]\n",
    "    ls = [l_i]\n",
    "    \n",
    "    # Iteration through all layer. \n",
    "    for i in range(2, nn.numlayer): \n",
    "        print(\"Layer -- %d\" % i)\n",
    "        # Check valid bounds. \n",
    "        assert (l_i <= u_i).all()\n",
    "        num_neurons = nn.biases[i-1].shape[0]\n",
    "        # Form index subset of lower and bounds\n",
    "        # I_im = both lower and upper bound are negativ.\n",
    "        # I_ip = both lower and upper bound are positiv. \n",
    "        # I_i  = lower bound negativ, upper bound positiv.\n",
    "        I_im = np.intersect1d(np.where(l_i < 0)[0], np.where(u_i < 0)[0])\n",
    "        I_ip = np.intersect1d(np.where(l_i >= 0)[0], np.where(u_i >= 0)[0])\n",
    "        I_i  = np.intersect1d(np.where(l_i < 0)[0], np.where(u_i > 0)[0])\n",
    "        assert I_im.shape[0] + I_ip.shape[0] + I_i.shape[0] == num_neurons\n",
    "        # Build diagonal bounds matrix. \n",
    "        # D_jj = 0 if j in I_im. \n",
    "        # D_jj = 1 if j in I_ip. \n",
    "        # D_jj = u_j/(u_j - l_j) if j in I_i.\n",
    "        D_i = np.zeros((num_neurons,num_neurons))\n",
    "        D_i[I_ip,I_ip] = 1\n",
    "        D_i[I_i,I_i] = u_i[I_i]/(u_i[I_i] - l_i[I_i])\n",
    "        # Initialize new terms.\n",
    "        v_iIi = np.matmul(D_i[I_i], nn.weights[i].T)\n",
    "        gamma_i = nn.biases[i].T\n",
    "        # Propagate existing terms. \n",
    "        for j in range(2, i): \n",
    "            vs[j-1] = np.matmul(np.matmul(vs[j-1], D_i), nn.weights[i].T)\n",
    "        for j in range(1, i): \n",
    "            gammas[j-1] = np.matmul(gammas[j-1],np.matmul(D_i, nn.weights[i].T))\n",
    "        v_hat_1 = np.matmul(v_hat_1, np.matmul(D_i, nn.weights[i].T))\n",
    "        # Update internal storage. \n",
    "        vs.append(v_iIi)\n",
    "        gammas.append(gamma_i)\n",
    "        ls.append(l_i)        \n",
    "        # Compute bounds.\n",
    "        psi_i = np.matmul(x.T, v_hat_1) + sum(gammas)\n",
    "        vhatnorm = np.linalg.norm(v_hat_1, axis=0, ord=1)\n",
    "        l_i = psi_i - epsilon*vhatnorm\n",
    "        for j in range(2,i+1): \n",
    "            for it in I_i.tolist(): \n",
    "                l_i += ls[j-1][it]*np.maximum(vs[j-1][0,it],0)\n",
    "        u_i = psi_i + epsilon*vhatnorm\n",
    "        for j in range(2,i+1): \n",
    "            for it in I_i.tolist(): \n",
    "                u_i -= ls[j-1][it]*np.maximum(vs[j-1][0,it],0)\n",
    "        print(l_i, u_i)\n",
    "    return flag\n",
    "    "
   ]
  },
  {
   "cell_type": "code",
   "execution_count": 264,
   "metadata": {},
   "outputs": [],
   "source": [
    "netname = 'mnist_nets/mnist_relu_6_50.txt'\n",
    "epsilon = 0.01\n",
    "specname = 'mnist_images/img1.txt'"
   ]
  },
  {
   "cell_type": "code",
   "execution_count": 265,
   "metadata": {},
   "outputs": [
    {
     "name": "stdout",
     "output_type": "stream",
     "text": [
      "Layer -- 2\n",
      "[ 0.66296313  0.38913563 -0.3218351  -0.76884942 -1.18706421 -0.49741311\n",
      " -1.20088873 -1.21607726  1.2984405  -2.64780469 -2.27276845  0.52549433\n",
      " -0.51101516  0.260106    1.06149689 -0.04746931 -2.0880292   0.33782916\n",
      " -1.68352757 -0.22303646 -0.90345151 -1.3282468   0.64325599 -0.51584231\n",
      "  0.45563959  0.41923451 -1.70856223 -0.24263303 -2.24619574  1.02085667\n",
      "  0.09093268 -0.6798925   0.13746135 -1.40323514  0.50509378 -1.27519787\n",
      "  1.09443297 -2.54913317  0.53274823  0.25060667 -0.6290629  -0.07649312\n",
      "  0.61085044  0.3300804   0.17188211 -1.16317163 -2.54895849  1.65023952\n",
      " -0.59936431 -0.04824073] [ 1.12884449  1.16810607  0.28309485 -0.17242852 -0.57750647  0.00497402\n",
      " -0.48251956 -0.36595092  2.01782852 -1.90866261 -1.54752874  1.20438815\n",
      " -0.04692598  1.17977138  1.859357    0.97298068 -1.26191093  0.84908984\n",
      " -1.0440384   0.62640434 -0.33521956 -0.77465494  1.77345918  0.11227872\n",
      "  1.30661242  1.14340295 -0.81579296  0.47110673 -1.57400828  1.94559014\n",
      "  0.64234067 -0.17834862  0.80902205 -0.7202284   1.23698781 -0.71216743\n",
      "  1.72059309 -1.91790729  1.21274212  0.78223555 -0.00843054  0.4822357\n",
      "  1.32314349  1.13995651  1.14985321 -0.53442884 -1.6203479   2.63883463\n",
      "  0.00418246  0.83232493]\n",
      "Layer -- 3\n",
      "[-0.76000399 -1.94529283 -1.72303244  0.46344881 -0.27223742 -1.37172715\n",
      " -1.79590364 -1.79763778 -1.63409949 -1.68774457 -1.75242385 -1.05178047\n",
      " -1.13505423 -1.94460064 -1.54304659 -1.40721438 -2.13392075 -1.78080722\n",
      " -1.99250091 -1.74327983 -1.47001093 -1.09514999 -1.07551531 -1.71657079\n",
      " -1.18327252 -0.30221734 -1.93238818 -2.62499204 -1.26295459 -0.69533686\n",
      " -2.05900879 -1.2971762  -1.82950529 -2.51902904 -2.03464206 -2.28677316\n",
      " -1.2483224  -2.38329539 -2.60357748 -1.78347055 -1.69089324 -1.65193571\n",
      " -1.88950109 -0.25822705 -1.80412407 -0.87246527 -2.39797349 -1.69908051\n",
      " -1.45106439 -1.77302124] [ 1.82086248  0.55117493  0.78410666  3.63889244  2.20779441  1.3242755\n",
      "  0.86126503  1.11196281  1.16585699  0.91189014  0.55761405  1.32133966\n",
      "  1.34958387  0.56221868  1.3616286   1.40579863  0.419851    0.71600349\n",
      "  0.91056339  0.66508721  1.45674092  1.14580579  1.7787848   0.6368338\n",
      "  1.52970642  2.92435686  0.44047759 -0.09318786  1.36869607  2.11877175\n",
      "  0.5541393   1.20245625  0.80191139  0.12244528  0.4350813   0.5724525\n",
      "  1.1306954   0.2750659  -0.1322895   0.8919627   0.739383    1.01251353\n",
      "  0.70758789  2.38382896  0.54061682  1.8443983   0.35822147  0.9682151\n",
      "  0.8868314   0.58298083]\n",
      "Layer -- 4\n",
      "[-4.16966849 -3.60631848 -3.87737288 -4.18684188 -5.14538808 -3.44364412\n",
      " -3.66443932 -3.9293176  -4.211635   -3.8666955  -3.95540701 -3.92391147\n",
      " -4.71645624 -4.45617002 -4.02713592 -4.70357546 -5.56903167 -3.51566597\n",
      " -4.12880879 -4.21929356 -4.2739882  -3.85361998 -4.16620686 -3.56305614\n",
      " -3.52655579 -3.64015473 -3.08825912 -4.68814265 -3.81496021 -3.93165175\n",
      " -4.36110825 -3.88596755 -3.90858783 -2.90525318 -3.47875143 -4.32262938\n",
      " -2.94312411 -4.31362998 -3.59799388 -3.67078473 -4.63234682 -4.04865033\n",
      " -3.30003062 -3.57672548 -3.7513593  -3.67116607 -3.38471781 -4.024871\n",
      " -3.5937204  -4.51189269] [3.66496379 4.21527559 4.14172827 3.555829   3.58755597 4.70118946\n",
      " 4.08343509 4.00192569 3.81607315 4.21797197 3.82458473 4.03387576\n",
      " 3.42773949 3.39091992 3.89224929 3.29349131 3.19585832 4.53027439\n",
      " 4.07540503 3.56473636 3.51948981 3.90404628 4.10908176 4.4000332\n",
      " 4.79815951 4.51914256 4.97480262 3.35952055 4.35085925 4.04528534\n",
      " 4.23142948 4.06737372 4.16035656 5.46719235 4.67419199 3.62480277\n",
      " 5.53724422 3.40629913 4.39686115 4.59082653 3.538348   3.65174944\n",
      " 4.85514401 4.46570698 4.60692425 4.15775672 4.95413056 3.79792871\n",
      " 4.55877422 3.85045873]\n",
      "Layer -- 5\n"
     ]
    },
    {
     "ename": "IndexError",
     "evalue": "index 10 is out of bounds for axis 1 with size 10",
     "output_type": "error",
     "traceback": [
      "\u001b[0;31m---------------------------------------------------------------------------\u001b[0m",
      "\u001b[0;31mIndexError\u001b[0m                                Traceback (most recent call last)",
      "\u001b[0;32m<timed exec>\u001b[0m in \u001b[0;36m<module>\u001b[0;34m\u001b[0m\n",
      "\u001b[0;32m<ipython-input-263-743d58fea211>\u001b[0m in \u001b[0;36mpaper_analyze\u001b[0;34m(netname, epsilon, specname, iobj)\u001b[0m\n\u001b[1;32m     65\u001b[0m         \u001b[0;32mfor\u001b[0m \u001b[0mj\u001b[0m \u001b[0;32min\u001b[0m \u001b[0mrange\u001b[0m\u001b[0;34m(\u001b[0m\u001b[0;36m2\u001b[0m\u001b[0;34m,\u001b[0m\u001b[0mi\u001b[0m\u001b[0;34m+\u001b[0m\u001b[0;36m1\u001b[0m\u001b[0;34m)\u001b[0m\u001b[0;34m:\u001b[0m\u001b[0;34m\u001b[0m\u001b[0;34m\u001b[0m\u001b[0m\n\u001b[1;32m     66\u001b[0m             \u001b[0;32mfor\u001b[0m \u001b[0mit\u001b[0m \u001b[0;32min\u001b[0m \u001b[0mI_i\u001b[0m\u001b[0;34m.\u001b[0m\u001b[0mtolist\u001b[0m\u001b[0;34m(\u001b[0m\u001b[0;34m)\u001b[0m\u001b[0;34m:\u001b[0m\u001b[0;34m\u001b[0m\u001b[0;34m\u001b[0m\u001b[0m\n\u001b[0;32m---> 67\u001b[0;31m                 \u001b[0ml_i\u001b[0m \u001b[0;34m+=\u001b[0m \u001b[0mls\u001b[0m\u001b[0;34m[\u001b[0m\u001b[0mj\u001b[0m\u001b[0;34m-\u001b[0m\u001b[0;36m1\u001b[0m\u001b[0;34m]\u001b[0m\u001b[0;34m[\u001b[0m\u001b[0mit\u001b[0m\u001b[0;34m]\u001b[0m\u001b[0;34m*\u001b[0m\u001b[0mnp\u001b[0m\u001b[0;34m.\u001b[0m\u001b[0mmaximum\u001b[0m\u001b[0;34m(\u001b[0m\u001b[0mvs\u001b[0m\u001b[0;34m[\u001b[0m\u001b[0mj\u001b[0m\u001b[0;34m-\u001b[0m\u001b[0;36m1\u001b[0m\u001b[0;34m]\u001b[0m\u001b[0;34m[\u001b[0m\u001b[0;36m0\u001b[0m\u001b[0;34m,\u001b[0m\u001b[0mit\u001b[0m\u001b[0;34m]\u001b[0m\u001b[0;34m,\u001b[0m\u001b[0;36m0\u001b[0m\u001b[0;34m)\u001b[0m\u001b[0;34m\u001b[0m\u001b[0;34m\u001b[0m\u001b[0m\n\u001b[0m\u001b[1;32m     68\u001b[0m         \u001b[0mu_i\u001b[0m \u001b[0;34m=\u001b[0m \u001b[0mpsi_i\u001b[0m \u001b[0;34m+\u001b[0m \u001b[0mepsilon\u001b[0m\u001b[0;34m*\u001b[0m\u001b[0mvhatnorm\u001b[0m\u001b[0;34m\u001b[0m\u001b[0;34m\u001b[0m\u001b[0m\n\u001b[1;32m     69\u001b[0m         \u001b[0;32mfor\u001b[0m \u001b[0mj\u001b[0m \u001b[0;32min\u001b[0m \u001b[0mrange\u001b[0m\u001b[0;34m(\u001b[0m\u001b[0;36m2\u001b[0m\u001b[0;34m,\u001b[0m\u001b[0mi\u001b[0m\u001b[0;34m+\u001b[0m\u001b[0;36m1\u001b[0m\u001b[0;34m)\u001b[0m\u001b[0;34m:\u001b[0m\u001b[0;34m\u001b[0m\u001b[0;34m\u001b[0m\u001b[0m\n",
      "\u001b[0;31mIndexError\u001b[0m: index 10 is out of bounds for axis 1 with size 10"
     ]
    }
   ],
   "source": [
    "%%time\n",
    "label = paper_analyze(netname, epsilon, specname)"
   ]
  },
  {
   "cell_type": "code",
   "execution_count": null,
   "metadata": {},
   "outputs": [],
   "source": []
  }
 ],
 "metadata": {
  "kernelspec": {
   "display_name": "Python 3",
   "language": "python",
   "name": "python3"
  },
  "language_info": {
   "codemirror_mode": {
    "name": "ipython",
    "version": 3
   },
   "file_extension": ".py",
   "mimetype": "text/x-python",
   "name": "python",
   "nbconvert_exporter": "python",
   "pygments_lexer": "ipython3",
   "version": "3.6.7"
  }
 },
 "nbformat": 4,
 "nbformat_minor": 2
}
