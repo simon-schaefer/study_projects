{
 "cells": [
  {
   "cell_type": "code",
   "execution_count": 4,
   "metadata": {
    "scrolled": true
   },
   "outputs": [
    {
     "name": "stdout",
     "output_type": "stream",
     "text": [
      "verified\n",
      "analysis time:  0.5211946964263916  seconds\n"
     ]
    }
   ],
   "source": [
    "import analyzer\n",
    "import time\n",
    "import pandas as pd\n",
    "%run analyzer.py mnist_nets/mnist_relu_3_10.txt mnist_images/img0.txt 0.0005"
   ]
  },
  {
   "cell_type": "code",
   "execution_count": 5,
   "metadata": {},
   "outputs": [],
   "source": [
    "from slope_reduction_v1 import *"
   ]
  },
  {
   "cell_type": "code",
   "execution_count": 15,
   "metadata": {},
   "outputs": [],
   "source": [
    "def relu_split(model, layer_k, dim_m, h_lb, h_ub, x_lb, x_ub, h_km):\n",
    "    assert h_lb <= h_ub\n",
    "    assert x_lb <= x_ub\n",
    "    assert x_lb >= 0\n",
    "    \n",
    "    x_km = model.addVar(vtype=GRB.CONTINUOUS, name=\"x_\"+str(layer_k)+'_' +str(dim_m))\n",
    "    \n",
    "    if h_lb >= 0:\n",
    "        C0 = model.addLConstr(x_km == h_km)\n",
    "        constraints = [C0]\n",
    "        flag = 1\n",
    "\n",
    "    else:\n",
    "        assert x_lb >= 0\n",
    "        assert x_ub >= 0\n",
    "        assert x_ub <= h_ub\n",
    "    \n",
    "        slope = x_ub / (x_ub - h_lb)\n",
    "        intercept = -slope * h_lb\n",
    "        assert intercept > 0\n",
    "        \n",
    "        C0 = model.addLConstr(x_km >= 0)\n",
    "        C1 = model.addLConstr(x_km >= h_km)\n",
    "        C2 = model.addLConstr(x_km <= slope * h_km + intercept)\n",
    "        constraints = [C0,C1,C2]\n",
    "        flag = 2\n",
    "        \n",
    "    return x_km, flag, constraints"
   ]
  },
  {
   "cell_type": "code",
   "execution_count": 16,
   "metadata": {},
   "outputs": [],
   "source": [
    "def check_ub_convergence(x_ub, xu_old, abs_tol, rel_tol):\n",
    "    if (xu_old - x_ub < abs_tol):\n",
    "        #print('abs ub')\n",
    "        return True\n",
    "    if x_ub < 1e-5 or xu_old < 1e-5:\n",
    "        x_ub = 0\n",
    "        #print('0 ub')\n",
    "        return True\n",
    "    \n",
    "    if (xu_old - x_ub)/xu_old < rel_tol:\n",
    "        #print('rel ub')\n",
    "        return True\n",
    "    return False"
   ]
  },
  {
   "cell_type": "code",
   "execution_count": 19,
   "metadata": {},
   "outputs": [],
   "source": [
    "def check_lb_convergence(x_lb, xl_old, abs_tol, rel_tol):\n",
    "    if x_lb == 0:\n",
    "        return True\n",
    "    if (x_lb - xl_old  < abs_tol):\n",
    "        #print('abs lb')\n",
    "        return True\n",
    "    if (x_lb - xl_old )/x_lb < rel_tol:\n",
    "        #print('rel lb')\n",
    "        return True\n",
    "    return False"
   ]
  },
  {
   "cell_type": "code",
   "execution_count": 25,
   "metadata": {},
   "outputs": [],
   "source": [
    "def tighten_bounds(model, x_km, flag, xl_old, xu_old, h_lb, h_km, constraints, abs_tol = 0.005, rel_tol = 0.05):  \n",
    "    #Stable RELU case\n",
    "    if len(constraints) == 1:\n",
    "        model.reset()\n",
    "        model.setObjective(x_km, GRB.MAXIMIZE)\n",
    "        model.optimize()\n",
    "        x_ub = x_km.X\n",
    "        \n",
    "        model.reset()\n",
    "        model.setObjective(x_km, GRB.MINIMIZE)\n",
    "        model.optimize()\n",
    "        x_lb = x_km.X\n",
    "        return x_lb, x_ub\n",
    "    \n",
    "    #RELU-Triangle case\n",
    "    assert len(constraints) == 3\n",
    "    model.reset()\n",
    "    converged = False\n",
    "    while not converged:\n",
    "        model.setObjective(x_km, GRB.MAXIMIZE)\n",
    "        model.optimize()\n",
    "        x_ub = x_km.X\n",
    "        \n",
    "        if x_ub < 0.005:\n",
    "            model.remove(constraints[0])\n",
    "            model.remove(constraints[1])\n",
    "            model.remove(constraints[2])\n",
    "            model.addLConstr(x_km == 0)\n",
    "            model.update()\n",
    "            print('removed')\n",
    "            x_ub = 0\n",
    "            return 0, 0  #In this case both lower and upper bound ==0\n",
    "        \n",
    "        else: #slope update\n",
    "            new_slope = x_ub / (x_ub - h_lb)\n",
    "            new_intercept = -new_slope * h_lb\n",
    "            assert new_intercept > 0\n",
    "            model.remove(constraints[2])\n",
    "            constraints[2] = model.addLConstr(x_km <= new_slope * h_km + new_intercept)\n",
    "            #constraints[2].setAttr('rhs', new_slope * h_km + new_intercept)\n",
    "            model.update()\n",
    "        \n",
    "        #Convergence check\n",
    "        converged = check_ub_convergence(x_ub, xu_old, abs_tol, rel_tol)\n",
    "        xu_old = x_ub\n",
    "    \n",
    "    #Find lower bound\n",
    "    model.reset()\n",
    "    converged = False\n",
    "    while not converged:\n",
    "        model.setObjective(x_km, GRB.MINIMIZE)\n",
    "        model.optimize()\n",
    "        x_lb = x_km.X\n",
    "        \n",
    "        #Convergence check\n",
    "        converged = check_lb_convergence(x_ub, xu_old, abs_tol, rel_tol)\n",
    "        xu_old = x_ub\n",
    "        \n",
    "    return x_lb, x_ub\n",
    "        "
   ]
  },
  {
   "cell_type": "code",
   "execution_count": 42,
   "metadata": {},
   "outputs": [],
   "source": [
    "def optimize_layer_l(layer_k, nn, iobj, model, varis, label): \n",
    "    '''Optimizes layer_k '''\n",
    "    # Inits\n",
    "    relu_bin = {'zero':0, 'lin':0, 'unstable':0, 'aff':0}\n",
    "    \n",
    "    # Get weights, biases & layertype from nn\n",
    "    layer_type = nn.layertypes[layer_k-1]\n",
    "    weights = np.array(nn.weights[layer_k-1])\n",
    "    biases = np.array(nn.biases[layer_k-1])\n",
    "    \n",
    "    # Input and output dimensions for the k-th layer\n",
    "    in_dim  = weights.shape[1]\n",
    "    out_dim = weights.shape[0]\n",
    "    \n",
    "    # Get interval bounds from intervall object to calculate slope and intercept\n",
    "    hl, hu = iobj.get_logit_bounds(layer_k-1)\n",
    "    xl, xu = iobj.get_bounds(layer_k)\n",
    "    assert hl.size == out_dim\n",
    "    assert xl.size == out_dim       # The x's are ReLU(h)\n",
    "    \n",
    "    for dim_m in range(out_dim):\n",
    "        ws = weights[dim_m,:]  #one row of weights\n",
    "        b  = biases[dim_m]\n",
    "        \n",
    "        if xu[dim_m] <= 0:\n",
    "            h_km = None\n",
    "            varis['x_'+str(layer_k)+'_'+str(dim_m)] = 0 \n",
    "            relu_bin['zero'] +=1\n",
    "            \n",
    "        else:    \n",
    "            # Perform affine transform:  x_kn --> h_km where n iterates over input and m over output dimension\n",
    "            h_km = LinExpr(b)\n",
    "            for dim_n in range(in_dim):\n",
    "                h_km.add( ws[dim_n] * varis['x_'+str(layer_k-1)+'_'+str(dim_n)] )\n",
    "\n",
    "            # Activation\n",
    "            if layer_type == 'ReLU':\n",
    "                x_km, flag, constraints = relu_split(model, layer_k, dim_m, \n",
    "                                          h_lb=hl[dim_m], h_ub=hu[dim_m], x_lb=xl[dim_m], x_ub=xu[dim_m], \n",
    "                                          h_km=h_km)\n",
    "        \n",
    "                if flag == 1:\n",
    "                    relu_bin['lin'] +=1\n",
    "                elif flag == 2:\n",
    "                    relu_bin['unstable'] +=1\n",
    "            else: #Affine case\n",
    "                x_km = h_km\n",
    "                relu_bin['aff']+=1\n",
    "     \n",
    "            varis['x_'+str(layer_k)+'_'+str(dim_m)] = x_km \n",
    "        \n",
    "            #TIGHTEN STEP (Only for layers btw 1 & final)\n",
    "            if layer_k > 1 and layer_k < nn.numlayer:  #For first layer (1) this would just return box. \n",
    "                out_ws = np.array(nn.weights[layer_k])[:,dim_m]\n",
    "                max_out_weight = max(abs(out_ws))\n",
    "                \n",
    "                new_lb, new_ub = tighten_bounds(model, x_km, flag, xl[dim_m], xu[dim_m], hl[dim_m], h_km, constraints,\n",
    "                                               abs_tol= layer_k/(5*max_out_weight*len(out_ws)) )\n",
    "            \n",
    "                assert new_lb >= xl[dim_m] - 1e-7\n",
    "                assert new_ub <= xu[dim_m] + 1e-7\n",
    "\n",
    "                #UPDATE Layer k\n",
    "                iobj.intervals['xl_'+str(layer_k)][dim_m] = new_lb\n",
    "                iobj.intervals['xu_'+str(layer_k)][dim_m] = new_ub\n",
    "    \n",
    "    #Final layer verification\n",
    "    could_still_work = True\n",
    "    if layer_k == (nn.numlayer):\n",
    "        corr_label = varis['x_'+str(layer_k)+'_'+str(label)]\n",
    "        \n",
    "        for out_digit in range(10):\n",
    "            if varis['x_'+str(layer_k)+'_'+str(out_digit)] is not corr_label:\n",
    "                incorr_label = varis['x_' + str(layer_k) + '_' + str(out_digit)]\n",
    "                \n",
    "                model.reset()\n",
    "                model.setObjective(corr_label - incorr_label, GRB.MINIMIZE)\n",
    "                model.optimize()\n",
    "                print(corr_label)\n",
    "                print(incorr_label)\n",
    "\n",
    "                if corr_label.X - incorr_label.X <= 0:\n",
    "                    could_still_work = False\n",
    "                    break\n",
    "    \n",
    "    return relu_bin, could_still_work"
   ]
  },
  {
   "cell_type": "code",
   "execution_count": 50,
   "metadata": {},
   "outputs": [],
   "source": [
    "def optimize_layer_l(layer_k, nn, iobj, model, varis, label): \n",
    "    '''Optimizes layer_k '''\n",
    "    # Inits\n",
    "    relu_bin = {'zero':0, 'lin':0, 'unstable':0, 'aff':0}\n",
    "    \n",
    "    # Get weights, biases & layertype from nn\n",
    "    layer_type = nn.layertypes[layer_k-1]\n",
    "    weights = np.array(nn.weights[layer_k-1])\n",
    "    biases = np.array(nn.biases[layer_k-1])\n",
    "    \n",
    "    # Input and output dimensions for the k-th layer\n",
    "    in_dim  = weights.shape[1]\n",
    "    out_dim = weights.shape[0]\n",
    "    \n",
    "    # Get interval bounds from intervall object to calculate slope and intercept\n",
    "    hl, hu = iobj.get_logit_bounds(layer_k-1)\n",
    "    xl, xu = iobj.get_bounds(layer_k)\n",
    "    assert hl.size == out_dim\n",
    "    assert xl.size == out_dim       # The x's are ReLU(h)\n",
    "    \n",
    "    for dim_m in range(out_dim):\n",
    "        ws = weights[dim_m,:]  #one row of weights\n",
    "        b  = biases[dim_m]\n",
    "        \n",
    "        if xu[dim_m] <= 0:\n",
    "            h_km = None\n",
    "            varis['x_'+str(layer_k)+'_'+str(dim_m)] = 0 \n",
    "            relu_bin['zero'] +=1\n",
    "            \n",
    "        else:    \n",
    "            # Perform affine transform:  x_kn --> h_km where n iterates over input and m over output dimension\n",
    "            h_km = LinExpr(b)\n",
    "            for dim_n in range(in_dim):\n",
    "                h_km.add( ws[dim_n] * varis['x_'+str(layer_k-1)+'_'+str(dim_n)] )\n",
    "\n",
    "            # Activation\n",
    "            if layer_type == 'ReLU':\n",
    "                x_km, flag, constraints = relu_split(model, layer_k, dim_m, \n",
    "                                          h_lb=hl[dim_m], h_ub=hu[dim_m], x_lb=xl[dim_m], x_ub=xu[dim_m], \n",
    "                                          h_km=h_km)\n",
    "        \n",
    "                if flag == 1:\n",
    "                    relu_bin['lin'] +=1\n",
    "                elif flag == 2:\n",
    "                    relu_bin['unstable'] +=1\n",
    "            else: #Affine case\n",
    "                x_km = h_km\n",
    "                relu_bin['aff']+=1\n",
    "     \n",
    "            varis['x_'+str(layer_k)+'_'+str(dim_m)] = x_km \n",
    "        \n",
    "            #TIGHTEN STEP (Only for layers btw 1 & final)\n",
    "            if layer_k > 1 and layer_k < nn.numlayer:  #For first layer (1) this would just return box. \n",
    "                out_ws = np.array(nn.weights[layer_k])[:,dim_m]\n",
    "                max_out_weight = max(abs(out_ws))\n",
    "                \n",
    "                new_lb, new_ub = tighten_bounds(model, x_km, flag, xl[dim_m], xu[dim_m], hl[dim_m], h_km, constraints,\n",
    "                                               abs_tol= layer_k**3/(100*max_out_weight*len(out_ws)) )\n",
    "            \n",
    "                assert new_lb >= xl[dim_m] - 1e-7\n",
    "                assert new_ub <= xu[dim_m] + 1e-7\n",
    "\n",
    "                #UPDATE Layer k\n",
    "                iobj.intervals['xl_'+str(layer_k)][dim_m] = new_lb\n",
    "                iobj.intervals['xu_'+str(layer_k)][dim_m] = new_ub\n",
    "    \n",
    "    #Final layer verification\n",
    "    could_still_work = True\n",
    "    if layer_k == (nn.numlayer):\n",
    "        corr_label = varis['x_'+str(layer_k)+'_'+str(label)]\n",
    "        \n",
    "        for out_digit in range(10):\n",
    "            if varis['x_'+str(layer_k)+'_'+str(out_digit)] is not corr_label:\n",
    "                incorr_label = varis['x_' + str(layer_k) + '_' + str(out_digit)]\n",
    "                \n",
    "                model.reset()\n",
    "                model.setObjective(corr_label - incorr_label, GRB.MINIMIZE)\n",
    "                model.optimize()\n",
    "                print(corr_label)\n",
    "                print(incorr_label)\n",
    "\n",
    "                if corr_label.X - incorr_label.X <= 0:\n",
    "                    could_still_work = False\n",
    "                    break\n",
    "    \n",
    "    return relu_bin, could_still_work"
   ]
  },
  {
   "cell_type": "code",
   "execution_count": 234,
   "metadata": {},
   "outputs": [],
   "source": [
    "def analyze_v1(netname, epsilon, specname, iobj= None):\n",
    "    verified = False\n",
    "    #Import and parse the net\n",
    "    with open(netname, 'r') as netfile:\n",
    "        netstring = netfile.read()\n",
    "    with open(specname, 'r') as specfile:\n",
    "        specstring = specfile.read()\n",
    "    nn = parse_net(netstring)\n",
    "    x0_low, x0_high = parse_spec(specstring)\n",
    "    LB_N0, UB_N0 = get_perturbed_image(x0_low,0)\n",
    "    label, _ = analyze(nn,LB_N0,UB_N0,0)\n",
    "    LB_N0, UB_N0 = get_perturbed_image(x0_low,epsilon)\n",
    "    assert(LB_N0.shape == UB_N0.shape)\n",
    "    \n",
    "    #Set up variable, expression dictionarys & relu case counter\n",
    "    varis = {}\n",
    "    relu_bins = {}\n",
    "\n",
    "    #First box pass\n",
    "    if iobj is None:\n",
    "        iobj = interval_object(LB_N0, UB_N0)\n",
    "        iobj.fit(nn)\n",
    "    if prove(*iobj.get_bounds(layer_k=nn.numlayer),label)[1]: return True, iobj, relu_bins, 0, label\n",
    "    \n",
    "    #set up gurobi model\n",
    "    model = Model(\"net\")\n",
    "    model.setParam('OutputFlag', False)\n",
    "\n",
    "    # Set up initial input variables & ranges for input image\n",
    "    for dim_n in range(len(LB_N0)):\n",
    "        x_0n  = model.addVar(LB_N0[dim_n], UB_N0[dim_n], name=\"x_0_\"+str(dim_n))\n",
    "        # Add the input variables to variable dict for later access under name x_0_n\n",
    "        varis['x_0_'+str(dim_n)] = x_0n\n",
    "        \n",
    "    # Add 1st layer to model\n",
    "    relu_bins[1], flag = optimize_layer_l(1, nn, iobj, model, varis, label)\n",
    "    \n",
    "    for layer_k in range(2, nn.numlayer):\n",
    "        #print('--', layer_k, '--')\n",
    "        #print_lower_upper(iobj.get_bounds(layer_k)[0][:10],iobj.get_bounds(layer_k)[1][:10])\n",
    "        #print('------------')\n",
    "        \n",
    "        relu_bins[layer_k], flag = optimize_layer_l(layer_k, nn, iobj, model, varis, label)\n",
    "        iobj.fit(nn,layer_k)\n",
    "        if prove(*iobj.get_bounds(layer_k=nn.numlayer),label)[1]: return True, iobj, relu_bins, layer_k, label\n",
    "        \n",
    "        #print('--', layer_k, ' finished--')\n",
    "        #print_lower_upper(iobj.get_bounds(layer_k)[0][:10],iobj.get_bounds(layer_k)[1][:10])\n",
    "        #print('------------')\n",
    "        #print_lower_upper(*iobj.get_bounds(nn.numlayer))\n",
    "    \n",
    "    relu_bins[nn.numlayer], flag = optimize_layer_l(nn.numlayer, nn, iobj, model, varis, label)\n",
    "    return flag, iobj, relu_bins, layer_k, label\n",
    "    "
   ]
  },
  {
   "cell_type": "code",
   "execution_count": 52,
   "metadata": {},
   "outputs": [],
   "source": [
    "netname = 'mnist_nets/mnist_relu_6_100.txt'\n",
    "epsilon = 0.01\n",
    "specname = 'mnist_images/img0.txt'"
   ]
  },
  {
   "cell_type": "code",
   "execution_count": 53,
   "metadata": {
    "scrolled": true
   },
   "outputs": [
    {
     "name": "stdout",
     "output_type": "stream",
     "text": [
      "-- 2 --\n",
      "[0.00,\t 0.00]\n",
      "[0.00,\t 0.81]\n",
      "[0.00,\t 1.09]\n",
      "[0.00,\t 0.17]\n",
      "[2.43,\t 4.61]\n",
      "[0.00,\t 0.00]\n",
      "[0.00,\t 1.05]\n",
      "[0.00,\t 1.22]\n",
      "[2.39,\t 4.56]\n",
      "[0.00,\t 0.00]\n",
      "------------\n",
      "removed\n",
      "removed\n",
      "-- 2  finished--\n",
      "[0.00,\t 0.00]\n",
      "[0.00,\t 0.32]\n",
      "[0.00,\t 0.55]\n",
      "[0.00,\t 0.01]\n",
      "[3.16,\t 3.89]\n",
      "[0.00,\t 0.00]\n",
      "[0.00,\t 0.45]\n",
      "[0.18,\t 0.73]\n",
      "[3.12,\t 3.81]\n",
      "[0.00,\t 0.00]\n",
      "------------\n",
      "[0.00,\t 45.82]\n",
      "[0.00,\t 61.42]\n",
      "[0.00,\t 61.27]\n",
      "[0.00,\t 54.55]\n",
      "[0.00,\t 55.98]\n",
      "[0.00,\t 53.50]\n",
      "[0.00,\t 42.37]\n",
      "[0.00,\t 66.55]\n",
      "[0.00,\t 53.07]\n",
      "[0.00,\t 71.22]\n",
      "-- 3 --\n",
      "[0.00,\t 1.35]\n",
      "[0.00,\t 0.60]\n",
      "[0.00,\t 0.00]\n",
      "[0.00,\t 0.00]\n",
      "[0.00,\t 0.28]\n",
      "[0.00,\t 0.45]\n",
      "[0.00,\t 0.45]\n",
      "[0.00,\t 0.00]\n",
      "[0.00,\t 1.31]\n",
      "[0.00,\t 0.02]\n",
      "------------\n",
      "-- 3  finished--\n",
      "[0.28,\t 0.87]\n",
      "[0.00,\t 0.14]\n",
      "[0.00,\t 0.00]\n",
      "[0.00,\t 0.00]\n",
      "[0.00,\t 0.04]\n",
      "[0.00,\t 0.09]\n",
      "[0.00,\t 0.07]\n",
      "[0.00,\t 0.00]\n",
      "[0.11,\t 0.76]\n",
      "[0.00,\t 0.01]\n",
      "------------\n",
      "[0.00,\t 12.24]\n",
      "[0.00,\t 17.95]\n",
      "[0.00,\t 16.77]\n",
      "[0.00,\t 16.74]\n",
      "[0.00,\t 15.39]\n",
      "[0.00,\t 14.46]\n",
      "[0.00,\t 9.55]\n",
      "[0.00,\t 30.12]\n",
      "[0.00,\t 12.69]\n",
      "[0.00,\t 22.20]\n",
      "-- 4 --\n",
      "[0.00,\t 0.00]\n",
      "[0.00,\t 0.00]\n",
      "[0.00,\t 1.53]\n",
      "[0.00,\t 1.23]\n",
      "[0.00,\t 0.00]\n",
      "[0.00,\t 0.00]\n",
      "[0.00,\t 0.00]\n",
      "[0.00,\t 0.00]\n",
      "[0.00,\t 0.60]\n",
      "[0.00,\t 0.73]\n",
      "------------\n",
      "removed\n",
      "-- 4  finished--\n",
      "[0.00,\t 0.00]\n",
      "[0.00,\t 0.00]\n",
      "[0.47,\t 1.02]\n",
      "[0.00,\t 0.58]\n",
      "[0.00,\t 0.00]\n",
      "[0.00,\t 0.00]\n",
      "[0.00,\t 0.00]\n",
      "[0.00,\t 0.00]\n",
      "[0.00,\t 0.16]\n",
      "[0.00,\t 0.22]\n",
      "------------\n",
      "[0.00,\t 2.54]\n",
      "[0.00,\t 5.58]\n",
      "[0.00,\t 5.82]\n",
      "[0.00,\t 6.78]\n",
      "[0.00,\t 4.56]\n",
      "[0.00,\t 3.19]\n",
      "[0.00,\t 0.00]\n",
      "[5.83,\t 19.97]\n",
      "[0.00,\t 1.71]\n",
      "[0.00,\t 10.27]\n",
      "-- 5 --\n",
      "[0.00,\t 1.87]\n",
      "[0.00,\t 0.38]\n",
      "[0.00,\t 0.13]\n",
      "[0.00,\t 1.90]\n",
      "[0.00,\t 0.00]\n",
      "[0.00,\t 0.00]\n",
      "[2.10,\t 4.78]\n",
      "[0.14,\t 2.39]\n",
      "[0.00,\t 1.16]\n",
      "[0.00,\t 0.68]\n",
      "------------\n",
      "True 7 5\n",
      "{1: {'zero': 63, 'lin': 20, 'unstable': 17, 'aff': 0}, 2: {'zero': 41, 'lin': 19, 'unstable': 40, 'aff': 0}, 3: {'zero': 42, 'lin': 20, 'unstable': 38, 'aff': 0}, 4: {'zero': 32, 'lin': 22, 'unstable': 46, 'aff': 0}, 5: {'zero': 35, 'lin': 18, 'unstable': 47, 'aff': 0}}\n",
      "CPU times: user 32.1 s, sys: 46.6 ms, total: 32.2 s\n",
      "Wall time: 38.1 s\n"
     ]
    }
   ],
   "source": [
    "%%time\n",
    "verf, iobj, relu_bins, layer_k, label = analyze_v1(netname, epsilon, specname)\n",
    "print(verf, label, layer_k)\n",
    "print(relu_bins)"
   ]
  },
  {
   "cell_type": "code",
   "execution_count": 54,
   "metadata": {},
   "outputs": [],
   "source": [
    "netname = 'mnist_nets/mnist_relu_6_100.txt'\n",
    "epsilon = 0.01\n",
    "specname = 'mnist_images/img1.txt'"
   ]
  },
  {
   "cell_type": "code",
   "execution_count": 55,
   "metadata": {
    "collapsed": true
   },
   "outputs": [
    {
     "name": "stdout",
     "output_type": "stream",
     "text": [
      "-- 2 --\n",
      "[0.00,\t 0.90]\n",
      "[0.00,\t 1.55]\n",
      "[0.00,\t 0.62]\n",
      "[2.00,\t 5.00]\n",
      "[0.00,\t 0.14]\n",
      "[0.00,\t 0.00]\n",
      "[0.00,\t 1.05]\n",
      "[0.00,\t 0.00]\n",
      "[0.00,\t 0.00]\n",
      "[0.00,\t 0.59]\n",
      "------------\n",
      "-- 2  finished--\n",
      "[0.00,\t 0.13]\n",
      "[0.42,\t 0.87]\n",
      "[0.00,\t 0.02]\n",
      "[3.10,\t 3.91]\n",
      "[0.00,\t 0.01]\n",
      "[0.00,\t 0.00]\n",
      "[0.00,\t 0.33]\n",
      "[0.00,\t 0.00]\n",
      "[0.00,\t 0.00]\n",
      "[0.00,\t 0.12]\n",
      "------------\n",
      "[0.00,\t 34.16]\n",
      "[0.00,\t 42.36]\n",
      "[0.00,\t 52.66]\n",
      "[0.00,\t 35.45]\n",
      "[0.00,\t 37.96]\n",
      "[0.00,\t 32.29]\n",
      "[0.00,\t 31.68]\n",
      "[0.00,\t 36.76]\n",
      "[0.00,\t 37.58]\n",
      "[0.00,\t 41.73]\n",
      "-- 3 --\n",
      "[1.11,\t 2.75]\n",
      "[0.00,\t 0.24]\n",
      "[0.27,\t 1.73]\n",
      "[0.00,\t 0.34]\n",
      "[0.00,\t 0.00]\n",
      "[0.00,\t 0.00]\n",
      "[0.47,\t 1.70]\n",
      "[0.00,\t 0.34]\n",
      "[0.00,\t 0.08]\n",
      "[0.00,\t 0.00]\n",
      "------------\n",
      "-- 3  finished--\n",
      "[1.55,\t 2.34]\n",
      "[0.00,\t 0.04]\n",
      "[0.63,\t 1.38]\n",
      "[0.00,\t 0.04]\n",
      "[0.00,\t 0.00]\n",
      "[0.00,\t 0.00]\n",
      "[0.85,\t 1.38]\n",
      "[0.00,\t 0.06]\n",
      "[0.00,\t 0.02]\n",
      "[0.00,\t 0.00]\n",
      "------------\n",
      "[0.00,\t 15.21]\n",
      "[0.00,\t 19.16]\n",
      "[0.00,\t 29.74]\n",
      "[0.00,\t 15.81]\n",
      "[0.00,\t 16.31]\n",
      "[0.00,\t 11.99]\n",
      "[0.00,\t 13.82]\n",
      "[0.00,\t 16.76]\n",
      "[0.00,\t 16.53]\n",
      "[0.00,\t 16.11]\n",
      "-- 4 --\n",
      "[0.00,\t 0.00]\n",
      "[0.00,\t 0.00]\n",
      "[0.00,\t 1.08]\n",
      "[0.00,\t 0.00]\n",
      "[0.00,\t 1.61]\n",
      "[0.00,\t 0.03]\n",
      "[0.00,\t 0.00]\n",
      "[0.00,\t 1.01]\n",
      "[1.64,\t 3.60]\n",
      "[0.00,\t 0.98]\n",
      "------------\n",
      "removed\n",
      "-- 4  finished--\n",
      "[0.00,\t 0.00]\n",
      "[0.00,\t 0.00]\n",
      "[0.08,\t 0.75]\n",
      "[0.00,\t 0.00]\n",
      "[0.36,\t 1.00]\n",
      "[0.00,\t 0.02]\n",
      "[0.00,\t 0.00]\n",
      "[0.00,\t 0.39]\n",
      "[2.17,\t 3.07]\n",
      "[0.00,\t 0.43]\n",
      "------------\n",
      "[0.00,\t 5.18]\n",
      "[0.00,\t 8.91]\n",
      "[3.07,\t 17.85]\n",
      "[0.00,\t 6.88]\n",
      "[0.00,\t 5.36]\n",
      "[0.00,\t 2.23]\n",
      "[0.00,\t 4.44]\n",
      "[0.00,\t 6.85]\n",
      "[0.00,\t 6.03]\n",
      "[0.00,\t 2.48]\n",
      "-- 5 --\n",
      "[0.16,\t 2.51]\n",
      "[2.29,\t 5.27]\n",
      "[0.00,\t 2.49]\n",
      "[0.00,\t 1.05]\n",
      "[0.00,\t 2.07]\n",
      "[0.00,\t 0.29]\n",
      "[0.00,\t 2.18]\n",
      "[0.00,\t 0.12]\n",
      "[1.63,\t 4.11]\n",
      "[0.00,\t 1.24]\n",
      "------------\n",
      "True 2 5\n",
      "{1: {'zero': 62, 'lin': 28, 'unstable': 10, 'aff': 0}, 2: {'zero': 38, 'lin': 9, 'unstable': 53, 'aff': 0}, 3: {'zero': 46, 'lin': 18, 'unstable': 36, 'aff': 0}, 4: {'zero': 33, 'lin': 14, 'unstable': 53, 'aff': 0}, 5: {'zero': 30, 'lin': 19, 'unstable': 51, 'aff': 0}}\n",
      "CPU times: user 36.7 s, sys: 32 ms, total: 36.8 s\n",
      "Wall time: 39.5 s\n"
     ]
    }
   ],
   "source": [
    "%%time\n",
    "verf, iobj, relu_bins, layer_k, label = analyze_v1(netname, epsilon, specname)\n",
    "print(verf, label, layer_k)\n",
    "print(relu_bins)"
   ]
  },
  {
   "cell_type": "code",
   "execution_count": 71,
   "metadata": {
    "collapsed": true
   },
   "outputs": [
    {
     "name": "stdout",
     "output_type": "stream",
     "text": [
      "-0.00544221606105566 -0.005788016326248743 0.09326434988751836 -0.5608681440353394 0.4213498532772064 156800\n"
     ]
    },
    {
     "data": {
      "image/png": "[encoded data removed]",
      "text/plain": [
       "<Figure size 432x288 with 1 Axes>"
      ]
     },
     "metadata": {
      "needs_background": "light"
     },
     "output_type": "display_data"
    },
    {
     "data": {
      "image/png": "[encoded data removed]",
      "text/plain": [
       "<Figure size 432x288 with 1 Axes>"
      ]
     },
     "metadata": {
      "needs_background": "light"
     },
     "output_type": "display_data"
    },
    {
     "name": "stdout",
     "output_type": "stream",
     "text": [
      "-0.01125606894493103 -0.010591013854445646 0.09559338451280304 -0.43290892243385315 0.39614108204841614 40000\n"
     ]
    },
    {
     "data": {
      "image/png": "[encoded data removed]",
      "text/plain": [
       "<Figure size 432x288 with 1 Axes>"
      ]
     },
     "metadata": {
      "needs_background": "light"
     },
     "output_type": "display_data"
    },
    {
     "data": {
      "image/png": "[encoded data removed]",
      "text/plain": [
       "<Figure size 432x288 with 1 Axes>"
      ]
     },
     "metadata": {
      "needs_background": "light"
     },
     "output_type": "display_data"
    },
    {
     "name": "stdout",
     "output_type": "stream",
     "text": [
      "-0.009291781578212976 -0.009103562288500382 0.09272670544488557 -0.3566272258758545 0.3422996997833252 40000\n"
     ]
    },
    {
     "data": {
      "image/png": "[encoded data removed]",
      "text/plain": [
       "<Figure size 432x288 with 1 Axes>"
      ]
     },
     "metadata": {
      "needs_background": "light"
     },
     "output_type": "display_data"
    },
    {
     "data": {
      "image/png": "[encoded data removed]",
      "text/plain": [
       "<Figure size 432x288 with 1 Axes>"
      ]
     },
     "metadata": {
      "needs_background": "light"
     },
     "output_type": "display_data"
    },
    {
     "name": "stdout",
     "output_type": "stream",
     "text": [
      "-0.009387338068336248 -0.009099776713227948 0.0918386088039359 -0.38987523317337036 0.3740573525428772 40000\n"
     ]
    },
    {
     "data": {
      "image/png": "[encoded data removed]",
      "text/plain": [
       "<Figure size 432x288 with 1 Axes>"
      ]
     },
     "metadata": {
      "needs_background": "light"
     },
     "output_type": "display_data"
    },
    {
     "data": {
      "image/png": "[encoded data removed]",
      "text/plain": [
       "<Figure size 432x288 with 1 Axes>"
      ]
     },
     "metadata": {
      "needs_background": "light"
     },
     "output_type": "display_data"
    },
    {
     "name": "stdout",
     "output_type": "stream",
     "text": [
      "-0.011041231919080019 -0.010434791431998429 0.09146548290431747 -0.4013541638851166 0.32380029559135437 40000\n"
     ]
    },
    {
     "data": {
      "image/png": "[encoded data removed]",
      "text/plain": [
       "<Figure size 432x288 with 1 Axes>"
      ]
     },
     "metadata": {
      "needs_background": "light"
     },
     "output_type": "display_data"
    },
    {
     "data": {
      "image/png": "[encoded data removed]",
      "text/plain": [
       "<Figure size 432x288 with 1 Axes>"
      ]
     },
     "metadata": {
      "needs_background": "light"
     },
     "output_type": "display_data"
    },
    {
     "name": "stdout",
     "output_type": "stream",
     "text": [
      "0.006929047405719757 0.0007412606873112963 0.1640711646865004 -1.093326449394226 0.6608792543411255 2000\n"
     ]
    },
    {
     "data": {
      "image/png": "[encoded data removed]",
      "text/plain": [
       "<Figure size 432x288 with 1 Axes>"
      ]
     },
     "metadata": {
      "needs_background": "light"
     },
     "output_type": "display_data"
    },
    {
     "data": {
      "image/png": "[encoded data removed]",
      "text/plain": [
       "<Figure size 432x288 with 1 Axes>"
      ]
     },
     "metadata": {
      "needs_background": "light"
     },
     "output_type": "display_data"
    }
   ],
   "source": [
    "netname = 'mnist_nets/mnist_relu_6_200.txt'\n",
    "epsilon = 0.01\n",
    "specname = 'mnist_images/img0.txt'\n",
    "#Import and parse the net\n",
    "with open(netname, 'r') as netfile:\n",
    "    netstring = netfile.read()\n",
    "with open(specname, 'r') as specfile:\n",
    "    specstring = specfile.read()\n",
    "nn = parse_net(netstring)\n",
    "\n",
    "for W, b in zip(nn.weights, nn.biases):\n",
    "    print(np.median(W), W.mean(), W.std(), W.min(), W.max(), np.count_nonzero(W))\n",
    "    plt.hist(W.flatten(),bins=50)\n",
    "    plt.show()\n",
    "    plt.hist(b.flatten(),bins=50, color='red')\n",
    "    plt.show()"
   ]
  },
  {
   "cell_type": "code",
   "execution_count": 69,
   "metadata": {
    "collapsed": true
   },
   "outputs": [
    {
     "name": "stdout",
     "output_type": "stream",
     "text": [
      "0.00018248341802975 0.00021846480525809529 0.0375373690653271 -0.2254219502210617 0.3039573431015015 802816\n"
     ]
    },
    {
     "data": {
      "image/png": "[encoded data removed]",
      "text/plain": [
       "<Figure size 432x288 with 1 Axes>"
      ]
     },
     "metadata": {
      "needs_background": "light"
     },
     "output_type": "display_data"
    },
    {
     "data": {
      "image/png": "[encoded data removed]",
      "text/plain": [
       "<Figure size 432x288 with 1 Axes>"
      ]
     },
     "metadata": {
      "needs_background": "light"
     },
     "output_type": "display_data"
    },
    {
     "name": "stdout",
     "output_type": "stream",
     "text": [
      "-0.00024071825464484997 -0.0001581227705596767 0.03299422682481596 -0.1277927160263062 0.1298308819532394 1048576\n"
     ]
    },
    {
     "data": {
      "image/png": "[encoded data removed]",
      "text/plain": [
       "<Figure size 432x288 with 1 Axes>"
      ]
     },
     "metadata": {
      "needs_background": "light"
     },
     "output_type": "display_data"
    },
    {
     "data": {
      "image/png": "[encoded data removed]",
      "text/plain": [
       "<Figure size 432x288 with 1 Axes>"
      ]
     },
     "metadata": {
      "needs_background": "light"
     },
     "output_type": "display_data"
    },
    {
     "name": "stdout",
     "output_type": "stream",
     "text": [
      "0.000456664187368 0.000490159545962561 0.032463972742364074 -0.1108156070113182 0.1191372200846672 1048576\n"
     ]
    },
    {
     "data": {
      "image/png": "[encoded data removed]",
      "text/plain": [
       "<Figure size 432x288 with 1 Axes>"
      ]
     },
     "metadata": {
      "needs_background": "light"
     },
     "output_type": "display_data"
    },
    {
     "data": {
      "image/png": "[encoded data removed]",
      "text/plain": [
       "<Figure size 432x288 with 1 Axes>"
      ]
     },
     "metadata": {
      "needs_background": "light"
     },
     "output_type": "display_data"
    },
    {
     "name": "stdout",
     "output_type": "stream",
     "text": [
      "-0.00402022898197175 -5.185075959399719e-05 0.08980637853935786 -0.3177864849567413 0.3131057918071747 10240\n"
     ]
    },
    {
     "data": {
      "image/png": "[encoded data removed]",
      "text/plain": [
       "<Figure size 432x288 with 1 Axes>"
      ]
     },
     "metadata": {
      "needs_background": "light"
     },
     "output_type": "display_data"
    },
    {
     "data": {
      "image/png": "[encoded data removed]",
      "text/plain": [
       "<Figure size 432x288 with 1 Axes>"
      ]
     },
     "metadata": {
      "needs_background": "light"
     },
     "output_type": "display_data"
    }
   ],
   "source": [
    "netname = 'mnist_nets/mnist_relu_4_1024.txt'\n",
    "epsilon = 0.01\n",
    "specname = 'mnist_images/img0.txt'\n",
    "#Import and parse the net\n",
    "with open(netname, 'r') as netfile:\n",
    "    netstring = netfile.read()\n",
    "with open(specname, 'r') as specfile:\n",
    "    specstring = specfile.read()\n",
    "nn = parse_net(netstring)\n",
    "\n",
    "for W, b in zip(nn.weights, nn.biases):\n",
    "    print(np.median(W), W.mean(), W.std(), W.min(), W.max(), np.count_nonzero(W))\n",
    "    plt.hist(W.flatten(),bins=50)\n",
    "    plt.show()\n",
    "    plt.hist(b.flatten(),bins=50, color='red')\n",
    "    plt.show()"
   ]
  },
  {
   "cell_type": "code",
   "execution_count": 11,
   "metadata": {},
   "outputs": [],
   "source": [
    "netname = 'mnist_nets/mnist_relu_6_100.txt'\n",
    "epsilon = 0.01\n",
    "specname = 'mnist_images/img0.txt'"
   ]
  },
  {
   "cell_type": "code",
   "execution_count": 56,
   "metadata": {},
   "outputs": [],
   "source": [
    "netname = 'mnist_nets/mnist_relu_3_20.txt'\n",
    "epsilon = 0.01\n",
    "specname = 'mnist_images/img1.txt'"
   ]
  },
  {
   "cell_type": "code",
   "execution_count": 66,
   "metadata": {},
   "outputs": [],
   "source": [
    "def load_problem(netname, epsilon, specname):\n",
    "    #Import and parse the net\n",
    "    with open(netname, 'r') as netfile:\n",
    "        netstring = netfile.read()\n",
    "    with open(specname, 'r') as specfile:\n",
    "        specstring = specfile.read()\n",
    "    nn = parse_net(netstring)\n",
    "    x0_low, x0_high = parse_spec(specstring)\n",
    "    LB_N0, UB_N0 = get_perturbed_image(x0_low,0)\n",
    "    label, _ = analyze(nn,LB_N0,UB_N0,0)\n",
    "    LB_N0, UB_N0 = get_perturbed_image(x0_low,epsilon)\n",
    "    assert(LB_N0.shape == UB_N0.shape)\n",
    "    return nn, LB_N0, UB_N0, label\n",
    "\n",
    "def initialize_box(nn, LB_N0, UB_N0, label):\n",
    "    iobj = interval_object(LB_N0, UB_N0)\n",
    "    iobj.fit(nn)\n",
    "    return iobj"
   ]
  },
  {
   "cell_type": "code",
   "execution_count": 278,
   "metadata": {},
   "outputs": [],
   "source": [
    "def analyze_v2(netname, epsilon, specname, iobj=None):\n",
    "    verified = False\n",
    "    nn, LB_N0, UB_N0, label = load_problem(netname, epsilon, specname)\n",
    "\n",
    "    varis = {}\n",
    "    keepers_all = {}\n",
    "\n",
    "    if iobj is None:\n",
    "        iobj = initialize_box(nn, LB_N0, UB_N0, label)\n",
    "        if prove(*iobj.get_bounds(layer_k=nn.numlayer),label)[1]: return True, iobj, 0, label\n",
    "\n",
    "    #set up gurobi model\n",
    "    model = Model(\"net\")\n",
    "    model.setParam('OutputFlag', False)\n",
    "\n",
    "    #add layer 0\n",
    "    for dim_n in range(len(LB_N0)):\n",
    "        x_0n  = model.addVar(LB_N0[dim_n], UB_N0[dim_n], name=\"x_0_\"+str(dim_n))\n",
    "        # Add the input variables to variable dict for later access under name x_0_n\n",
    "        varis['x_0_'+str(dim_n)] = x_0n\n",
    "\n",
    "    #add layer 1:\n",
    "    add_layer(1, nn, iobj, varis, keepers_all, keep_perc = 0)\n",
    "\n",
    "    #add layer 2:\n",
    "    for layer_k in range(2,nn.numlayer):\n",
    "        add_layer(layer_k, nn, iobj, varis, keepers_all, with_opt=True, keep_perc=0)\n",
    "        iobj.fit(nn,layer_k)\n",
    "        if prove(*iobj.get_bounds(layer_k=nn.numlayer),label)[1]: return True, iobj, layer_k, label\n",
    "        #add_layer(layer_k, nn, iobj, varis, keepers_all, with_opt=True, keep_perc=0.5)\n",
    "        #iobj.fit(nn,layer_k)\n",
    "        #if prove(*iobj.get_bounds(layer_k=nn.numlayer),label)[1]: return True, iobj, layer_k, label"
   ]
  },
  {
   "cell_type": "code",
   "execution_count": 279,
   "metadata": {},
   "outputs": [],
   "source": [
    "netname = 'mnist_nets/mnist_relu_6_50.txt'\n",
    "epsilon = 0.01\n",
    "specname = 'mnist_images/img1.txt'"
   ]
  },
  {
   "cell_type": "code",
   "execution_count": 280,
   "metadata": {},
   "outputs": [
    {
     "name": "stdout",
     "output_type": "stream",
     "text": [
      "Fraction kept: 1.0\n",
      "Fraction kept: 1.0\n"
     ]
    },
    {
     "ename": "AttributeError",
     "evalue": "b\"Unable to retrieve attribute 'X'\"",
     "output_type": "error",
     "traceback": [
      "\u001b[0;31m---------------------------------------------------------------------------\u001b[0m",
      "\u001b[0;31mAttributeError\u001b[0m                            Traceback (most recent call last)",
      "\u001b[0;32m<timed eval>\u001b[0m in \u001b[0;36m<module>\u001b[0;34m\u001b[0m\n",
      "\u001b[0;32m<ipython-input-278-500410b47dac>\u001b[0m in \u001b[0;36manalyze_v2\u001b[0;34m(netname, epsilon, specname, iobj)\u001b[0m\n\u001b[1;32m     25\u001b[0m     \u001b[0;31m#add layer 2:\u001b[0m\u001b[0;34m\u001b[0m\u001b[0;34m\u001b[0m\u001b[0;34m\u001b[0m\u001b[0m\n\u001b[1;32m     26\u001b[0m     \u001b[0;32mfor\u001b[0m \u001b[0mlayer_k\u001b[0m \u001b[0;32min\u001b[0m \u001b[0mrange\u001b[0m\u001b[0;34m(\u001b[0m\u001b[0;36m2\u001b[0m\u001b[0;34m,\u001b[0m\u001b[0mnn\u001b[0m\u001b[0;34m.\u001b[0m\u001b[0mnumlayer\u001b[0m\u001b[0;34m)\u001b[0m\u001b[0;34m:\u001b[0m\u001b[0;34m\u001b[0m\u001b[0;34m\u001b[0m\u001b[0m\n\u001b[0;32m---> 27\u001b[0;31m         \u001b[0madd_layer\u001b[0m\u001b[0;34m(\u001b[0m\u001b[0mlayer_k\u001b[0m\u001b[0;34m,\u001b[0m \u001b[0mnn\u001b[0m\u001b[0;34m,\u001b[0m \u001b[0miobj\u001b[0m\u001b[0;34m,\u001b[0m \u001b[0mvaris\u001b[0m\u001b[0;34m,\u001b[0m \u001b[0mkeepers_all\u001b[0m\u001b[0;34m,\u001b[0m \u001b[0mwith_opt\u001b[0m\u001b[0;34m=\u001b[0m\u001b[0;32mTrue\u001b[0m\u001b[0;34m,\u001b[0m \u001b[0mkeep_perc\u001b[0m\u001b[0;34m=\u001b[0m\u001b[0;36m0\u001b[0m\u001b[0;34m)\u001b[0m\u001b[0;34m\u001b[0m\u001b[0;34m\u001b[0m\u001b[0m\n\u001b[0m\u001b[1;32m     28\u001b[0m         \u001b[0miobj\u001b[0m\u001b[0;34m.\u001b[0m\u001b[0mfit\u001b[0m\u001b[0;34m(\u001b[0m\u001b[0mnn\u001b[0m\u001b[0;34m,\u001b[0m\u001b[0mlayer_k\u001b[0m\u001b[0;34m)\u001b[0m\u001b[0;34m\u001b[0m\u001b[0;34m\u001b[0m\u001b[0m\n\u001b[1;32m     29\u001b[0m         \u001b[0;32mif\u001b[0m \u001b[0mprove\u001b[0m\u001b[0;34m(\u001b[0m\u001b[0;34m*\u001b[0m\u001b[0miobj\u001b[0m\u001b[0;34m.\u001b[0m\u001b[0mget_bounds\u001b[0m\u001b[0;34m(\u001b[0m\u001b[0mlayer_k\u001b[0m\u001b[0;34m=\u001b[0m\u001b[0mnn\u001b[0m\u001b[0;34m.\u001b[0m\u001b[0mnumlayer\u001b[0m\u001b[0;34m)\u001b[0m\u001b[0;34m,\u001b[0m\u001b[0mlabel\u001b[0m\u001b[0;34m)\u001b[0m\u001b[0;34m[\u001b[0m\u001b[0;36m1\u001b[0m\u001b[0;34m]\u001b[0m\u001b[0;34m:\u001b[0m \u001b[0;32mreturn\u001b[0m \u001b[0;32mTrue\u001b[0m\u001b[0;34m,\u001b[0m \u001b[0miobj\u001b[0m\u001b[0;34m,\u001b[0m \u001b[0mlayer_k\u001b[0m\u001b[0;34m,\u001b[0m \u001b[0mlabel\u001b[0m\u001b[0;34m\u001b[0m\u001b[0;34m\u001b[0m\u001b[0m\n",
      "\u001b[0;32m<ipython-input-264-9dcb4fd350bf>\u001b[0m in \u001b[0;36madd_layer\u001b[0;34m(layer_k, nn, iobj, varis, keepers_all, with_opt, keep_perc)\u001b[0m\n\u001b[1;32m     39\u001b[0m \u001b[0;34m\u001b[0m\u001b[0m\n\u001b[1;32m     40\u001b[0m                 new_lb, new_ub = tighten_bounds(model, x_km, flag, xl[dim_m], xu[dim_m], hl[dim_m], h_km, constraints,\n\u001b[0;32m---> 41\u001b[0;31m                                                abs_tol= layer_k**3/(100*max_out_weight*len(keepers)) )\n\u001b[0m\u001b[1;32m     42\u001b[0m \u001b[0;34m\u001b[0m\u001b[0m\n\u001b[1;32m     43\u001b[0m                 \u001b[0;32massert\u001b[0m \u001b[0mnew_lb\u001b[0m \u001b[0;34m>=\u001b[0m \u001b[0mxl\u001b[0m\u001b[0;34m[\u001b[0m\u001b[0mdim_m\u001b[0m\u001b[0;34m]\u001b[0m \u001b[0;34m-\u001b[0m \u001b[0;36m1e-7\u001b[0m\u001b[0;34m\u001b[0m\u001b[0;34m\u001b[0m\u001b[0m\n",
      "\u001b[0;32m<ipython-input-25-ac6ff401c3bd>\u001b[0m in \u001b[0;36mtighten_bounds\u001b[0;34m(model, x_km, flag, xl_old, xu_old, h_lb, h_km, constraints, abs_tol, rel_tol)\u001b[0m\n\u001b[1;32m     20\u001b[0m         \u001b[0mmodel\u001b[0m\u001b[0;34m.\u001b[0m\u001b[0msetObjective\u001b[0m\u001b[0;34m(\u001b[0m\u001b[0mx_km\u001b[0m\u001b[0;34m,\u001b[0m \u001b[0mGRB\u001b[0m\u001b[0;34m.\u001b[0m\u001b[0mMAXIMIZE\u001b[0m\u001b[0;34m)\u001b[0m\u001b[0;34m\u001b[0m\u001b[0;34m\u001b[0m\u001b[0m\n\u001b[1;32m     21\u001b[0m         \u001b[0mmodel\u001b[0m\u001b[0;34m.\u001b[0m\u001b[0moptimize\u001b[0m\u001b[0;34m(\u001b[0m\u001b[0;34m)\u001b[0m\u001b[0;34m\u001b[0m\u001b[0;34m\u001b[0m\u001b[0m\n\u001b[0;32m---> 22\u001b[0;31m         \u001b[0mx_ub\u001b[0m \u001b[0;34m=\u001b[0m \u001b[0mx_km\u001b[0m\u001b[0;34m.\u001b[0m\u001b[0mX\u001b[0m\u001b[0;34m\u001b[0m\u001b[0;34m\u001b[0m\u001b[0m\n\u001b[0m\u001b[1;32m     23\u001b[0m \u001b[0;34m\u001b[0m\u001b[0m\n\u001b[1;32m     24\u001b[0m         \u001b[0;32mif\u001b[0m \u001b[0mx_ub\u001b[0m \u001b[0;34m<\u001b[0m \u001b[0;36m0.005\u001b[0m\u001b[0;34m:\u001b[0m\u001b[0;34m\u001b[0m\u001b[0;34m\u001b[0m\u001b[0m\n",
      "\u001b[0;32mvar.pxi\u001b[0m in \u001b[0;36mgurobipy.Var.__getattr__\u001b[0;34m()\u001b[0m\n",
      "\u001b[0;32mvar.pxi\u001b[0m in \u001b[0;36mgurobipy.Var.getAttr\u001b[0;34m()\u001b[0m\n",
      "\u001b[0;31mAttributeError\u001b[0m: b\"Unable to retrieve attribute 'X'\""
     ]
    }
   ],
   "source": [
    "%time analyze_v2(netname, epsilon, specname)"
   ]
  },
  {
   "cell_type": "code",
   "execution_count": 217,
   "metadata": {},
   "outputs": [
    {
     "data": {
      "text/plain": [
       "(array([0.        , 0.        , 5.75801389, 0.        , 0.        ,\n",
       "        0.        , 0.73831468, 0.        , 0.        , 0.        ]),\n",
       " array([1.49994974, 2.61307405, 9.82515045, 2.00842248, 0.        ,\n",
       "        2.41630195, 4.91897979, 0.        , 0.        , 0.        ]))"
      ]
     },
     "execution_count": 217,
     "metadata": {},
     "output_type": "execute_result"
    }
   ],
   "source": [
    "iobj = None\n",
    "verified = False\n",
    "nn, LB_N0, UB_N0, label = load_problem(netname, epsilon, specname)\n",
    "\n",
    "varis = {}\n",
    "keepers_all = {}\n",
    "\n",
    "if iobj is None:\n",
    "    iobj = initialize_box(nn, LB_N0, UB_N0, label)\n",
    "    #if prove(*iobj.get_bounds(layer_k=nn.numlayer),label)[1]: return True, iobj, relu_bins, 0, label\n",
    "\n",
    "#set up gurobi model\n",
    "model = Model(\"net\")\n",
    "model.setParam('OutputFlag', False)\n",
    "\n",
    "#add layer 0\n",
    "for dim_n in range(len(LB_N0)):\n",
    "    x_0n  = model.addVar(LB_N0[dim_n], UB_N0[dim_n], name=\"x_0_\"+str(dim_n))\n",
    "    # Add the input variables to variable dict for later access under name x_0_n\n",
    "    varis['x_0_'+str(dim_n)] = x_0n\n",
    "        \n",
    "#add layer 1:\n",
    "#Find relevant relus:\n",
    "add_layer(1, nn, iobj, varis, keepers_all)\n",
    "\n",
    "#add layer 2:\n",
    "add_layer(2, nn, iobj, varis, keepers_all, with_opt=True)\n",
    "iobj.fit(nn,2)\n",
    "#if prove(*iobj.get_bounds(layer_k=nn.numlayer),label)[1]: return True, iobj, relu_bins, layer_k, label"
   ]
  },
  {
   "cell_type": "code",
   "execution_count": 249,
   "metadata": {},
   "outputs": [],
   "source": [
    "def update_layer(layer_k, nn, iobj, varis, keepers_all, with_opt=True):\n",
    "    '''Still todo'''\n",
    "    print('*')\n",
    "    W = nn.weights[layer_k]\n",
    "    xl, xu = iobj.get_bounds(layer_k)\n",
    "    keepers = get_relevant_relus(W, xu, keep_perc)\n",
    "    keepers_all[layer_k] = keepers\n",
    "    print('*')"
   ]
  },
  {
   "cell_type": "code",
   "execution_count": 264,
   "metadata": {},
   "outputs": [],
   "source": [
    "def add_layer(layer_k, nn, iobj, varis, keepers_all, with_opt = False, keep_perc = 0.1):\n",
    "    #add layer k:\n",
    "    #Find relevant relus:\n",
    "    W = nn.weights[layer_k]\n",
    "    xl, xu = iobj.get_bounds(layer_k)\n",
    "    keepers = get_relevant_relus(W, xu, keep_perc)\n",
    "    keepers_all[layer_k] = keepers\n",
    "\n",
    "    #add relevant relus:\n",
    "    layer_type, weights, biases = get_layer(layer_k-1, nn)\n",
    "    out_dim, in_dim = weights.shape\n",
    "    hl, hu = iobj.get_logit_bounds(layer_k-1)\n",
    "    xl, xu = iobj.get_bounds(layer_k)\n",
    "    assert hl.size == out_dim\n",
    "    assert xl.size == out_dim       # The x's are ReLU(h)\n",
    "\n",
    "    for dim_m in range(len(xu)):\n",
    "        if xu[dim_m] <= 0:\n",
    "            varis['x_'+str(layer_k)+'_'+str(dim_m)] = 0 \n",
    "            continue\n",
    "\n",
    "        ws = weights[dim_m,:]  #one row of weights\n",
    "        b  = biases[dim_m]\n",
    "\n",
    "        if dim_m in keepers:\n",
    "            h_km = LinExpr(b)\n",
    "            for dim_n in range(in_dim):\n",
    "                h_km.add( ws[dim_n] * varis['x_'+str(layer_k-1)+'_'+str(dim_n)] )\n",
    "\n",
    "            # Activation\n",
    "            if layer_type == 'ReLU':\n",
    "                x_km, flag, constraints = relu_split(model, layer_k, dim_m, \n",
    "                                                  h_lb=hl[dim_m], h_ub=hu[dim_m], x_lb=xl[dim_m], x_ub=xu[dim_m], \n",
    "                                                  h_km=h_km) \n",
    "            \n",
    "            if with_opt:\n",
    "                out_ws = np.array(nn.weights[layer_k])[:,dim_m]\n",
    "                max_out_weight = max(abs(out_ws))\n",
    "\n",
    "                new_lb, new_ub = tighten_bounds(model, x_km, flag, xl[dim_m], xu[dim_m], hl[dim_m], h_km, constraints,\n",
    "                                               abs_tol= layer_k**3/(100*max_out_weight*len(keepers)) )\n",
    "                \n",
    "                assert new_lb >= xl[dim_m] - 1e-7\n",
    "                assert new_ub <= xu[dim_m] + 1e-7\n",
    "\n",
    "                #UPDATE Layer k\n",
    "                iobj.intervals['xl_'+str(layer_k)][dim_m] = new_lb\n",
    "                iobj.intervals['xu_'+str(layer_k)][dim_m] = new_ub\n",
    "                \n",
    "        else:\n",
    "            x_km  = model.addVar(xl[dim_m], xu[dim_m], name='x_'+str(layer_k)+'_'+str(dim_m))\n",
    "        varis['x_'+str(layer_k)+'_'+str(dim_m)] = x_km \n",
    "    "
   ]
  },
  {
   "cell_type": "code",
   "execution_count": 265,
   "metadata": {},
   "outputs": [],
   "source": [
    "def get_relevant_relus(W, xu, keep_perc=0.2):\n",
    "    keepers = np.array([])\n",
    "    out_dim , in_dim = W.shape\n",
    "    for i in range(out_dim):\n",
    "        summands = abs(W[i,:] * xu)\n",
    "        max_contribution = max(summands)\n",
    "\n",
    "        keepers = np.union1d(keepers, np.nonzero(summands >= keep_perc * max_contribution)[0])\n",
    "    print('Fraction kept:', len(keepers)/in_dim)\n",
    "    return keepers.astype(int)"
   ]
  },
  {
   "cell_type": "code",
   "execution_count": 157,
   "metadata": {},
   "outputs": [],
   "source": [
    "def get_layer(layer_k, nn):\n",
    "    # Get weights, biases & layertype from nn\n",
    "    layer_type = nn.layertypes[layer_k]\n",
    "    weights = np.array(nn.weights[layer_k])\n",
    "    biases = np.array(nn.biases[layer_k])\n",
    "    \n",
    "    return layer_type, weights, biases"
   ]
  },
  {
   "cell_type": "code",
   "execution_count": null,
   "metadata": {},
   "outputs": [],
   "source": [
    "netname = 'mnist_nets/mnist_relu_6_200.txt'\n",
    "epsilon = 0.01\n",
    "specname = 'mnist_images/img1.txt'"
   ]
  },
  {
   "cell_type": "code",
   "execution_count": 144,
   "metadata": {},
   "outputs": [
    {
     "data": {
      "text/plain": [
       "135"
      ]
     },
     "execution_count": 144,
     "metadata": {},
     "output_type": "execute_result"
    }
   ],
   "source": [
    "%%time "
   ]
  }
 ],
 "metadata": {
  "kernelspec": {
   "display_name": "Python 3",
   "language": "python",
   "name": "python3"
  },
  "language_info": {
   "codemirror_mode": {
    "name": "ipython",
    "version": 3
   },
   "file_extension": ".py",
   "mimetype": "text/x-python",
   "name": "python",
   "nbconvert_exporter": "python",
   "pygments_lexer": "ipython3",
   "version": "3.6.7"
  }
 },
 "nbformat": 4,
 "nbformat_minor": 2
}
