{
 "cells": [
  {
   "cell_type": "markdown",
   "metadata": {},
   "source": [
    "# Building a Robot Judge 2019 - Problem Set\n",
    "Author: Simon Schaefer"
   ]
  },
  {
   "cell_type": "markdown",
   "metadata": {},
   "source": [
    "### Problem Set III"
   ]
  },
  {
   "cell_type": "code",
   "execution_count": 8,
   "metadata": {},
   "outputs": [
    {
     "data": {
      "text/html": [
       "<div>\n",
       "<style scoped>\n",
       "    .dataframe tbody tr th:only-of-type {\n",
       "        vertical-align: middle;\n",
       "    }\n",
       "\n",
       "    .dataframe tbody tr th {\n",
       "        vertical-align: top;\n",
       "    }\n",
       "\n",
       "    .dataframe thead th {\n",
       "        text-align: right;\n",
       "    }\n",
       "</style>\n",
       "<table border=\"1\" class=\"dataframe\">\n",
       "  <thead>\n",
       "    <tr style=\"text-align: right;\">\n",
       "      <th></th>\n",
       "      <th>caseid</th>\n",
       "      <th>case_reversed</th>\n",
       "      <th>judge_id</th>\n",
       "      <th>year</th>\n",
       "      <th>x_republican</th>\n",
       "      <th>log_cites</th>\n",
       "      <th>text</th>\n",
       "    </tr>\n",
       "  </thead>\n",
       "  <tbody>\n",
       "    <tr>\n",
       "      <th>18</th>\n",
       "      <td>X3U0CQ</td>\n",
       "      <td>0</td>\n",
       "      <td>1231.0</td>\n",
       "      <td>1925.0</td>\n",
       "      <td>1.0</td>\n",
       "      <td>1.609438</td>\n",
       "      <td>LEWIS , Circuit Judge.\\nThe appellant filed i...</td>\n",
       "    </tr>\n",
       "    <tr>\n",
       "      <th>29</th>\n",
       "      <td>X3CETE</td>\n",
       "      <td>0</td>\n",
       "      <td>37.0</td>\n",
       "      <td>1926.0</td>\n",
       "      <td>0.0</td>\n",
       "      <td>2.302585</td>\n",
       "      <td>ANDERSON , Circuit Judge.\\nOn an information ...</td>\n",
       "    </tr>\n",
       "    <tr>\n",
       "      <th>61</th>\n",
       "      <td>X3LJ7C</td>\n",
       "      <td>0</td>\n",
       "      <td>2131.0</td>\n",
       "      <td>1928.0</td>\n",
       "      <td>1.0</td>\n",
       "      <td>1.098612</td>\n",
       "      <td>VAN VALKENBURGH , Circuit Judge.\\nOn the 8th ...</td>\n",
       "    </tr>\n",
       "    <tr>\n",
       "      <th>110</th>\n",
       "      <td>X2D6MI</td>\n",
       "      <td>0</td>\n",
       "      <td>1299.0</td>\n",
       "      <td>1930.0</td>\n",
       "      <td>0.0</td>\n",
       "      <td>2.197225</td>\n",
       "      <td>MANTON , Circuit Judge.\\nPrior to March 1, 19...</td>\n",
       "    </tr>\n",
       "    <tr>\n",
       "      <th>116</th>\n",
       "      <td>X3M3KP</td>\n",
       "      <td>0</td>\n",
       "      <td>1795.0</td>\n",
       "      <td>1930.0</td>\n",
       "      <td>1.0</td>\n",
       "      <td>1.098612</td>\n",
       "      <td>RUDKIN , Circuit Judge.\\nThis was a proceedin...</td>\n",
       "    </tr>\n",
       "  </tbody>\n",
       "</table>\n",
       "</div>"
      ],
      "text/plain": [
       "     caseid  case_reversed  judge_id    year  x_republican  log_cites  \\\n",
       "18   X3U0CQ              0    1231.0  1925.0           1.0   1.609438   \n",
       "29   X3CETE              0      37.0  1926.0           0.0   2.302585   \n",
       "61   X3LJ7C              0    2131.0  1928.0           1.0   1.098612   \n",
       "110  X2D6MI              0    1299.0  1930.0           0.0   2.197225   \n",
       "116  X3M3KP              0    1795.0  1930.0           1.0   1.098612   \n",
       "\n",
       "                                                  text  \n",
       "18    LEWIS , Circuit Judge.\\nThe appellant filed i...  \n",
       "29    ANDERSON , Circuit Judge.\\nOn an information ...  \n",
       "61    VAN VALKENBURGH , Circuit Judge.\\nOn the 8th ...  \n",
       "110   MANTON , Circuit Judge.\\nPrior to March 1, 19...  \n",
       "116   RUDKIN , Circuit Judge.\\nThis was a proceedin...  "
      ]
     },
     "execution_count": 8,
     "metadata": {},
     "output_type": "execute_result"
    }
   ],
   "source": [
    "import glob\n",
    "import os\n",
    "import pandas\n",
    "\n",
    "# Loading text data and reversed flags to dataframe. The data are assumed to be in \n",
    "# the DATA_PATH directory, i.e. the description file as \"case_reversed.csv\" and the \n",
    "# texts in the subdirectory \"cases/\". \n",
    "DATA_PATH = \"../data/\"\n",
    "cases_df  = pandas.read_csv(DATA_PATH + \"case_metadata.csv\") \n",
    "cases_df  = cases_df.sample(n=min(500, len(cases_df)))  # due to low performance of my laptop\n",
    "cases_df  = cases_df.dropna()\n",
    "cases_df  = cases_df.sort_index()\n",
    "texts = []\n",
    "for x in cases_df['caseid']: \n",
    "    file_path = glob.glob(DATA_PATH + \"cases/*\" + str(x) + \".txt\")\n",
    "    assert len(file_path) == 1\n",
    "    file_path = file_path[0]\n",
    "    f = open(file_path, 'r')\n",
    "    texts.append(f.read())\n",
    "cases_df['text'] = texts\n",
    "del texts\n",
    "cases_df.head()"
   ]
  },
  {
   "cell_type": "code",
   "execution_count": 9,
   "metadata": {},
   "outputs": [],
   "source": [
    "import spacy\n",
    "\n",
    "nlp = spacy.load('en') # loading the language model \n",
    "\n",
    "def clean_up(text): \n",
    "    removal=['ADV','PRON','CCONJ','PUNCT','PART','DET','ADP','SPACE']\n",
    "    text_out = []\n",
    "    doc= nlp(text)\n",
    "    for token in doc:\n",
    "        if token.is_stop == False and token.is_alpha and len(token)>2 and token.pos_ not in removal:\n",
    "            lemma = str(token).lower()\n",
    "            text_out.append(lemma)\n",
    "    return text_out\n",
    "    \n",
    "cases_df['text'] = cases_df.text.apply(lambda x:clean_up(x))"
   ]
  },
  {
   "cell_type": "code",
   "execution_count": 10,
   "metadata": {},
   "outputs": [
    {
     "data": {
      "text/plain": [
       "<matplotlib.legend.Legend at 0x126d87550>"
      ]
     },
     "execution_count": 10,
     "metadata": {},
     "output_type": "execute_result"
    },
    {
     "data": {
      "image/png": "[encoded data removed]",
      "text/plain": [
       "<Figure size 432x288 with 1 Axes>"
      ]
     },
     "metadata": {
      "needs_background": "light"
     },
     "output_type": "display_data"
    }
   ],
   "source": [
    "from gensim.models import Word2Vec\n",
    "import matplotlib.pyplot as plt\n",
    "import numpy as np\n",
    "from random import randint\n",
    "\n",
    "# Train two word2vec models - 1) small window 2) large window. \n",
    "size = 2\n",
    "model_sw = Word2Vec(cases_df['text'], size=size, window=2, min_count=1, workers=4)\n",
    "model_lw = Word2Vec(cases_df['text'], size=size, window=16, min_count=1, workers=4)\n",
    "\n",
    "# Generate random set of words. \n",
    "test_words = []\n",
    "while len(test_words) < 100: \n",
    "    row = cases_df.sample(n=1)['text'].tolist()[0]\n",
    "    ti = randint(0, len(row)-1)\n",
    "    test_words.append(row[ti])\n",
    "    \n",
    "# Apply models to random test words set. \n",
    "sw_vecs, lw_vecs = np.zeros((len(test_words),size)), np.zeros((len(test_words),size))\n",
    "for iw, word in enumerate(test_words): \n",
    "    sw_vecs[iw,:] = model_sw.wv[word]\n",
    "    lw_vecs[iw,:] = model_lw.wv[word]\n",
    "    \n",
    "# Plot vector sets. \n",
    "plt.plot(sw_vecs[:,0], sw_vecs[:,1], 'r*', label='short_window')\n",
    "plt.plot(lw_vecs[:,0], lw_vecs[:,1], 'go', label='large_window')\n",
    "plt.legend()"
   ]
  },
  {
   "cell_type": "markdown",
   "metadata": {},
   "source": [
    "For Word2Vec models larger window sizes tend to capture more domain information while smaller window sizes usually learn more about the word itself, e.g. similar words. Depending on the data distribution a larger window size also may pull the embedded vectors tighter together, especially if there are words occuring in a lot of training samples. For this reason stopwords has been removed before training. However, in the example above, in which the word2vec models are trained in one dataset only, the smaller window size leads to a larger density (and accordingly smaller spreading) of the words in the embedded space. Therefore, in the cases dataset very similar words seem to occur but very different topic/domains seem to be dealt with. As similarity measure the cosine similarty is used. "
   ]
  },
  {
   "cell_type": "code",
   "execution_count": 11,
   "metadata": {},
   "outputs": [
    {
     "data": {
      "image/png": "[encoded data removed]",
      "text/plain": [
       "<Figure size 432x288 with 1 Axes>"
      ]
     },
     "metadata": {
      "needs_background": "light"
     },
     "output_type": "display_data"
    },
    {
     "data": {
      "image/png": "[encoded data removed]",
      "text/plain": [
       "<Figure size 432x288 with 1 Axes>"
      ]
     },
     "metadata": {
      "needs_background": "light"
     },
     "output_type": "display_data"
    }
   ],
   "source": [
    "import matplotlib.pyplot as plt\n",
    "import numpy as np\n",
    "\n",
    "dem_df = cases_df[cases_df['x_republican'] == False]\n",
    "rep_df = cases_df[cases_df['x_republican'] == True]\n",
    "\n",
    "# Kozlowski et al 2018: Analyse the shifts between ethnology related words in several coordinates by party.\n",
    "def get_nn_coord(vec, comp_vecs): \n",
    "    assert comp_vecs.shape[0] == 2\n",
    "    assert vec.shape[0] == comp_vecs.shape[1] \n",
    "    dist_0 = np.linalg.norm(vec - comp_vecs[0,:])\n",
    "    dist_1 = np.linalg.norm(vec - comp_vecs[1,:])\n",
    "    return np.dot(vec - comp_vecs[0,:], vec - comp_vecs[1,:])/(dist_0*dist_1)\n",
    "\n",
    "model_dem = Word2Vec(dem_df['text'], size=20, window=16, min_count=1, workers=4)\n",
    "model_rep = Word2Vec(rep_df['text'], size=20, window=16, min_count=1, workers=4)\n",
    "\n",
    "def plot_cat_shifts(base_words, cat1_words, cat2_words, cat1, cat2): \n",
    "    na_coords = np.zeros((2,len(base_words),2))\n",
    "    for im, model in enumerate([model_dem, model_rep]): \n",
    "        cat1_vecs = np.asarray([model.wv[cat1_words[0]], model.wv[cat1_words[1]]])\n",
    "        cat2_vecs  = np.asarray([model.wv[cat2_words[0]], model.wv[cat2_words[1]]])\n",
    "        for iw, word in enumerate(base_words): \n",
    "            vec = model.wv[word]\n",
    "            na_coords[im, iw, 0] = get_nn_coord(vec, cat1_vecs)\n",
    "            na_coords[im, iw, 1] = get_nn_coord(vec, cat2_vecs)\n",
    "\n",
    "    plt.figure()\n",
    "    plt.plot(na_coords[0,:,0],na_coords[0,:,1], 'ro', label=\"democrats\")\n",
    "    plt.plot(na_coords[1,:,0],na_coords[1,:,1], 'bx', label=\"republicans\")\n",
    "    plt.plot(na_coords[:,:,0], na_coords[:,:,1], 'k-')\n",
    "    for iw, word in enumerate(base_words): \n",
    "        plt.text(na_coords[0,iw,0],na_coords[0,iw,1],word)\n",
    "    plt.xlabel(cat1_words[0] + \"<- \\t\" + cat1 + \"\\t ->\" + cat1_words[1])\n",
    "    plt.ylabel(cat2_words[0] + \"<- \\t\" + cat2 + \"\\t ->\" + cat2_words[1])\n",
    "    plt.legend()\n",
    "\n",
    "ethnology_words = [\"american\", \"mexican\", \"african\"] \n",
    "# not in voc: hispanoamerican, afroamerican, asian, hispanic, latino, italian\n",
    "\n",
    "cat1_words = [\"poor\", \"rich\"]\n",
    "cat2_words = [\"unknown\", \"famous\"]\n",
    "plot_cat_shifts(ethnology_words, cat1_words, cat2_words, cat1=\"Class\", cat2=\"Famous\")\n",
    "\n",
    "cat1_words = [\"poor\", \"rich\"]\n",
    "cat2_words = [\"lawful\", \"criminal\"]\n",
    "plot_cat_shifts(ethnology_words, cat1_words, cat2_words, cat1=\"Class\", cat2=\"Criminality\")"
   ]
  },
  {
   "cell_type": "markdown",
   "metadata": {},
   "source": [
    "The results fit pretty well to the \"stereotypic\" opinion about both of the party's attitudes about ethnicities, (native) americans are richer and less criminal than other ethnicities, according to the republicans, while democrats seems to see it a little less polalized (although still having some bias). "
   ]
  },
  {
   "cell_type": "code",
   "execution_count": 43,
   "metadata": {},
   "outputs": [
    {
     "data": {
      "text/html": [
       "<div>\n",
       "<style scoped>\n",
       "    .dataframe tbody tr th:only-of-type {\n",
       "        vertical-align: middle;\n",
       "    }\n",
       "\n",
       "    .dataframe tbody tr th {\n",
       "        vertical-align: top;\n",
       "    }\n",
       "\n",
       "    .dataframe thead th {\n",
       "        text-align: right;\n",
       "    }\n",
       "</style>\n",
       "<table border=\"1\" class=\"dataframe\">\n",
       "  <thead>\n",
       "    <tr style=\"text-align: right;\">\n",
       "      <th></th>\n",
       "      <th>caseid</th>\n",
       "      <th>case_reversed</th>\n",
       "      <th>judge_id</th>\n",
       "      <th>year</th>\n",
       "      <th>x_republican</th>\n",
       "      <th>log_cites</th>\n",
       "      <th>text</th>\n",
       "      <th>features</th>\n",
       "    </tr>\n",
       "  </thead>\n",
       "  <tbody>\n",
       "    <tr>\n",
       "      <th>18</th>\n",
       "      <td>X3U0CQ</td>\n",
       "      <td>0</td>\n",
       "      <td>1231.0</td>\n",
       "      <td>1925.0</td>\n",
       "      <td>1.0</td>\n",
       "      <td>1.609438</td>\n",
       "      <td>[lewis, circuit, judge, appellant, filed, comp...</td>\n",
       "      <td>[[1.0], [1.0], [2.0], [10.0], [3.0], [2.0], [3...</td>\n",
       "    </tr>\n",
       "    <tr>\n",
       "      <th>29</th>\n",
       "      <td>X3CETE</td>\n",
       "      <td>0</td>\n",
       "      <td>37.0</td>\n",
       "      <td>1926.0</td>\n",
       "      <td>0.0</td>\n",
       "      <td>2.302585</td>\n",
       "      <td>[anderson, circuit, judge, information, counts...</td>\n",
       "      <td>[[0.0], [3.0], [2.0], [0.0], [0.0], [0.0], [1....</td>\n",
       "    </tr>\n",
       "    <tr>\n",
       "      <th>61</th>\n",
       "      <td>X3LJ7C</td>\n",
       "      <td>0</td>\n",
       "      <td>2131.0</td>\n",
       "      <td>1928.0</td>\n",
       "      <td>1.0</td>\n",
       "      <td>1.098612</td>\n",
       "      <td>[van, valkenburgh, circuit, judge, day, octobe...</td>\n",
       "      <td>[[1.0], [1.0], [1.0], [1.0], [1.0], [1.0], [2....</td>\n",
       "    </tr>\n",
       "    <tr>\n",
       "      <th>110</th>\n",
       "      <td>X2D6MI</td>\n",
       "      <td>0</td>\n",
       "      <td>1299.0</td>\n",
       "      <td>1930.0</td>\n",
       "      <td>0.0</td>\n",
       "      <td>2.197225</td>\n",
       "      <td>[manton, circuit, judge, march, march, petitio...</td>\n",
       "      <td>[[0.0], [1.0], [1.0], [0.0], [0.0], [0.0], [0....</td>\n",
       "    </tr>\n",
       "    <tr>\n",
       "      <th>116</th>\n",
       "      <td>X3M3KP</td>\n",
       "      <td>0</td>\n",
       "      <td>1795.0</td>\n",
       "      <td>1930.0</td>\n",
       "      <td>1.0</td>\n",
       "      <td>1.098612</td>\n",
       "      <td>[rudkin, circuit, judge, proceeding, informati...</td>\n",
       "      <td>[[0.0], [3.0], [5.0], [0.0], [0.0], [0.0], [4....</td>\n",
       "    </tr>\n",
       "  </tbody>\n",
       "</table>\n",
       "</div>"
      ],
      "text/plain": [
       "     caseid  case_reversed  judge_id    year  x_republican  log_cites  \\\n",
       "18   X3U0CQ              0    1231.0  1925.0           1.0   1.609438   \n",
       "29   X3CETE              0      37.0  1926.0           0.0   2.302585   \n",
       "61   X3LJ7C              0    2131.0  1928.0           1.0   1.098612   \n",
       "110  X2D6MI              0    1299.0  1930.0           0.0   2.197225   \n",
       "116  X3M3KP              0    1795.0  1930.0           1.0   1.098612   \n",
       "\n",
       "                                                  text  \\\n",
       "18   [lewis, circuit, judge, appellant, filed, comp...   \n",
       "29   [anderson, circuit, judge, information, counts...   \n",
       "61   [van, valkenburgh, circuit, judge, day, octobe...   \n",
       "110  [manton, circuit, judge, march, march, petitio...   \n",
       "116  [rudkin, circuit, judge, proceeding, informati...   \n",
       "\n",
       "                                              features  \n",
       "18   [[1.0], [1.0], [2.0], [10.0], [3.0], [2.0], [3...  \n",
       "29   [[0.0], [3.0], [2.0], [0.0], [0.0], [0.0], [1....  \n",
       "61   [[1.0], [1.0], [1.0], [1.0], [1.0], [1.0], [2....  \n",
       "110  [[0.0], [1.0], [1.0], [0.0], [0.0], [0.0], [0....  \n",
       "116  [[0.0], [3.0], [5.0], [0.0], [0.0], [0.0], [4....  "
      ]
     },
     "execution_count": 43,
     "metadata": {},
     "output_type": "execute_result"
    }
   ],
   "source": [
    "# Extracting text features (word counts). \n",
    "from collections import Counter\n",
    "from itertools import chain\n",
    "import numpy as np\n",
    "\n",
    "unique_words  = list(Counter(list(chain(*cases_df['text']))).keys())\n",
    "unique_dict   = {unique_words[i]: i for i in range(len(unique_words))}\n",
    "\n",
    "def word_count(x): \n",
    "    X = np.zeros((len(unique_words),1))\n",
    "    for k,v in Counter(x).items(): X[unique_dict[k]] = v\n",
    "    return X\n",
    "\n",
    "cases_df['features'] = cases_df.text.apply(lambda x:word_count(x))\n",
    "cases_df.head()"
   ]
  },
  {
   "cell_type": "markdown",
   "metadata": {},
   "source": [
    "In the following the effect of the political party on reversals will be analysed while holding text features constant, using the double ML method which was proposed by Chernozhukov et al (2017). The double ML method there is assumed to be a high-dimensional set of observed cofounders A, which effect both the variable T and the output Y which is \n",
    "\n",
    "$$ Y = \\theta * T + g(A) + \\epsilon $$\n",
    "\n",
    "In the analysed use case we want to predict the effect of the political party (T) on the reversals (Y). As shown above the political party does have an influence on which words are used and it is assumed that they are also affecting the reversals (which is shown later on). As text feature a simple word count of the preprocessed texts is used. For better performance sample split with a half-half split is used. "
   ]
  },
  {
   "cell_type": "code",
   "execution_count": 73,
   "metadata": {},
   "outputs": [
    {
     "name": "stdout",
     "output_type": "stream",
     "text": [
      "[0.01254384]\n"
     ]
    }
   ],
   "source": [
    "import numpy as np\n",
    "from sklearn.linear_model import LinearRegression\n",
    "\n",
    "A = cases_df['features'].values\n",
    "A = np.vstack(A)\n",
    "A = np.reshape(A, (len(cases_df), len(unique_words)))\n",
    "Y = cases_df['case_reversed'].values\n",
    "T = cases_df['x_republican'].values\n",
    "\n",
    "num_split = len(cases_df)//2\n",
    "Aa = A[:num_split,:]; Ya = Y[:num_split]; Ta = T[:num_split]\n",
    "Ab = A[num_split:,:]; Yb = Y[num_split:]; Tb = T[num_split:]\n",
    "\n",
    "#1) Predict Y given A: Y_hat(A), and T given A: T_hat(A) using OLS.\n",
    "Y_hat_A_a = LinearRegression().fit(Aa, Ya)\n",
    "T_hat_A_a = LinearRegression().fit(Aa, Ta)\n",
    "Y_hat_A_b = LinearRegression().fit(Ab, Yb)\n",
    "T_hat_A_b = LinearRegression().fit(Ab, Tb)\n",
    "\n",
    "#2) Form residuals Y_tilde = Y − Y_hat(A) and T_tilde = T − T_hat(A). \n",
    "Y_tilde_a = Ya - Y_hat_A_b.predict(Aa)\n",
    "T_tilde_a = Ta - T_hat_A_b.predict(Aa)\n",
    "Y_tilde_b = Yb - Y_hat_A_a.predict(Ab)\n",
    "T_tilde_b = Tb - T_hat_A_a.predict(Ab)\n",
    "\n",
    "#3) Regress Y_tilde on T_tilde to learn θ_hat.\n",
    "Y_tilde_a = np.reshape(Y_tilde_a, (num_split,1))\n",
    "Y_tilde_b = np.reshape(Y_tilde_b, (num_split,1))\n",
    "theta_hat_a = LinearRegression().fit(Y_tilde_a, T_tilde_a)\n",
    "theta_hat_b = LinearRegression().fit(Y_tilde_b, T_tilde_b)\n",
    "theta_hat = (theta_hat_a.coef_ + theta_hat_b.coef_)/2.0\n",
    "print(theta_hat)"
   ]
  },
  {
   "cell_type": "markdown",
   "metadata": {},
   "source": [
    "As shown above the party has a slightly positive effect on reversals, i.e. the more republican the judge is the more likely a reversal is."
   ]
  }
 ],
 "metadata": {
  "kernelspec": {
   "display_name": "Python 3",
   "language": "python",
   "name": "python3"
  },
  "language_info": {
   "codemirror_mode": {
    "name": "ipython",
    "version": 3
   },
   "file_extension": ".py",
   "mimetype": "text/x-python",
   "name": "python",
   "nbconvert_exporter": "python",
   "pygments_lexer": "ipython3",
   "version": "3.7.3"
  }
 },
 "nbformat": 4,
 "nbformat_minor": 2
}
